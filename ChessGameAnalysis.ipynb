{
 "cells": [
  {
   "cell_type": "markdown",
   "id": "cbd4f79e",
   "metadata": {},
   "source": [
    "Chess Game Result Analysis - 401 Project\n",
    "\n",
    "Berkay Yıldız - 201104087 \n",
    "\n",
    "Zeynep Meriç Aşık - 201410026"
   ]
  },
  {
   "cell_type": "markdown",
   "id": "7b2d9bd7",
   "metadata": {},
   "source": [
    "# Importing the Dependencies"
   ]
  },
  {
   "cell_type": "code",
   "execution_count": 1,
   "id": "6256a0ea",
   "metadata": {},
   "outputs": [],
   "source": [
    "#!pip install -r requirements.txt"
   ]
  },
  {
   "cell_type": "code",
   "execution_count": 2,
   "id": "9788e856",
   "metadata": {},
   "outputs": [],
   "source": [
    "import numpy as np\n",
    "import pandas as pd\n",
    "import matplotlib.pyplot as plt\n",
    "import sklearn\n",
    "%matplotlib inline\n",
    "import seaborn as sns\n",
    "\n",
    "from random import random\n",
    "import math\n",
    "from pyspark import SparkContext\n",
    "import re\n",
    "from pyspark.sql import functions"
   ]
  },
  {
   "cell_type": "code",
   "execution_count": 3,
   "id": "766ed1f8",
   "metadata": {},
   "outputs": [],
   "source": [
    "from pyspark.sql import SQLContext, SparkSession\n",
    "from pyspark.conf import SparkConf"
   ]
  },
  {
   "cell_type": "code",
   "execution_count": 4,
   "id": "2221b472",
   "metadata": {},
   "outputs": [],
   "source": [
    "from pyspark.ml.linalg import DenseMatrix, Vectors\n",
    "from pyspark.ml.stat import Correlation\n",
    "from pyspark.ml.feature import MinMaxScaler, VectorAssembler, StringIndexer\n",
    "from pyspark.ml.classification import RandomForestClassifier as RFC\n",
    "from pyspark.mllib.linalg import SparseVector\n",
    "from pyspark.mllib.regression import LabeledPoint\n",
    "from pyspark.ml.evaluation import MulticlassClassificationEvaluator\n",
    "from pyspark.ml.tuning import CrossValidator, ParamGridBuilder\n",
    "import pyspark.sql.functions as F\n",
    "from pyspark.sql.types import FloatType\n",
    "from pyspark.mllib.evaluation import MulticlassMetrics\n",
    "\n",
    "from pyspark.sql.functions import isnan, when, count, col, isnull, concat_ws, split"
   ]
  },
  {
   "cell_type": "code",
   "execution_count": 5,
   "id": "fd86339a",
   "metadata": {},
   "outputs": [],
   "source": [
    "spark = SparkSession.builder.master(\"local[*]\").getOrCreate()"
   ]
  },
  {
   "cell_type": "code",
   "execution_count": 20,
   "id": "ad46f3c6",
   "metadata": {},
   "outputs": [
    {
     "data": {
      "text/html": [
       "\n",
       "        <div>\n",
       "            <p><b>SparkContext</b></p>\n",
       "\n",
       "            <p><a href=\"http://LAPTOP-RQ65CPGC:4040\">Spark UI</a></p>\n",
       "\n",
       "            <dl>\n",
       "              <dt>Version</dt>\n",
       "                <dd><code>v3.5.0</code></dd>\n",
       "              <dt>Master</dt>\n",
       "                <dd><code>local[*]</code></dd>\n",
       "              <dt>AppName</dt>\n",
       "                <dd><code>pyspark-shell</code></dd>\n",
       "            </dl>\n",
       "        </div>\n",
       "        "
      ],
      "text/plain": [
       "<SparkContext master=local[*] appName=pyspark-shell>"
      ]
     },
     "execution_count": 20,
     "metadata": {},
     "output_type": "execute_result"
    }
   ],
   "source": [
    "sc = spark.sparkContext\n",
    "sc"
   ]
  },
  {
   "cell_type": "code",
   "execution_count": 21,
   "id": "a233d135",
   "metadata": {},
   "outputs": [
    {
     "name": "stderr",
     "output_type": "stream",
     "text": [
      "c:\\users\\asus\\appdata\\local\\programs\\python\\python39\\lib\\site-packages\\pyspark\\sql\\context.py:113: FutureWarning: Deprecated in 3.0.0. Use SparkSession.builder.getOrCreate() instead.\n",
      "  warnings.warn(\n"
     ]
    },
    {
     "data": {
      "text/plain": [
       "<pyspark.sql.context.SQLContext at 0x18479ab7ee0>"
      ]
     },
     "execution_count": 21,
     "metadata": {},
     "output_type": "execute_result"
    }
   ],
   "source": [
    "sqlContext = SQLContext(spark.sparkContext)\n",
    "sqlContext"
   ]
  },
  {
   "cell_type": "code",
   "execution_count": 6,
   "id": "6f6772fb",
   "metadata": {},
   "outputs": [],
   "source": [
    "games = spark.read.format(\"csv\").load(\"games.csv\", header='true', inferSchema='true',  multiline = True)"
   ]
  },
  {
   "cell_type": "code",
   "execution_count": 47,
   "id": "bd7efc89",
   "metadata": {},
   "outputs": [
    {
     "name": "stdout",
     "output_type": "stream",
     "text": [
      "+--------+-----+----------+------------+-----+--------------+------+--------------+--------+------------+--------+------------+--------------------+-----------+--------------------+-----------+\n",
      "|      id|rated|created_at|last_move_at|turns|victory_status|winner|increment_code|white_id|white_rating|black_id|black_rating|               moves|opening_eco|        opening_name|opening_ply|\n",
      "+--------+-----+----------+------------+-----+--------------+------+--------------+--------+------------+--------+------------+--------------------+-----------+--------------------+-----------+\n",
      "|TZJHLljE|false|1.50421E12|  1.50421E12|   13|     outoftime| white|          15+2|bourgris|        1500|    a-00|        1191|d4 d5 c4 c6 cxd5 ...|        D10|Slav Defense: Exc...|          5|\n",
      "+--------+-----+----------+------------+-----+--------------+------+--------------+--------+------------+--------+------------+--------------------+-----------+--------------------+-----------+\n",
      "only showing top 1 row\n",
      "\n"
     ]
    }
   ],
   "source": [
    "games.show(1)"
   ]
  },
  {
   "cell_type": "code",
   "execution_count": 8,
   "id": "45ff0ee2",
   "metadata": {},
   "outputs": [
    {
     "name": "stdout",
     "output_type": "stream",
     "text": [
      "root\n",
      " |-- id: string (nullable = true)\n",
      " |-- rated: boolean (nullable = true)\n",
      " |-- created_at: double (nullable = true)\n",
      " |-- last_move_at: double (nullable = true)\n",
      " |-- turns: integer (nullable = true)\n",
      " |-- victory_status: string (nullable = true)\n",
      " |-- winner: string (nullable = true)\n",
      " |-- increment_code: string (nullable = true)\n",
      " |-- white_id: string (nullable = true)\n",
      " |-- white_rating: integer (nullable = true)\n",
      " |-- black_id: string (nullable = true)\n",
      " |-- black_rating: integer (nullable = true)\n",
      " |-- moves: string (nullable = true)\n",
      " |-- opening_eco: string (nullable = true)\n",
      " |-- opening_name: string (nullable = true)\n",
      " |-- opening_ply: integer (nullable = true)\n",
      "\n"
     ]
    }
   ],
   "source": [
    "games.printSchema()"
   ]
  },
  {
   "cell_type": "code",
   "execution_count": 44,
   "id": "22791df2",
   "metadata": {},
   "outputs": [
    {
     "data": {
      "text/html": [
       "<div>\n",
       "<style scoped>\n",
       "    .dataframe tbody tr th:only-of-type {\n",
       "        vertical-align: middle;\n",
       "    }\n",
       "\n",
       "    .dataframe tbody tr th {\n",
       "        vertical-align: top;\n",
       "    }\n",
       "\n",
       "    .dataframe thead th {\n",
       "        text-align: right;\n",
       "    }\n",
       "</style>\n",
       "<table border=\"1\" class=\"dataframe\">\n",
       "  <thead>\n",
       "    <tr style=\"text-align: right;\">\n",
       "      <th></th>\n",
       "      <th>summary</th>\n",
       "      <th>id</th>\n",
       "      <th>created_at</th>\n",
       "      <th>last_move_at</th>\n",
       "      <th>turns</th>\n",
       "      <th>victory_status</th>\n",
       "      <th>winner</th>\n",
       "      <th>increment_code</th>\n",
       "      <th>white_id</th>\n",
       "      <th>white_rating</th>\n",
       "      <th>black_id</th>\n",
       "      <th>black_rating</th>\n",
       "      <th>moves</th>\n",
       "      <th>opening_eco</th>\n",
       "      <th>opening_name</th>\n",
       "      <th>opening_ply</th>\n",
       "    </tr>\n",
       "  </thead>\n",
       "  <tbody>\n",
       "    <tr>\n",
       "      <th>0</th>\n",
       "      <td>count</td>\n",
       "      <td>20058</td>\n",
       "      <td>20058</td>\n",
       "      <td>20058</td>\n",
       "      <td>20058</td>\n",
       "      <td>20058</td>\n",
       "      <td>20058</td>\n",
       "      <td>20058</td>\n",
       "      <td>20058</td>\n",
       "      <td>20058</td>\n",
       "      <td>20058</td>\n",
       "      <td>20058</td>\n",
       "      <td>20058</td>\n",
       "      <td>20058</td>\n",
       "      <td>20058</td>\n",
       "      <td>20058</td>\n",
       "    </tr>\n",
       "    <tr>\n",
       "      <th>1</th>\n",
       "      <td>mean</td>\n",
       "      <td>None</td>\n",
       "      <td>1.483616852629092E12</td>\n",
       "      <td>1.4836177223361443E12</td>\n",
       "      <td>60.46599860404826</td>\n",
       "      <td>None</td>\n",
       "      <td>None</td>\n",
       "      <td>None</td>\n",
       "      <td>2.6775729307708335E9</td>\n",
       "      <td>1596.6318675840064</td>\n",
       "      <td>5.294535237863636E9</td>\n",
       "      <td>1588.8319872370128</td>\n",
       "      <td>None</td>\n",
       "      <td>None</td>\n",
       "      <td>None</td>\n",
       "      <td>4.8169807558081565</td>\n",
       "    </tr>\n",
       "    <tr>\n",
       "      <th>2</th>\n",
       "      <td>stddev</td>\n",
       "      <td>None</td>\n",
       "      <td>2.850150942100429E10</td>\n",
       "      <td>2.850140058889147E10</td>\n",
       "      <td>33.57058475353722</td>\n",
       "      <td>None</td>\n",
       "      <td>None</td>\n",
       "      <td>None</td>\n",
       "      <td>1.1283509443243038E10</td>\n",
       "      <td>291.253375737019</td>\n",
       "      <td>1.8875165053331074E10</td>\n",
       "      <td>291.03612596033423</td>\n",
       "      <td>None</td>\n",
       "      <td>None</td>\n",
       "      <td>None</td>\n",
       "      <td>2.7971518106301025</td>\n",
       "    </tr>\n",
       "    <tr>\n",
       "      <th>3</th>\n",
       "      <td>min</td>\n",
       "      <td>005lW0Xz</td>\n",
       "      <td>1.376771633173E12</td>\n",
       "      <td>1.376771863841E12</td>\n",
       "      <td>1</td>\n",
       "      <td>draw</td>\n",
       "      <td>black</td>\n",
       "      <td>0+12</td>\n",
       "      <td>--jim--</td>\n",
       "      <td>784</td>\n",
       "      <td>-0olo0-</td>\n",
       "      <td>789</td>\n",
       "      <td>Na3 Nf6 b3 e5 e3 Nc6 c4 Be7 d4 exd4 exd4 d5 Nc...</td>\n",
       "      <td>A00</td>\n",
       "      <td>Alekhine Defense</td>\n",
       "      <td>1</td>\n",
       "    </tr>\n",
       "    <tr>\n",
       "      <th>4</th>\n",
       "      <td>max</td>\n",
       "      <td>zzcDhaYF</td>\n",
       "      <td>1.50449314379E12</td>\n",
       "      <td>1.504493827262E12</td>\n",
       "      <td>349</td>\n",
       "      <td>resign</td>\n",
       "      <td>white</td>\n",
       "      <td>90+8</td>\n",
       "      <td>zzzimon</td>\n",
       "      <td>2700</td>\n",
       "      <td>zztopillo</td>\n",
       "      <td>2723</td>\n",
       "      <td>h4 e6 g3 d5 Bh3 c5 d3 Nc6 c3 Qb6 a3 Nh6 Bxh6 g...</td>\n",
       "      <td>E98</td>\n",
       "      <td>Zukertort Opening: Wade Defense</td>\n",
       "      <td>28</td>\n",
       "    </tr>\n",
       "  </tbody>\n",
       "</table>\n",
       "</div>"
      ],
      "text/plain": [
       "  summary        id            created_at           last_move_at  \\\n",
       "0   count     20058                 20058                  20058   \n",
       "1    mean      None  1.483616852629092E12  1.4836177223361443E12   \n",
       "2  stddev      None  2.850150942100429E10   2.850140058889147E10   \n",
       "3     min  005lW0Xz     1.376771633173E12      1.376771863841E12   \n",
       "4     max  zzcDhaYF      1.50449314379E12      1.504493827262E12   \n",
       "\n",
       "               turns victory_status winner increment_code  \\\n",
       "0              20058          20058  20058          20058   \n",
       "1  60.46599860404826           None   None           None   \n",
       "2  33.57058475353722           None   None           None   \n",
       "3                  1           draw  black           0+12   \n",
       "4                349         resign  white           90+8   \n",
       "\n",
       "                white_id        white_rating               black_id  \\\n",
       "0                  20058               20058                  20058   \n",
       "1   2.6775729307708335E9  1596.6318675840064    5.294535237863636E9   \n",
       "2  1.1283509443243038E10    291.253375737019  1.8875165053331074E10   \n",
       "3                --jim--                 784                -0olo0-   \n",
       "4                zzzimon                2700              zztopillo   \n",
       "\n",
       "         black_rating                                              moves  \\\n",
       "0               20058                                              20058   \n",
       "1  1588.8319872370128                                               None   \n",
       "2  291.03612596033423                                               None   \n",
       "3                 789  Na3 Nf6 b3 e5 e3 Nc6 c4 Be7 d4 exd4 exd4 d5 Nc...   \n",
       "4                2723  h4 e6 g3 d5 Bh3 c5 d3 Nc6 c3 Qb6 a3 Nh6 Bxh6 g...   \n",
       "\n",
       "  opening_eco                     opening_name         opening_ply  \n",
       "0       20058                            20058               20058  \n",
       "1        None                             None  4.8169807558081565  \n",
       "2        None                             None  2.7971518106301025  \n",
       "3         A00                 Alekhine Defense                   1  \n",
       "4         E98  Zukertort Opening: Wade Defense                  28  "
      ]
     },
     "execution_count": 44,
     "metadata": {},
     "output_type": "execute_result"
    }
   ],
   "source": [
    "\"\"\"(games.describe().select(\n",
    "                    \"summary\",\n",
    "                    F.round(\"id\", 4).alias(\"id\"),\n",
    "                    F.round(\"created_at\", 4).alias(\"created_at\"),\n",
    "                    F.round(\"last_move_at\", 4).alias(\"last_move_at\"),\n",
    "                    F.round(\"turns\", 4).alias(\"turns\"),\n",
    "                    F.round(\"victory_status\", 4).alias(\"victory_status\"),\n",
    "                    F.round(\"winner\", 4).alias(\"winner\"),\n",
    "                    F.round(\"increment_code\", 4).alias(\"increment_code\"),\n",
    "                    F.round(\"white_id\", 4).alias(\"white_id\"),\n",
    "                    F.round(\"white_rating\", 4).alias(\"white_rating\"),\n",
    "                    F.round(\"black_id\", 4).alias(\"black_id\"),\n",
    "                    F.round(\"black_rating\", 4).alias(\"black_rating\"),\n",
    "                    F.round(\"moves\", 4).alias(\"moves\"),\n",
    "                    F.round(\"opening_eco\", 4).alias(\"opening_eco\"),\n",
    "                    F.round(\"opening_name\", 4).alias(\"opening_name\"),\n",
    "                    F.round(\"opening_ply\", 4).alias(\"opening_ply\"))\n",
    "                    .show())\"\"\"\n",
    "games.describe().toPandas()"
   ]
  },
  {
   "cell_type": "code",
   "execution_count": 10,
   "id": "22698a4c",
   "metadata": {},
   "outputs": [
    {
     "name": "stdout",
     "output_type": "stream",
     "text": [
      "+---+-----+----------+------------+-----+--------------+------+--------------+--------+------------+--------+------------+-----+-----------+------------+-----------+\n",
      "| id|rated|created_at|last_move_at|turns|victory_status|winner|increment_code|white_id|white_rating|black_id|black_rating|moves|opening_eco|opening_name|opening_ply|\n",
      "+---+-----+----------+------------+-----+--------------+------+--------------+--------+------------+--------+------------+-----+-----------+------------+-----------+\n",
      "|  0|    0|         0|           0|    0|             0|     0|             0|       0|           0|       0|           0|    0|          0|           0|          0|\n",
      "+---+-----+----------+------------+-----+--------------+------+--------------+--------+------------+--------+------------+-----+-----------+------------+-----------+\n",
      "\n"
     ]
    }
   ],
   "source": [
    "missing = games.select([count(when(isnull(c), c)).alias(c) for c in games.columns]).show()"
   ]
  },
  {
   "cell_type": "markdown",
   "id": "739b3a97",
   "metadata": {},
   "source": [
    "No missing (null) values."
   ]
  },
  {
   "cell_type": "markdown",
   "id": "5e217c16",
   "metadata": {},
   "source": [
    "# EDA"
   ]
  },
  {
   "cell_type": "code",
   "execution_count": 35,
   "id": "d02101d0",
   "metadata": {},
   "outputs": [
    {
     "data": {
      "text/plain": [
       "<AxesSubplot:xlabel='victory_status'>"
      ]
     },
     "execution_count": 35,
     "metadata": {},
     "output_type": "execute_result"
    },
    {
     "data": {
      "image/png": "[encoded data removed]",
      "text/plain": [
       "<Figure size 576x576 with 1 Axes>"
      ]
     },
     "metadata": {
      "needs_background": "light"
     },
     "output_type": "display_data"
    }
   ],
   "source": [
    "# group by victory status and see the distribution\n",
    "result = games.groupBy(\"victory_status\").count().sort(\"victory_status\", ascending=False)\n",
    "result.toPandas().plot.bar(x='victory_status',figsize=(8, 8))"
   ]
  },
  {
   "cell_type": "code",
   "execution_count": 36,
   "id": "377b9bb3",
   "metadata": {},
   "outputs": [
    {
     "data": {
      "text/plain": [
       "<AxesSubplot:xlabel='winner'>"
      ]
     },
     "execution_count": 36,
     "metadata": {},
     "output_type": "execute_result"
    },
    {
     "data": {
      "image/png": "[encoded data removed]",
      "text/plain": [
       "<Figure size 576x576 with 1 Axes>"
      ]
     },
     "metadata": {
      "needs_background": "light"
     },
     "output_type": "display_data"
    }
   ],
   "source": [
    "# group by winner and see the distribution\n",
    "result = games.groupBy(\"winner\").count().sort(\"winner\", ascending=False)\n",
    "result.toPandas().plot.bar(x='winner',figsize=(8, 8))"
   ]
  },
  {
   "cell_type": "code",
   "execution_count": 51,
   "id": "ded34389",
   "metadata": {},
   "outputs": [
    {
     "ename": "TypeError",
     "evalue": "corr() missing 2 required positional arguments: 'col1' and 'col2'",
     "output_type": "error",
     "traceback": [
      "\u001b[1;31m---------------------------------------------------------------------------\u001b[0m",
      "\u001b[1;31mTypeError\u001b[0m                                 Traceback (most recent call last)",
      "Input \u001b[1;32mIn [51]\u001b[0m, in \u001b[0;36m<cell line: 2>\u001b[1;34m()\u001b[0m\n\u001b[0;32m      1\u001b[0m plt\u001b[38;5;241m.\u001b[39mfigure(figsize \u001b[38;5;241m=\u001b[39m (\u001b[38;5;241m11\u001b[39m,\u001b[38;5;241m11\u001b[39m))\n\u001b[1;32m----> 2\u001b[0m corr \u001b[38;5;241m=\u001b[39m \u001b[43mgames\u001b[49m\u001b[38;5;241;43m.\u001b[39;49m\u001b[43mcorr\u001b[49m\u001b[43m(\u001b[49m\u001b[43m)\u001b[49m\n\u001b[0;32m      3\u001b[0m mask \u001b[38;5;241m=\u001b[39m np\u001b[38;5;241m.\u001b[39mtriu(np\u001b[38;5;241m.\u001b[39mones_like(corr, dtype\u001b[38;5;241m=\u001b[39m\u001b[38;5;28mbool\u001b[39m))\n\u001b[0;32m      4\u001b[0m sns\u001b[38;5;241m.\u001b[39mheatmap(corr, mask \u001b[38;5;241m=\u001b[39m mask, robust \u001b[38;5;241m=\u001b[39m \u001b[38;5;28;01mTrue\u001b[39;00m, center \u001b[38;5;241m=\u001b[39m \u001b[38;5;241m0\u001b[39m,square \u001b[38;5;241m=\u001b[39m \u001b[38;5;28;01mTrue\u001b[39;00m, cmap\u001b[38;5;241m=\u001b[39m\u001b[38;5;124m\"\u001b[39m\u001b[38;5;124mviridis\u001b[39m\u001b[38;5;124m\"\u001b[39m,linewidths \u001b[38;5;241m=\u001b[39m \u001b[38;5;241m.6\u001b[39m)\n",
      "\u001b[1;31mTypeError\u001b[0m: corr() missing 2 required positional arguments: 'col1' and 'col2'"
     ]
    },
    {
     "data": {
      "text/plain": [
       "<Figure size 792x792 with 0 Axes>"
      ]
     },
     "metadata": {},
     "output_type": "display_data"
    }
   ],
   "source": [
    "plt.figure(figsize = (11,11))\n",
    "corr = games.corr()\n",
    "mask = np.triu(np.ones_like(corr, dtype=bool))\n",
    "sns.heatmap(corr, mask = mask, robust = True, center = 0,square = True, cmap=\"viridis\",linewidths = .6)\n",
    "plt.title('Correlation Table')\n",
    "plt.show()"
   ]
  },
  {
   "cell_type": "markdown",
   "id": "d91c9c40",
   "metadata": {},
   "source": [
    "## Preprocessing the Data"
   ]
  },
  {
   "cell_type": "code",
   "execution_count": 50,
   "id": "bf81de9a",
   "metadata": {},
   "outputs": [
    {
     "name": "stdout",
     "output_type": "stream",
     "text": [
      "+--------+\n",
      "|      id|\n",
      "+--------+\n",
      "|005lW0Xz|\n",
      "|009mKOEz|\n",
      "|00R4UOcU|\n",
      "|00dSgZj7|\n",
      "|018JyEeA|\n",
      "|019hqIVd|\n",
      "|01C2scaa|\n",
      "|01K0joz0|\n",
      "|01PN8FTL|\n",
      "|01PkUIzB|\n",
      "|01SY3OrQ|\n",
      "|01Y74mrM|\n",
      "|01dkNQ2O|\n",
      "|01pjlD76|\n",
      "|02T5yk22|\n",
      "|02V52u8v|\n",
      "|02farjAR|\n",
      "|03H8xiEz|\n",
      "|03IUB5fo|\n",
      "|03NoaOf5|\n",
      "+--------+\n",
      "only showing top 20 rows\n",
      "\n"
     ]
    }
   ],
   "source": [
    "games.select(\"id\").dropDuplicates().sort(\"id\").show()"
   ]
  },
  {
   "cell_type": "code",
   "execution_count": 11,
   "id": "918187cf",
   "metadata": {},
   "outputs": [],
   "source": [
    "dataset = games.select(\"*\")"
   ]
  },
  {
   "cell_type": "code",
   "execution_count": 12,
   "id": "fa7b50cf",
   "metadata": {},
   "outputs": [],
   "source": [
    "dataset = dataset.withColumn(\"rated_ind\", when(col(\"rated\") == True, 1).otherwise(0))"
   ]
  },
  {
   "cell_type": "markdown",
   "id": "8fbf07ce",
   "metadata": {},
   "source": [
    "0 - FALSE  \n",
    "1 - TRUE"
   ]
  },
  {
   "cell_type": "code",
   "execution_count": 13,
   "id": "7d578391",
   "metadata": {},
   "outputs": [
    {
     "name": "stdout",
     "output_type": "stream",
     "text": [
      "+--------------+-------------------+\n",
      "|victory_status|sum(victory_status)|\n",
      "+--------------+-------------------+\n",
      "|        resign|               NULL|\n",
      "|     outoftime|               NULL|\n",
      "|          mate|               NULL|\n",
      "|          draw|               NULL|\n",
      "+--------------+-------------------+\n",
      "\n"
     ]
    }
   ],
   "source": [
    "dataset.groupBy(\"victory_status\").agg({\"victory_status\": \"sum\"}).show()"
   ]
  },
  {
   "cell_type": "code",
   "execution_count": 14,
   "id": "da9a0af3",
   "metadata": {},
   "outputs": [],
   "source": [
    "indexer = StringIndexer(inputCol=\"victory_status\", outputCol=\"victory_status_ind\")\n",
    "dataset = indexer.fit(dataset).transform(dataset)"
   ]
  },
  {
   "cell_type": "markdown",
   "id": "fdcb9517",
   "metadata": {},
   "source": [
    "0 - resign  \n",
    "1 - mate  \n",
    "2 - out of time  \n",
    "3 - draw"
   ]
  },
  {
   "cell_type": "code",
   "execution_count": 15,
   "id": "43baf03b",
   "metadata": {},
   "outputs": [
    {
     "name": "stdout",
     "output_type": "stream",
     "text": [
      "+------+-----------+\n",
      "|winner|sum(winner)|\n",
      "+------+-----------+\n",
      "| white|       NULL|\n",
      "| black|       NULL|\n",
      "|  draw|       NULL|\n",
      "+------+-----------+\n",
      "\n"
     ]
    }
   ],
   "source": [
    "dataset.groupBy(\"winner\").agg({\"winner\": \"sum\"}).show()"
   ]
  },
  {
   "cell_type": "code",
   "execution_count": 16,
   "id": "4645aa05",
   "metadata": {},
   "outputs": [],
   "source": [
    "indexer = StringIndexer(inputCol=\"winner\", outputCol=\"winner_ind\")\n",
    "dataset = indexer.fit(dataset).transform(dataset)"
   ]
  },
  {
   "cell_type": "markdown",
   "id": "1c1a17fd",
   "metadata": {},
   "source": [
    "0 - white  \n",
    "1 - black  \n",
    "2 - draw"
   ]
  },
  {
   "cell_type": "code",
   "execution_count": 17,
   "id": "cad99648",
   "metadata": {},
   "outputs": [],
   "source": [
    "dataset = dataset.withColumn(\"game_duration\", (col(\"last_move_at\") - col(\"created_at\")).cast(\"double\"))"
   ]
  },
  {
   "cell_type": "code",
   "execution_count": 18,
   "id": "e2e079d5",
   "metadata": {},
   "outputs": [],
   "source": [
    "columns_to_drop = [\"id\", \"rated\", \"victory_status\", \"winner\", \"created_at\", \"last_move_at\", \"white_id\", \"black_id\", \"moves\"]\n",
    "dataset = dataset.drop(*columns_to_drop)"
   ]
  },
  {
   "cell_type": "markdown",
   "id": "862db680",
   "metadata": {},
   "source": [
    "\"id\" column is dropped since it is does not provide information for analysis.\n",
    "Our goal is to analyze the moves and its results, not the specific player's chess skills. So \"white_id\" and \"black_id\" columns are dropped, but their ratings remain.  \n",
    "\"created_at\" and \"last_move_at\" columns are dropped and the difference was added to new column \"game_duration\".  \n",
    "Other columns are dropped because they are stored in one hot form in different columns (_ind).  \n",
    "Original dataset is stored in \"games\" dataframe. Preprocessed data will be used to perform analysis and prediction.  \n",
    "TODO  \n",
    "increment_code ??  \n",
    "game_duration ???"
   ]
  },
  {
   "cell_type": "code",
   "execution_count": 19,
   "id": "7c410bf9",
   "metadata": {},
   "outputs": [
    {
     "name": "stdout",
     "output_type": "stream",
     "text": [
      "+-----+--------------+------------+------------+--------------------+-----------+--------------------+-----------+---------+------------------+----------+-------------+\n",
      "|turns|increment_code|white_rating|black_rating|               moves|opening_eco|        opening_name|opening_ply|rated_ind|victory_status_ind|winner_ind|game_duration|\n",
      "+-----+--------------+------------+------------+--------------------+-----------+--------------------+-----------+---------+------------------+----------+-------------+\n",
      "|   13|          15+2|        1500|        1191|d4 d5 c4 c6 cxd5 ...|        D10|Slav Defense: Exc...|          5|        0|               2.0|       0.0|          0.0|\n",
      "|   16|          5+10|        1322|        1261|d4 Nc6 e4 e5 f4 f...|        B00|Nimzowitsch Defen...|          4|        1|               0.0|       1.0|          0.0|\n",
      "|   61|          5+10|        1496|        1500|e4 e5 d3 d6 Be3 c...|        C20|King's Pawn Game:...|          3|        1|               1.0|       0.0|          0.0|\n",
      "|   61|          20+0|        1439|        1454|d4 d5 Nf3 Bf5 Nc3...|        D02|Queen's Pawn Game...|          3|        1|               1.0|       0.0|          0.0|\n",
      "|   95|          30+3|        1523|        1469|e4 e5 Nf3 d6 d4 N...|        C41|    Philidor Defense|          5|        1|               1.0|       0.0|          0.0|\n",
      "|    5|          10+0|        1250|        1002|    e4 c5 Nf3 Qa5 a3|        B27|Sicilian Defense:...|          4|        0|               3.0|       2.0|          0.0|\n",
      "|   33|          10+0|        1520|        1423|d4 d5 e4 dxe4 Nc3...|        D00|Blackmar-Diemer G...|         10|        1|               0.0|       0.0|          0.0|\n",
      "|    9|         15+30|        1413|        2108|e4 Nc6 d4 e5 d5 N...|        B00|Nimzowitsch Defen...|          5|        0|               0.0|       1.0|          0.0|\n",
      "|   66|          15+0|        1439|        1392|e4 e5 Bc4 Nc6 Nf3...|        C50|Italian Game: Sch...|          6|        1|               0.0|       1.0|          0.0|\n",
      "|  119|          10+0|        1381|        1209|e4 d5 exd5 Qxd5 N...|        B01|Scandinavian Defe...|          4|        1|               1.0|       0.0|          0.0|\n",
      "|   39|         20+60|        1381|        1272|e3 e6 d4 d6 Bd3 c...|        A00|Van't Kruijs Opening|          1|        0|               1.0|       0.0|          0.0|\n",
      "|   38|         20+60|        1381|        1867|e4 e6 d4 d5 e5 c5...|        C02|French Defense: A...|          9|        0|               0.0|       1.0|          0.0|\n",
      "|   60|          5+40|        1381|        1936|e4 e6 Nf3 d5 exd5...|        C00|French Defense: K...|          3|        0|               0.0|       1.0|          0.0|\n",
      "|   31|           8+0|        1381|        1607|e4 e6 Qh5 g6 Qe5 ...|        C00|   French Defense #2|          2|        0|               0.0|       1.0|          0.0|\n",
      "|   31|         15+15|        1094|        1141|e4 e5 Nf3 Nc6 Bc4...|        C50|Four Knights Game...|          8|        0|               1.0|       0.0|        1.0E7|\n",
      "|   43|         15+15|        1141|        1094|e4 e5 Nf3 Nc6 Bc4...|        C57|Italian Game: Two...|          7|        0|               0.0|       1.0|          0.0|\n",
      "|   52|         15+15|        1094|        1141|e4 e5 Nf3 Nc6 Bc4...|        C50|Four Knights Game...|          8|        0|               0.0|       1.0|          0.0|\n",
      "|   66|         15+16|        1141|        1094|e4 e5 Nf3 Nc6 Bc4...|        C50|Four Knights Game...|          8|        0|               1.0|       1.0|          0.0|\n",
      "|  101|         15+15|        1094|        1300|e4 e5 Nf3 d6 Bc4 ...|        C41| Philidor Defense #3|          5|        0|               0.0|       1.0|          0.0|\n",
      "|   25|          11+0|        1500|        1094|d4 d5 h3 Nc6 Nf3 ...|        D00|   Queen's Pawn Game|          2|        0|               0.0|       0.0|          0.0|\n",
      "+-----+--------------+------------+------------+--------------------+-----------+--------------------+-----------+---------+------------------+----------+-------------+\n",
      "only showing top 20 rows\n",
      "\n"
     ]
    }
   ],
   "source": [
    "dataset.show()"
   ]
  },
  {
   "cell_type": "markdown",
   "id": "b4ec6cb0",
   "metadata": {},
   "source": [
    "## Data Analysis"
   ]
  },
  {
   "cell_type": "code",
   "execution_count": 14,
   "id": "04392d35",
   "metadata": {
    "scrolled": true
   },
   "outputs": [
    {
     "ename": "TypeError",
     "evalue": "Invalid param value given for param \"inputCol\". Could not convert <class 'pyspark.sql.column.Column'> to string type",
     "output_type": "error",
     "traceback": [
      "\u001b[1;31m---------------------------------------------------------------------------\u001b[0m",
      "\u001b[1;31mTypeError\u001b[0m                                 Traceback (most recent call last)",
      "File \u001b[1;32mc:\\users\\asus\\appdata\\local\\programs\\python\\python39\\lib\\site-packages\\pyspark\\ml\\param\\__init__.py:503\u001b[0m, in \u001b[0;36mParams._set\u001b[1;34m(self, **kwargs)\u001b[0m\n\u001b[0;32m    502\u001b[0m \u001b[38;5;28;01mtry\u001b[39;00m:\n\u001b[1;32m--> 503\u001b[0m     value \u001b[38;5;241m=\u001b[39m \u001b[43mp\u001b[49m\u001b[38;5;241;43m.\u001b[39;49m\u001b[43mtypeConverter\u001b[49m\u001b[43m(\u001b[49m\u001b[43mvalue\u001b[49m\u001b[43m)\u001b[49m\n\u001b[0;32m    504\u001b[0m \u001b[38;5;28;01mexcept\u001b[39;00m \u001b[38;5;167;01mTypeError\u001b[39;00m \u001b[38;5;28;01mas\u001b[39;00m e:\n",
      "File \u001b[1;32mc:\\users\\asus\\appdata\\local\\programs\\python\\python39\\lib\\site-packages\\pyspark\\ml\\param\\__init__.py:236\u001b[0m, in \u001b[0;36mTypeConverters.toString\u001b[1;34m(value)\u001b[0m\n\u001b[0;32m    235\u001b[0m \u001b[38;5;28;01melse\u001b[39;00m:\n\u001b[1;32m--> 236\u001b[0m     \u001b[38;5;28;01mraise\u001b[39;00m \u001b[38;5;167;01mTypeError\u001b[39;00m(\u001b[38;5;124m\"\u001b[39m\u001b[38;5;124mCould not convert \u001b[39m\u001b[38;5;132;01m%s\u001b[39;00m\u001b[38;5;124m to string type\u001b[39m\u001b[38;5;124m\"\u001b[39m \u001b[38;5;241m%\u001b[39m \u001b[38;5;28mtype\u001b[39m(value))\n",
      "\u001b[1;31mTypeError\u001b[0m: Could not convert <class 'pyspark.sql.column.Column'> to string type",
      "\nDuring handling of the above exception, another exception occurred:\n",
      "\u001b[1;31mTypeError\u001b[0m                                 Traceback (most recent call last)",
      "Input \u001b[1;32mIn [14]\u001b[0m, in \u001b[0;36m<cell line: 3>\u001b[1;34m()\u001b[0m\n\u001b[0;32m      1\u001b[0m \u001b[38;5;28;01mfrom\u001b[39;00m \u001b[38;5;21;01mpyspark\u001b[39;00m\u001b[38;5;21;01m.\u001b[39;00m\u001b[38;5;21;01mml\u001b[39;00m\u001b[38;5;21;01m.\u001b[39;00m\u001b[38;5;21;01mfeature\u001b[39;00m \u001b[38;5;28;01mimport\u001b[39;00m StandardScaler\n\u001b[1;32m----> 3\u001b[0m scaler \u001b[38;5;241m=\u001b[39m \u001b[43mStandardScaler\u001b[49m\u001b[43m(\u001b[49m\u001b[43minputCol\u001b[49m\u001b[38;5;241;43m=\u001b[39;49m\u001b[43mgames\u001b[49m\u001b[43m[\u001b[49m\u001b[38;5;124;43m\"\u001b[39;49m\u001b[38;5;124;43mturns\u001b[39;49m\u001b[38;5;124;43m\"\u001b[39;49m\u001b[43m]\u001b[49m\u001b[43m,\u001b[49m\u001b[43m \u001b[49m\u001b[43moutputCol\u001b[49m\u001b[38;5;241;43m=\u001b[39;49m\u001b[38;5;124;43m\"\u001b[39;49m\u001b[38;5;124;43mscaledFeatures\u001b[39;49m\u001b[38;5;124;43m\"\u001b[39;49m\u001b[43m,\u001b[49m\u001b[43m \u001b[49m\u001b[43mwithMean\u001b[49m\u001b[38;5;241;43m=\u001b[39;49m\u001b[38;5;28;43;01mTrue\u001b[39;49;00m\u001b[43m,\u001b[49m\u001b[43m \u001b[49m\u001b[43mwithStd\u001b[49m\u001b[38;5;241;43m=\u001b[39;49m\u001b[38;5;28;43;01mTrue\u001b[39;49;00m\u001b[43m)\u001b[49m\n\u001b[0;32m      4\u001b[0m scalerModel \u001b[38;5;241m=\u001b[39m scaler\u001b[38;5;241m.\u001b[39mfit(games)\n\u001b[0;32m      5\u001b[0m data \u001b[38;5;241m=\u001b[39m scalerModel\u001b[38;5;241m.\u001b[39mtransform(games)\n",
      "File \u001b[1;32mc:\\users\\asus\\appdata\\local\\programs\\python\\python39\\lib\\site-packages\\pyspark\\__init__.py:139\u001b[0m, in \u001b[0;36mkeyword_only.<locals>.wrapper\u001b[1;34m(self, *args, **kwargs)\u001b[0m\n\u001b[0;32m    137\u001b[0m     \u001b[38;5;28;01mraise\u001b[39;00m \u001b[38;5;167;01mTypeError\u001b[39;00m(\u001b[38;5;124m\"\u001b[39m\u001b[38;5;124mMethod \u001b[39m\u001b[38;5;132;01m%s\u001b[39;00m\u001b[38;5;124m forces keyword arguments.\u001b[39m\u001b[38;5;124m\"\u001b[39m \u001b[38;5;241m%\u001b[39m func\u001b[38;5;241m.\u001b[39m\u001b[38;5;18m__name__\u001b[39m)\n\u001b[0;32m    138\u001b[0m \u001b[38;5;28mself\u001b[39m\u001b[38;5;241m.\u001b[39m_input_kwargs \u001b[38;5;241m=\u001b[39m kwargs\n\u001b[1;32m--> 139\u001b[0m \u001b[38;5;28;01mreturn\u001b[39;00m func(\u001b[38;5;28mself\u001b[39m, \u001b[38;5;241m*\u001b[39m\u001b[38;5;241m*\u001b[39mkwargs)\n",
      "File \u001b[1;32mc:\\users\\asus\\appdata\\local\\programs\\python\\python39\\lib\\site-packages\\pyspark\\ml\\feature.py:4389\u001b[0m, in \u001b[0;36mStandardScaler.__init__\u001b[1;34m(self, withMean, withStd, inputCol, outputCol)\u001b[0m\n\u001b[0;32m   4387\u001b[0m \u001b[38;5;28mself\u001b[39m\u001b[38;5;241m.\u001b[39m_java_obj \u001b[38;5;241m=\u001b[39m \u001b[38;5;28mself\u001b[39m\u001b[38;5;241m.\u001b[39m_new_java_obj(\u001b[38;5;124m\"\u001b[39m\u001b[38;5;124morg.apache.spark.ml.feature.StandardScaler\u001b[39m\u001b[38;5;124m\"\u001b[39m, \u001b[38;5;28mself\u001b[39m\u001b[38;5;241m.\u001b[39muid)\n\u001b[0;32m   4388\u001b[0m kwargs \u001b[38;5;241m=\u001b[39m \u001b[38;5;28mself\u001b[39m\u001b[38;5;241m.\u001b[39m_input_kwargs\n\u001b[1;32m-> 4389\u001b[0m \u001b[38;5;28mself\u001b[39m\u001b[38;5;241m.\u001b[39msetParams(\u001b[38;5;241m*\u001b[39m\u001b[38;5;241m*\u001b[39mkwargs)\n",
      "File \u001b[1;32mc:\\users\\asus\\appdata\\local\\programs\\python\\python39\\lib\\site-packages\\pyspark\\__init__.py:139\u001b[0m, in \u001b[0;36mkeyword_only.<locals>.wrapper\u001b[1;34m(self, *args, **kwargs)\u001b[0m\n\u001b[0;32m    137\u001b[0m     \u001b[38;5;28;01mraise\u001b[39;00m \u001b[38;5;167;01mTypeError\u001b[39;00m(\u001b[38;5;124m\"\u001b[39m\u001b[38;5;124mMethod \u001b[39m\u001b[38;5;132;01m%s\u001b[39;00m\u001b[38;5;124m forces keyword arguments.\u001b[39m\u001b[38;5;124m\"\u001b[39m \u001b[38;5;241m%\u001b[39m func\u001b[38;5;241m.\u001b[39m\u001b[38;5;18m__name__\u001b[39m)\n\u001b[0;32m    138\u001b[0m \u001b[38;5;28mself\u001b[39m\u001b[38;5;241m.\u001b[39m_input_kwargs \u001b[38;5;241m=\u001b[39m kwargs\n\u001b[1;32m--> 139\u001b[0m \u001b[38;5;28;01mreturn\u001b[39;00m func(\u001b[38;5;28mself\u001b[39m, \u001b[38;5;241m*\u001b[39m\u001b[38;5;241m*\u001b[39mkwargs)\n",
      "File \u001b[1;32mc:\\users\\asus\\appdata\\local\\programs\\python\\python39\\lib\\site-packages\\pyspark\\ml\\feature.py:4406\u001b[0m, in \u001b[0;36mStandardScaler.setParams\u001b[1;34m(self, withMean, withStd, inputCol, outputCol)\u001b[0m\n\u001b[0;32m   4401\u001b[0m \u001b[38;5;124;03m\"\"\"\u001b[39;00m\n\u001b[0;32m   4402\u001b[0m \u001b[38;5;124;03msetParams(self, \\\\*, withMean=False, withStd=True, inputCol=None, outputCol=None)\u001b[39;00m\n\u001b[0;32m   4403\u001b[0m \u001b[38;5;124;03mSets params for this StandardScaler.\u001b[39;00m\n\u001b[0;32m   4404\u001b[0m \u001b[38;5;124;03m\"\"\"\u001b[39;00m\n\u001b[0;32m   4405\u001b[0m kwargs \u001b[38;5;241m=\u001b[39m \u001b[38;5;28mself\u001b[39m\u001b[38;5;241m.\u001b[39m_input_kwargs\n\u001b[1;32m-> 4406\u001b[0m \u001b[38;5;28;01mreturn\u001b[39;00m \u001b[38;5;28mself\u001b[39m\u001b[38;5;241m.\u001b[39m_set(\u001b[38;5;241m*\u001b[39m\u001b[38;5;241m*\u001b[39mkwargs)\n",
      "File \u001b[1;32mc:\\users\\asus\\appdata\\local\\programs\\python\\python39\\lib\\site-packages\\pyspark\\ml\\param\\__init__.py:505\u001b[0m, in \u001b[0;36mParams._set\u001b[1;34m(self, **kwargs)\u001b[0m\n\u001b[0;32m    503\u001b[0m             value \u001b[38;5;241m=\u001b[39m p\u001b[38;5;241m.\u001b[39mtypeConverter(value)\n\u001b[0;32m    504\u001b[0m         \u001b[38;5;28;01mexcept\u001b[39;00m \u001b[38;5;167;01mTypeError\u001b[39;00m \u001b[38;5;28;01mas\u001b[39;00m e:\n\u001b[1;32m--> 505\u001b[0m             \u001b[38;5;28;01mraise\u001b[39;00m \u001b[38;5;167;01mTypeError\u001b[39;00m(\u001b[38;5;124m'\u001b[39m\u001b[38;5;124mInvalid param value given for param \u001b[39m\u001b[38;5;124m\"\u001b[39m\u001b[38;5;132;01m%s\u001b[39;00m\u001b[38;5;124m\"\u001b[39m\u001b[38;5;124m. \u001b[39m\u001b[38;5;132;01m%s\u001b[39;00m\u001b[38;5;124m'\u001b[39m \u001b[38;5;241m%\u001b[39m (p\u001b[38;5;241m.\u001b[39mname, e))\n\u001b[0;32m    506\u001b[0m     \u001b[38;5;28mself\u001b[39m\u001b[38;5;241m.\u001b[39m_paramMap[p] \u001b[38;5;241m=\u001b[39m value\n\u001b[0;32m    507\u001b[0m \u001b[38;5;28;01mreturn\u001b[39;00m \u001b[38;5;28mself\u001b[39m\n",
      "\u001b[1;31mTypeError\u001b[0m: Invalid param value given for param \"inputCol\". Could not convert <class 'pyspark.sql.column.Column'> to string type"
     ]
    }
   ],
   "source": [
    "#PCA ##########change code\n",
    "from pyspark.ml.feature import StandardScaler\n",
    "\n",
    "scaler = StandardScaler(inputCol=\"turns\", outputCol=\"scaledFeatures\", withMean=True, withStd=True)\n",
    "scalerModel = scaler.fit(games)\n",
    "data = scalerModel.transform(games)\n",
    "data"
   ]
  },
  {
   "cell_type": "code",
   "execution_count": null,
   "id": "57245eec",
   "metadata": {},
   "outputs": [],
   "source": [
    "from pyspark.ml.feature import PCA\n",
    "\n",
    "pca = PCA(k=2, inputCol=\"scaledFeatures\", outputCol=\"pcaFeatures\")\n",
    "pcaModel = pca.fit(data)\n",
    "pcaData = pcaModel.transform(data)"
   ]
  },
  {
   "cell_type": "code",
   "execution_count": null,
   "id": "190ff8e9",
   "metadata": {},
   "outputs": [],
   "source": [
    "explainedVariance = pcaModel.explainedVariance\n",
    "print(explainedVariance)"
   ]
  },
  {
   "cell_type": "markdown",
   "id": "04bf6167",
   "metadata": {},
   "source": [
    "## ML"
   ]
  },
  {
   "cell_type": "code",
   "execution_count": null,
   "id": "334bb2e1",
   "metadata": {},
   "outputs": [],
   "source": []
  }
 ],
 "metadata": {
  "kernelspec": {
   "display_name": "Python 3 (ipykernel)",
   "language": "python",
   "name": "python3"
  },
  "language_info": {
   "codemirror_mode": {
    "name": "ipython",
    "version": 3
   },
   "file_extension": ".py",
   "mimetype": "text/x-python",
   "name": "python",
   "nbconvert_exporter": "python",
   "pygments_lexer": "ipython3",
   "version": "3.9.1"
  }
 },
 "nbformat": 4,
 "nbformat_minor": 5
}
