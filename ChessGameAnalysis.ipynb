{
 "cells": [
  {
   "cell_type": "markdown",
   "id": "cbd4f79e",
   "metadata": {},
   "source": [
    "Chess Game Result Analysis - 401 Project\n",
    "\n",
    "Berkay Yıldız - 201104087 \n",
    "\n",
    "Zeynep Meriç Aşık - 201410026"
   ]
  },
  {
   "cell_type": "markdown",
   "id": "7c05a9bc",
   "metadata": {},
   "source": [
    "# TODO\n",
    "-data need to normalize\n",
    "-EDA must be increased\n",
    "-code need to be organised"
   ]
  },
  {
   "cell_type": "markdown",
   "id": "7b2d9bd7",
   "metadata": {},
   "source": [
    "# Importing the Dependencies"
   ]
  },
  {
   "cell_type": "code",
   "execution_count": 1,
   "id": "6256a0ea",
   "metadata": {},
   "outputs": [],
   "source": [
    "#!pip install -r requirements.txt"
   ]
  },
  {
   "cell_type": "code",
   "execution_count": 1,
   "id": "9788e856",
   "metadata": {},
   "outputs": [],
   "source": [
    "import numpy as np\n",
    "import pandas as pd\n",
    "import matplotlib.pyplot as plt\n",
    "import sklearn\n",
    "%matplotlib inline\n",
    "import seaborn as sns\n",
    "\n",
    "from random import random\n",
    "import math\n",
    "from pyspark import SparkContext\n",
    "import re\n",
    "from pyspark.sql import functions"
   ]
  },
  {
   "cell_type": "code",
   "execution_count": 2,
   "id": "766ed1f8",
   "metadata": {},
   "outputs": [],
   "source": [
    "from pyspark.sql import SQLContext, SparkSession\n",
    "from pyspark.conf import SparkConf\n",
    "\n",
    "from pyspark.sql.window import Window\n",
    "from pyspark.sql.types import IntegerType\n",
    "from pyspark.sql.functions import sum"
   ]
  },
  {
   "cell_type": "code",
   "execution_count": 3,
   "id": "2221b472",
   "metadata": {},
   "outputs": [],
   "source": [
    "from pyspark.ml.linalg import DenseMatrix, Vectors\n",
    "from pyspark.ml.stat import Correlation\n",
    "from pyspark.ml.feature import MinMaxScaler, VectorAssembler, StringIndexer\n",
    "from pyspark.ml.classification import RandomForestClassifier as RFC\n",
    "from pyspark.mllib.linalg import SparseVector\n",
    "from pyspark.mllib.regression import LabeledPoint\n",
    "from pyspark.ml.evaluation import MulticlassClassificationEvaluator\n",
    "from pyspark.ml.tuning import CrossValidator, ParamGridBuilder\n",
    "import pyspark.sql.functions as F\n",
    "from pyspark.sql.types import FloatType\n",
    "from pyspark.mllib.evaluation import MulticlassMetrics\n",
    "\n",
    "from pyspark.sql.functions import isnan, when, count, col, isnull, concat_ws, split"
   ]
  },
  {
   "cell_type": "code",
   "execution_count": null,
   "id": "aaab52fa",
   "metadata": {},
   "outputs": [],
   "source": []
  },
  {
   "cell_type": "markdown",
   "id": "9ce290fb",
   "metadata": {},
   "source": [
    "### func's"
   ]
  },
  {
   "cell_type": "code",
   "execution_count": 4,
   "id": "3ebf5841",
   "metadata": {},
   "outputs": [],
   "source": [
    "def string_to_int(col_name, dataset):\n",
    "    indexer = StringIndexer(inputCol= col_name , outputCol= col_name+\"_ind\", stringOrderType=\"frequencyDesc\")\n",
    "    model = indexer.fit(dataset)\n",
    "    indexed_dataset = model.transform(dataset)\n",
    "    #cast double to int and change the dataset\n",
    "    dataset = indexed_dataset.withColumn(col_name+\"_ind\", col(col_name+\"_ind\").cast(IntegerType()))\n",
    "    grouped_data = dataset.groupBy(col_name).agg(count(\"*\").alias(\"count\"))\n",
    "    return dict(enumerate(model.labels)),grouped_data, dataset"
   ]
  },
  {
   "cell_type": "code",
   "execution_count": 5,
   "id": "2db1f921",
   "metadata": {},
   "outputs": [],
   "source": [
    "def printMap_and_showTable(_map,_table):\n",
    "    print(_map)\n",
    "    _table.show()"
   ]
  },
  {
   "cell_type": "code",
   "execution_count": null,
   "id": "a6902bdd",
   "metadata": {},
   "outputs": [],
   "source": []
  },
  {
   "cell_type": "code",
   "execution_count": 6,
   "id": "fd86339a",
   "metadata": {},
   "outputs": [],
   "source": [
    "spark = SparkSession.builder.master(\"local[*]\").getOrCreate()"
   ]
  },
  {
   "cell_type": "code",
   "execution_count": 8,
   "id": "ad46f3c6",
   "metadata": {
    "scrolled": true
   },
   "outputs": [
    {
     "data": {
      "text/html": [
       "\n",
       "        <div>\n",
       "            <p><b>SparkContext</b></p>\n",
       "\n",
       "            <p><a href=\"http://DESKTOP-USBBGVN:4040\">Spark UI</a></p>\n",
       "\n",
       "            <dl>\n",
       "              <dt>Version</dt>\n",
       "                <dd><code>v3.5.0</code></dd>\n",
       "              <dt>Master</dt>\n",
       "                <dd><code>local[*]</code></dd>\n",
       "              <dt>AppName</dt>\n",
       "                <dd><code>pyspark-shell</code></dd>\n",
       "            </dl>\n",
       "        </div>\n",
       "        "
      ],
      "text/plain": [
       "<SparkContext master=local[*] appName=pyspark-shell>"
      ]
     },
     "execution_count": 8,
     "metadata": {},
     "output_type": "execute_result"
    }
   ],
   "source": [
    "sc = spark.sparkContext\n",
    "sc"
   ]
  },
  {
   "cell_type": "code",
   "execution_count": 9,
   "id": "a233d135",
   "metadata": {},
   "outputs": [
    {
     "name": "stderr",
     "output_type": "stream",
     "text": [
      "C:\\Users\\Berkay\\anaconda3\\envs\\newest\\lib\\site-packages\\pyspark\\sql\\context.py:113: FutureWarning: Deprecated in 3.0.0. Use SparkSession.builder.getOrCreate() instead.\n",
      "  warnings.warn(\n"
     ]
    },
    {
     "data": {
      "text/plain": [
       "<pyspark.sql.context.SQLContext at 0x1fbb95ec8e0>"
      ]
     },
     "execution_count": 9,
     "metadata": {},
     "output_type": "execute_result"
    }
   ],
   "source": [
    "sqlContext = SQLContext(spark.sparkContext)\n",
    "sqlContext"
   ]
  },
  {
   "cell_type": "code",
   "execution_count": 10,
   "id": "6f6772fb",
   "metadata": {},
   "outputs": [],
   "source": [
    "games = spark.read.format(\"csv\").load(\"games.csv\", header='true', inferSchema='true',  multiline = True)"
   ]
  },
  {
   "cell_type": "code",
   "execution_count": 10,
   "id": "ec68d9c6",
   "metadata": {},
   "outputs": [
    {
     "name": "stdout",
     "output_type": "stream",
     "text": [
      "root\n",
      " |-- id: string (nullable = true)\n",
      " |-- rated: boolean (nullable = true)\n",
      " |-- created_at: double (nullable = true)\n",
      " |-- last_move_at: double (nullable = true)\n",
      " |-- turns: integer (nullable = true)\n",
      " |-- victory_status: string (nullable = true)\n",
      " |-- winner: string (nullable = true)\n",
      " |-- increment_code: string (nullable = true)\n",
      " |-- white_id: string (nullable = true)\n",
      " |-- white_rating: integer (nullable = true)\n",
      " |-- black_id: string (nullable = true)\n",
      " |-- black_rating: integer (nullable = true)\n",
      " |-- moves: string (nullable = true)\n",
      " |-- opening_eco: string (nullable = true)\n",
      " |-- opening_name: string (nullable = true)\n",
      " |-- opening_ply: integer (nullable = true)\n",
      "\n"
     ]
    }
   ],
   "source": [
    "games.printSchema()"
   ]
  },
  {
   "cell_type": "code",
   "execution_count": 11,
   "id": "437a15a4",
   "metadata": {},
   "outputs": [],
   "source": [
    "games = games.withColumnRenamed(\"created_at\", \"start_time\") \\\n",
    "             .withColumnRenamed(\"last_move_at\", \"end_time\") \\\n",
    "             .withColumnRenamed(\"increment_code\", \"time_increment\") "
   ]
  },
  {
   "cell_type": "code",
   "execution_count": 12,
   "id": "bd7efc89",
   "metadata": {
    "scrolled": true
   },
   "outputs": [
    {
     "name": "stdout",
     "output_type": "stream",
     "text": [
      "\n"
     ]
    }
   ],
   "source": [
    "\"\"\"games.show(1)\"\"\"\n",
    "print()"
   ]
  },
  {
   "cell_type": "code",
   "execution_count": 13,
   "id": "8ce672c3",
   "metadata": {
    "scrolled": false
   },
   "outputs": [
    {
     "data": {
      "text/html": [
       "<div>\n",
       "<style scoped>\n",
       "    .dataframe tbody tr th:only-of-type {\n",
       "        vertical-align: middle;\n",
       "    }\n",
       "\n",
       "    .dataframe tbody tr th {\n",
       "        vertical-align: top;\n",
       "    }\n",
       "\n",
       "    .dataframe thead th {\n",
       "        text-align: right;\n",
       "    }\n",
       "</style>\n",
       "<table border=\"1\" class=\"dataframe\">\n",
       "  <thead>\n",
       "    <tr style=\"text-align: right;\">\n",
       "      <th></th>\n",
       "      <th>id</th>\n",
       "      <th>rated</th>\n",
       "      <th>start_time</th>\n",
       "      <th>end_time</th>\n",
       "      <th>turns</th>\n",
       "      <th>victory_status</th>\n",
       "      <th>winner</th>\n",
       "      <th>time_increment</th>\n",
       "      <th>white_id</th>\n",
       "      <th>white_rating</th>\n",
       "      <th>black_id</th>\n",
       "      <th>black_rating</th>\n",
       "      <th>opening_eco</th>\n",
       "      <th>opening_name</th>\n",
       "      <th>opening_ply</th>\n",
       "    </tr>\n",
       "  </thead>\n",
       "  <tbody>\n",
       "    <tr>\n",
       "      <th>0</th>\n",
       "      <td>TZJHLljE</td>\n",
       "      <td>False</td>\n",
       "      <td>1.504210e+12</td>\n",
       "      <td>1.504210e+12</td>\n",
       "      <td>13</td>\n",
       "      <td>outoftime</td>\n",
       "      <td>white</td>\n",
       "      <td>15+2</td>\n",
       "      <td>bourgris</td>\n",
       "      <td>1500</td>\n",
       "      <td>a-00</td>\n",
       "      <td>1191</td>\n",
       "      <td>D10</td>\n",
       "      <td>Slav Defense: Exchange Variation</td>\n",
       "      <td>5</td>\n",
       "    </tr>\n",
       "    <tr>\n",
       "      <th>1</th>\n",
       "      <td>l1NXvwaE</td>\n",
       "      <td>True</td>\n",
       "      <td>1.504130e+12</td>\n",
       "      <td>1.504130e+12</td>\n",
       "      <td>16</td>\n",
       "      <td>resign</td>\n",
       "      <td>black</td>\n",
       "      <td>5+10</td>\n",
       "      <td>a-00</td>\n",
       "      <td>1322</td>\n",
       "      <td>skinnerua</td>\n",
       "      <td>1261</td>\n",
       "      <td>B00</td>\n",
       "      <td>Nimzowitsch Defense: Kennedy Variation</td>\n",
       "      <td>4</td>\n",
       "    </tr>\n",
       "    <tr>\n",
       "      <th>2</th>\n",
       "      <td>mIICvQHh</td>\n",
       "      <td>True</td>\n",
       "      <td>1.504130e+12</td>\n",
       "      <td>1.504130e+12</td>\n",
       "      <td>61</td>\n",
       "      <td>mate</td>\n",
       "      <td>white</td>\n",
       "      <td>5+10</td>\n",
       "      <td>ischia</td>\n",
       "      <td>1496</td>\n",
       "      <td>a-00</td>\n",
       "      <td>1500</td>\n",
       "      <td>C20</td>\n",
       "      <td>King's Pawn Game: Leonardis Variation</td>\n",
       "      <td>3</td>\n",
       "    </tr>\n",
       "    <tr>\n",
       "      <th>3</th>\n",
       "      <td>kWKvrqYL</td>\n",
       "      <td>True</td>\n",
       "      <td>1.504110e+12</td>\n",
       "      <td>1.504110e+12</td>\n",
       "      <td>61</td>\n",
       "      <td>mate</td>\n",
       "      <td>white</td>\n",
       "      <td>20+0</td>\n",
       "      <td>daniamurashov</td>\n",
       "      <td>1439</td>\n",
       "      <td>adivanov2009</td>\n",
       "      <td>1454</td>\n",
       "      <td>D02</td>\n",
       "      <td>Queen's Pawn Game: Zukertort Variation</td>\n",
       "      <td>3</td>\n",
       "    </tr>\n",
       "    <tr>\n",
       "      <th>4</th>\n",
       "      <td>9tXo1AUZ</td>\n",
       "      <td>True</td>\n",
       "      <td>1.504030e+12</td>\n",
       "      <td>1.504030e+12</td>\n",
       "      <td>95</td>\n",
       "      <td>mate</td>\n",
       "      <td>white</td>\n",
       "      <td>30+3</td>\n",
       "      <td>nik221107</td>\n",
       "      <td>1523</td>\n",
       "      <td>adivanov2009</td>\n",
       "      <td>1469</td>\n",
       "      <td>C41</td>\n",
       "      <td>Philidor Defense</td>\n",
       "      <td>5</td>\n",
       "    </tr>\n",
       "  </tbody>\n",
       "</table>\n",
       "</div>"
      ],
      "text/plain": [
       "         id  rated    start_time      end_time  turns victory_status winner  \\\n",
       "0  TZJHLljE  False  1.504210e+12  1.504210e+12     13      outoftime  white   \n",
       "1  l1NXvwaE   True  1.504130e+12  1.504130e+12     16         resign  black   \n",
       "2  mIICvQHh   True  1.504130e+12  1.504130e+12     61           mate  white   \n",
       "3  kWKvrqYL   True  1.504110e+12  1.504110e+12     61           mate  white   \n",
       "4  9tXo1AUZ   True  1.504030e+12  1.504030e+12     95           mate  white   \n",
       "\n",
       "  time_increment       white_id  white_rating      black_id  black_rating  \\\n",
       "0           15+2       bourgris          1500          a-00          1191   \n",
       "1           5+10           a-00          1322     skinnerua          1261   \n",
       "2           5+10         ischia          1496          a-00          1500   \n",
       "3           20+0  daniamurashov          1439  adivanov2009          1454   \n",
       "4           30+3      nik221107          1523  adivanov2009          1469   \n",
       "\n",
       "  opening_eco                            opening_name  opening_ply  \n",
       "0         D10        Slav Defense: Exchange Variation            5  \n",
       "1         B00  Nimzowitsch Defense: Kennedy Variation            4  \n",
       "2         C20   King's Pawn Game: Leonardis Variation            3  \n",
       "3         D02  Queen's Pawn Game: Zukertort Variation            3  \n",
       "4         C41                        Philidor Defense            5  "
      ]
     },
     "execution_count": 13,
     "metadata": {},
     "output_type": "execute_result"
    }
   ],
   "source": [
    "games.limit(5).toPandas()"
   ]
  },
  {
   "cell_type": "code",
   "execution_count": 14,
   "id": "c77fd3c1",
   "metadata": {
    "scrolled": true
   },
   "outputs": [
    {
     "name": "stdout",
     "output_type": "stream",
     "text": [
      "+-----+------+--------------------------------------+--------------+------------+------------+\n",
      "|rated|winner|opening_name                          |time_increment|white_rating|black_rating|\n",
      "+-----+------+--------------------------------------+--------------+------------+------------+\n",
      "|false|white |Slav Defense: Exchange Variation      |15+2          |1500        |1191        |\n",
      "|true |black |Nimzowitsch Defense: Kennedy Variation|5+10          |1322        |1261        |\n",
      "|true |white |King's Pawn Game: Leonardis Variation |5+10          |1496        |1500        |\n",
      "|true |white |Queen's Pawn Game: Zukertort Variation|20+0          |1439        |1454        |\n",
      "|true |white |Philidor Defense                      |30+3          |1523        |1469        |\n",
      "+-----+------+--------------------------------------+--------------+------------+------------+\n",
      "only showing top 5 rows\n",
      "\n"
     ]
    }
   ],
   "source": [
    "games.select(\"rated\", \"winner\", \"opening_name\",\"time_increment\",\"white_rating\",\"black_rating\").show(5, truncate=False)"
   ]
  },
  {
   "cell_type": "code",
   "execution_count": 15,
   "id": "45ff0ee2",
   "metadata": {},
   "outputs": [
    {
     "name": "stdout",
     "output_type": "stream",
     "text": [
      "root\n",
      " |-- id: string (nullable = true)\n",
      " |-- rated: boolean (nullable = true)\n",
      " |-- start_time: double (nullable = true)\n",
      " |-- end_time: double (nullable = true)\n",
      " |-- turns: integer (nullable = true)\n",
      " |-- victory_status: string (nullable = true)\n",
      " |-- winner: string (nullable = true)\n",
      " |-- time_increment: string (nullable = true)\n",
      " |-- white_id: string (nullable = true)\n",
      " |-- white_rating: integer (nullable = true)\n",
      " |-- black_id: string (nullable = true)\n",
      " |-- black_rating: integer (nullable = true)\n",
      " |-- opening_eco: string (nullable = true)\n",
      " |-- opening_name: string (nullable = true)\n",
      " |-- opening_ply: integer (nullable = true)\n",
      "\n"
     ]
    }
   ],
   "source": [
    "games.printSchema()"
   ]
  },
  {
   "cell_type": "code",
   "execution_count": 16,
   "id": "030e4802",
   "metadata": {},
   "outputs": [
    {
     "name": "stdout",
     "output_type": "stream",
     "text": [
      "\n"
     ]
    }
   ],
   "source": [
    "\"\"\"(games.describe().select(\n",
    "                    \"summary\",\n",
    "                    F.round(\"id\", 4).alias(\"id\"),\n",
    "                    F.round(\"created_at\", 4).alias(\"created_at\"),\n",
    "                    F.round(\"last_move_at\", 4).alias(\"last_move_at\"),\n",
    "                    F.round(\"turns\", 4).alias(\"turns\"),\n",
    "                    F.round(\"victory_status\", 4).alias(\"victory_status\"),\n",
    "                    F.round(\"winner\", 4).alias(\"winner\"),\n",
    "                    F.round(\"increment_code\", 4).alias(\"increment_code\"),\n",
    "                    F.round(\"white_id\", 4).alias(\"white_id\"),\n",
    "                    F.round(\"white_rating\", 4).alias(\"white_rating\"),\n",
    "                    F.round(\"black_id\", 4).alias(\"black_id\"),\n",
    "                    F.round(\"black_rating\", 4).alias(\"black_rating\"),\n",
    "                    F.round(\"moves\", 4).alias(\"moves\"),\n",
    "                    F.round(\"opening_eco\", 4).alias(\"opening_eco\"),\n",
    "                    F.round(\"opening_name\", 4).alias(\"opening_name\"),\n",
    "                    F.round(\"opening_ply\", 4).alias(\"opening_ply\"))\n",
    "                    .show())\"\"\"\n",
    "print()"
   ]
  },
  {
   "cell_type": "code",
   "execution_count": 17,
   "id": "22791df2",
   "metadata": {},
   "outputs": [
    {
     "data": {
      "text/html": [
       "<div>\n",
       "<style scoped>\n",
       "    .dataframe tbody tr th:only-of-type {\n",
       "        vertical-align: middle;\n",
       "    }\n",
       "\n",
       "    .dataframe tbody tr th {\n",
       "        vertical-align: top;\n",
       "    }\n",
       "\n",
       "    .dataframe thead th {\n",
       "        text-align: right;\n",
       "    }\n",
       "</style>\n",
       "<table border=\"1\" class=\"dataframe\">\n",
       "  <thead>\n",
       "    <tr style=\"text-align: right;\">\n",
       "      <th></th>\n",
       "      <th>summary</th>\n",
       "      <th>id</th>\n",
       "      <th>start_time</th>\n",
       "      <th>end_time</th>\n",
       "      <th>turns</th>\n",
       "      <th>victory_status</th>\n",
       "      <th>winner</th>\n",
       "      <th>time_increment</th>\n",
       "      <th>white_id</th>\n",
       "      <th>white_rating</th>\n",
       "      <th>black_id</th>\n",
       "      <th>black_rating</th>\n",
       "      <th>opening_eco</th>\n",
       "      <th>opening_name</th>\n",
       "      <th>opening_ply</th>\n",
       "    </tr>\n",
       "  </thead>\n",
       "  <tbody>\n",
       "    <tr>\n",
       "      <th>0</th>\n",
       "      <td>count</td>\n",
       "      <td>20058</td>\n",
       "      <td>20058</td>\n",
       "      <td>20058</td>\n",
       "      <td>20058</td>\n",
       "      <td>20058</td>\n",
       "      <td>20058</td>\n",
       "      <td>20058</td>\n",
       "      <td>20058</td>\n",
       "      <td>20058</td>\n",
       "      <td>20058</td>\n",
       "      <td>20058</td>\n",
       "      <td>20058</td>\n",
       "      <td>20058</td>\n",
       "      <td>20058</td>\n",
       "    </tr>\n",
       "    <tr>\n",
       "      <th>1</th>\n",
       "      <td>mean</td>\n",
       "      <td>None</td>\n",
       "      <td>1.483616852629092E12</td>\n",
       "      <td>1.4836177223361443E12</td>\n",
       "      <td>60.46599860404826</td>\n",
       "      <td>None</td>\n",
       "      <td>None</td>\n",
       "      <td>None</td>\n",
       "      <td>2.6775729307708335E9</td>\n",
       "      <td>1596.6318675840064</td>\n",
       "      <td>5.294535237863636E9</td>\n",
       "      <td>1588.8319872370128</td>\n",
       "      <td>None</td>\n",
       "      <td>None</td>\n",
       "      <td>4.8169807558081565</td>\n",
       "    </tr>\n",
       "    <tr>\n",
       "      <th>2</th>\n",
       "      <td>stddev</td>\n",
       "      <td>None</td>\n",
       "      <td>2.850150942100429E10</td>\n",
       "      <td>2.850140058889147E10</td>\n",
       "      <td>33.57058475353722</td>\n",
       "      <td>None</td>\n",
       "      <td>None</td>\n",
       "      <td>None</td>\n",
       "      <td>1.1283509443243038E10</td>\n",
       "      <td>291.253375737019</td>\n",
       "      <td>1.8875165053331074E10</td>\n",
       "      <td>291.03612596033423</td>\n",
       "      <td>None</td>\n",
       "      <td>None</td>\n",
       "      <td>2.7971518106301025</td>\n",
       "    </tr>\n",
       "    <tr>\n",
       "      <th>3</th>\n",
       "      <td>min</td>\n",
       "      <td>005lW0Xz</td>\n",
       "      <td>1.376771633173E12</td>\n",
       "      <td>1.376771863841E12</td>\n",
       "      <td>1</td>\n",
       "      <td>draw</td>\n",
       "      <td>black</td>\n",
       "      <td>0+12</td>\n",
       "      <td>--jim--</td>\n",
       "      <td>784</td>\n",
       "      <td>-0olo0-</td>\n",
       "      <td>789</td>\n",
       "      <td>A00</td>\n",
       "      <td>Alekhine Defense</td>\n",
       "      <td>1</td>\n",
       "    </tr>\n",
       "    <tr>\n",
       "      <th>4</th>\n",
       "      <td>max</td>\n",
       "      <td>zzcDhaYF</td>\n",
       "      <td>1.50449314379E12</td>\n",
       "      <td>1.504493827262E12</td>\n",
       "      <td>349</td>\n",
       "      <td>resign</td>\n",
       "      <td>white</td>\n",
       "      <td>90+8</td>\n",
       "      <td>zzzimon</td>\n",
       "      <td>2700</td>\n",
       "      <td>zztopillo</td>\n",
       "      <td>2723</td>\n",
       "      <td>E98</td>\n",
       "      <td>Zukertort Opening: Wade Defense</td>\n",
       "      <td>28</td>\n",
       "    </tr>\n",
       "  </tbody>\n",
       "</table>\n",
       "</div>"
      ],
      "text/plain": [
       "  summary        id            start_time               end_time  \\\n",
       "0   count     20058                 20058                  20058   \n",
       "1    mean      None  1.483616852629092E12  1.4836177223361443E12   \n",
       "2  stddev      None  2.850150942100429E10   2.850140058889147E10   \n",
       "3     min  005lW0Xz     1.376771633173E12      1.376771863841E12   \n",
       "4     max  zzcDhaYF      1.50449314379E12      1.504493827262E12   \n",
       "\n",
       "               turns victory_status winner time_increment  \\\n",
       "0              20058          20058  20058          20058   \n",
       "1  60.46599860404826           None   None           None   \n",
       "2  33.57058475353722           None   None           None   \n",
       "3                  1           draw  black           0+12   \n",
       "4                349         resign  white           90+8   \n",
       "\n",
       "                white_id        white_rating               black_id  \\\n",
       "0                  20058               20058                  20058   \n",
       "1   2.6775729307708335E9  1596.6318675840064    5.294535237863636E9   \n",
       "2  1.1283509443243038E10    291.253375737019  1.8875165053331074E10   \n",
       "3                --jim--                 784                -0olo0-   \n",
       "4                zzzimon                2700              zztopillo   \n",
       "\n",
       "         black_rating opening_eco                     opening_name  \\\n",
       "0               20058       20058                            20058   \n",
       "1  1588.8319872370128        None                             None   \n",
       "2  291.03612596033423        None                             None   \n",
       "3                 789         A00                 Alekhine Defense   \n",
       "4                2723         E98  Zukertort Opening: Wade Defense   \n",
       "\n",
       "          opening_ply  \n",
       "0               20058  \n",
       "1  4.8169807558081565  \n",
       "2  2.7971518106301025  \n",
       "3                   1  \n",
       "4                  28  "
      ]
     },
     "execution_count": 17,
     "metadata": {},
     "output_type": "execute_result"
    }
   ],
   "source": [
    "games.describe().toPandas()"
   ]
  },
  {
   "cell_type": "code",
   "execution_count": 24,
   "id": "22698a4c",
   "metadata": {
    "scrolled": true
   },
   "outputs": [
    {
     "name": "stdout",
     "output_type": "stream",
     "text": [
      "+---+-----+----------+--------+-----+--------------+------+--------------+--------+------------+--------+------------+-----------+------------+-----------+\n",
      "| id|rated|start_time|end_time|turns|victory_status|winner|time_increment|white_id|white_rating|black_id|black_rating|opening_eco|opening_name|opening_ply|\n",
      "+---+-----+----------+--------+-----+--------------+------+--------------+--------+------------+--------+------------+-----------+------------+-----------+\n",
      "|  0|    0|         0|       0|    0|             0|     0|             0|       0|           0|       0|           0|          0|           0|          0|\n",
      "+---+-----+----------+--------+-----+--------------+------+--------------+--------+------------+--------+------------+-----------+------------+-----------+\n",
      "\n"
     ]
    }
   ],
   "source": [
    "missing = games.select([count(when(isnull(c), c)).alias(c) for c in games.columns]).show()"
   ]
  },
  {
   "cell_type": "markdown",
   "id": "739b3a97",
   "metadata": {},
   "source": [
    "No missing (null) values."
   ]
  },
  {
   "cell_type": "markdown",
   "id": "5e217c16",
   "metadata": {},
   "source": [
    "# EDA"
   ]
  },
  {
   "cell_type": "code",
   "execution_count": 54,
   "id": "d02101d0",
   "metadata": {},
   "outputs": [
    {
     "data": {
      "text/plain": [
       "<AxesSubplot: xlabel='victory_status'>"
      ]
     },
     "execution_count": 54,
     "metadata": {},
     "output_type": "execute_result"
    },
    {
     "data": {
      "image/png": "[encoded data removed]",
      "text/plain": [
       "<Figure size 800x800 with 1 Axes>"
      ]
     },
     "metadata": {},
     "output_type": "display_data"
    }
   ],
   "source": [
    "# group by victory status and see the distribution\n",
    "result = games.groupBy(\"victory_status\").count().sort(\"victory_status\", ascending=False)\n",
    "result.toPandas().plot.bar(x='victory_status',figsize=(8, 8))"
   ]
  },
  {
   "cell_type": "code",
   "execution_count": 55,
   "id": "377b9bb3",
   "metadata": {},
   "outputs": [
    {
     "data": {
      "text/plain": [
       "<AxesSubplot: xlabel='winner'>"
      ]
     },
     "execution_count": 55,
     "metadata": {},
     "output_type": "execute_result"
    },
    {
     "data": {
      "image/png": "[encoded data removed]",
      "text/plain": [
       "<Figure size 800x800 with 1 Axes>"
      ]
     },
     "metadata": {},
     "output_type": "display_data"
    }
   ],
   "source": [
    "# group by winner and see the distribution\n",
    "result = games.groupBy(\"winner\").count().sort(\"winner\", ascending=False)\n",
    "result.toPandas().plot.bar(x='winner',figsize=(8, 8))"
   ]
  },
  {
   "cell_type": "code",
   "execution_count": 56,
   "id": "ded34389",
   "metadata": {},
   "outputs": [
    {
     "ename": "TypeError",
     "evalue": "DataFrame.corr() missing 2 required positional arguments: 'col1' and 'col2'",
     "output_type": "error",
     "traceback": [
      "\u001b[1;31m---------------------------------------------------------------------------\u001b[0m",
      "\u001b[1;31mTypeError\u001b[0m                                 Traceback (most recent call last)",
      "Input \u001b[1;32mIn [56]\u001b[0m, in \u001b[0;36m<cell line: 2>\u001b[1;34m()\u001b[0m\n\u001b[0;32m      1\u001b[0m plt\u001b[38;5;241m.\u001b[39mfigure(figsize \u001b[38;5;241m=\u001b[39m (\u001b[38;5;241m11\u001b[39m,\u001b[38;5;241m11\u001b[39m))\n\u001b[1;32m----> 2\u001b[0m corr \u001b[38;5;241m=\u001b[39m \u001b[43mgames\u001b[49m\u001b[38;5;241;43m.\u001b[39;49m\u001b[43mcorr\u001b[49m\u001b[43m(\u001b[49m\u001b[43m)\u001b[49m\n\u001b[0;32m      3\u001b[0m mask \u001b[38;5;241m=\u001b[39m np\u001b[38;5;241m.\u001b[39mtriu(np\u001b[38;5;241m.\u001b[39mones_like(corr, dtype\u001b[38;5;241m=\u001b[39m\u001b[38;5;28mbool\u001b[39m))\n\u001b[0;32m      4\u001b[0m sns\u001b[38;5;241m.\u001b[39mheatmap(corr, mask \u001b[38;5;241m=\u001b[39m mask, robust \u001b[38;5;241m=\u001b[39m \u001b[38;5;28;01mTrue\u001b[39;00m, center \u001b[38;5;241m=\u001b[39m \u001b[38;5;241m0\u001b[39m,square \u001b[38;5;241m=\u001b[39m \u001b[38;5;28;01mTrue\u001b[39;00m, cmap\u001b[38;5;241m=\u001b[39m\u001b[38;5;124m\"\u001b[39m\u001b[38;5;124mviridis\u001b[39m\u001b[38;5;124m\"\u001b[39m,linewidths \u001b[38;5;241m=\u001b[39m \u001b[38;5;241m.6\u001b[39m)\n",
      "\u001b[1;31mTypeError\u001b[0m: DataFrame.corr() missing 2 required positional arguments: 'col1' and 'col2'"
     ]
    },
    {
     "data": {
      "text/plain": [
       "<Figure size 1100x1100 with 0 Axes>"
      ]
     },
     "metadata": {},
     "output_type": "display_data"
    }
   ],
   "source": [
    "plt.figure(figsize = (11,11))\n",
    "corr = games.corr()\n",
    "mask = np.triu(np.ones_like(corr, dtype=bool))\n",
    "sns.heatmap(corr, mask = mask, robust = True, center = 0,square = True, cmap=\"viridis\",linewidths = .6)\n",
    "plt.title('Correlation Table')\n",
    "plt.show()"
   ]
  },
  {
   "cell_type": "markdown",
   "id": "d91c9c40",
   "metadata": {},
   "source": [
    "## Preprocessing the Data"
   ]
  },
  {
   "cell_type": "code",
   "execution_count": 12,
   "id": "2d180fc4",
   "metadata": {},
   "outputs": [
    {
     "name": "stdout",
     "output_type": "stream",
     "text": [
      "Sum of all duplicated values: 3968\n"
     ]
    }
   ],
   "source": [
    "#controlling duplicated values\n",
    "window_spec = Window.partitionBy(\"id\")\n",
    "games_with_count = games.withColumn(\"count\", F.count(\"id\").over(window_spec))\n",
    "duplicate_rows = games_with_count.filter(\"count > 1\")\n",
    "duplicate_rows = duplicate_rows.orderBy(\"id\")\n",
    "#to see duplicated values\n",
    "# duplicate_rows.toPandas()\n",
    "sum_of_duplicated_values = duplicate_rows.select(F.sum(\"count\")).collect()[0][0]\n",
    "print(\"Sum of all duplicated values:\", sum_of_duplicated_values)"
   ]
  },
  {
   "cell_type": "code",
   "execution_count": 13,
   "id": "bf81de9a",
   "metadata": {},
   "outputs": [],
   "source": [
    "games = games.dropDuplicates(subset=[\"id\"])"
   ]
  },
  {
   "cell_type": "code",
   "execution_count": 14,
   "id": "86fb3b99",
   "metadata": {},
   "outputs": [
    {
     "data": {
      "text/html": [
       "<div>\n",
       "<style scoped>\n",
       "    .dataframe tbody tr th:only-of-type {\n",
       "        vertical-align: middle;\n",
       "    }\n",
       "\n",
       "    .dataframe tbody tr th {\n",
       "        vertical-align: top;\n",
       "    }\n",
       "\n",
       "    .dataframe thead th {\n",
       "        text-align: right;\n",
       "    }\n",
       "</style>\n",
       "<table border=\"1\" class=\"dataframe\">\n",
       "  <thead>\n",
       "    <tr style=\"text-align: right;\">\n",
       "      <th></th>\n",
       "      <th>summary</th>\n",
       "      <th>id</th>\n",
       "      <th>start_time</th>\n",
       "      <th>end_time</th>\n",
       "      <th>turns</th>\n",
       "      <th>victory_status</th>\n",
       "      <th>winner</th>\n",
       "      <th>time_increment</th>\n",
       "      <th>white_id</th>\n",
       "      <th>white_rating</th>\n",
       "      <th>black_id</th>\n",
       "      <th>black_rating</th>\n",
       "      <th>moves</th>\n",
       "      <th>opening_eco</th>\n",
       "      <th>opening_name</th>\n",
       "      <th>opening_ply</th>\n",
       "    </tr>\n",
       "  </thead>\n",
       "  <tbody>\n",
       "    <tr>\n",
       "      <th>0</th>\n",
       "      <td>count</td>\n",
       "      <td>19113</td>\n",
       "      <td>19113</td>\n",
       "      <td>19113</td>\n",
       "      <td>19113</td>\n",
       "      <td>19113</td>\n",
       "      <td>19113</td>\n",
       "      <td>19113</td>\n",
       "      <td>19113</td>\n",
       "      <td>19113</td>\n",
       "      <td>19113</td>\n",
       "      <td>19113</td>\n",
       "      <td>19113</td>\n",
       "      <td>19113</td>\n",
       "      <td>19113</td>\n",
       "      <td>19113</td>\n",
       "    </tr>\n",
       "    <tr>\n",
       "      <th>1</th>\n",
       "      <td>mean</td>\n",
       "      <td>None</td>\n",
       "      <td>1.4834131013193103E12</td>\n",
       "      <td>1.4834139747733328E12</td>\n",
       "      <td>60.513838748495786</td>\n",
       "      <td>None</td>\n",
       "      <td>None</td>\n",
       "      <td>None</td>\n",
       "      <td>2.73448511712766E9</td>\n",
       "      <td>1597.300005232041</td>\n",
       "      <td>6.019286096111111E9</td>\n",
       "      <td>1590.045518756867</td>\n",
       "      <td>None</td>\n",
       "      <td>None</td>\n",
       "      <td>None</td>\n",
       "      <td>4.815779835713912</td>\n",
       "    </tr>\n",
       "    <tr>\n",
       "      <th>2</th>\n",
       "      <td>stddev</td>\n",
       "      <td>None</td>\n",
       "      <td>2.833975096426027E10</td>\n",
       "      <td>2.8339639419694542E10</td>\n",
       "      <td>33.48826396268022</td>\n",
       "      <td>None</td>\n",
       "      <td>None</td>\n",
       "      <td>None</td>\n",
       "      <td>1.1398530926117226E10</td>\n",
       "      <td>290.0227398102658</td>\n",
       "      <td>2.0835821566559532E10</td>\n",
       "      <td>290.4416944907074</td>\n",
       "      <td>None</td>\n",
       "      <td>None</td>\n",
       "      <td>None</td>\n",
       "      <td>2.7982829080050116</td>\n",
       "    </tr>\n",
       "    <tr>\n",
       "      <th>3</th>\n",
       "      <td>min</td>\n",
       "      <td>005lW0Xz</td>\n",
       "      <td>1.376771633173E12</td>\n",
       "      <td>1.376771863841E12</td>\n",
       "      <td>1</td>\n",
       "      <td>draw</td>\n",
       "      <td>black</td>\n",
       "      <td>0+12</td>\n",
       "      <td>--jim--</td>\n",
       "      <td>784</td>\n",
       "      <td>-0olo0-</td>\n",
       "      <td>789</td>\n",
       "      <td>Na3 Nf6 b3 e5 e3 Nc6 c4 Be7 d4 exd4 exd4 d5 Nc...</td>\n",
       "      <td>A00</td>\n",
       "      <td>Alekhine Defense</td>\n",
       "      <td>1</td>\n",
       "    </tr>\n",
       "    <tr>\n",
       "      <th>4</th>\n",
       "      <td>max</td>\n",
       "      <td>zzcDhaYF</td>\n",
       "      <td>1.50449314379E12</td>\n",
       "      <td>1.504493827262E12</td>\n",
       "      <td>349</td>\n",
       "      <td>resign</td>\n",
       "      <td>white</td>\n",
       "      <td>90+8</td>\n",
       "      <td>zzzimon</td>\n",
       "      <td>2700</td>\n",
       "      <td>zztopillo</td>\n",
       "      <td>2723</td>\n",
       "      <td>h4 e6 g3 d5 Bh3 c5 d3 Nc6 c3 Qb6 a3 Nh6 Bxh6 g...</td>\n",
       "      <td>E98</td>\n",
       "      <td>Zukertort Opening: Wade Defense</td>\n",
       "      <td>28</td>\n",
       "    </tr>\n",
       "  </tbody>\n",
       "</table>\n",
       "</div>"
      ],
      "text/plain": [
       "  summary        id             start_time               end_time  \\\n",
       "0   count     19113                  19113                  19113   \n",
       "1    mean      None  1.4834131013193103E12  1.4834139747733328E12   \n",
       "2  stddev      None   2.833975096426027E10  2.8339639419694542E10   \n",
       "3     min  005lW0Xz      1.376771633173E12      1.376771863841E12   \n",
       "4     max  zzcDhaYF       1.50449314379E12      1.504493827262E12   \n",
       "\n",
       "                turns victory_status winner time_increment  \\\n",
       "0               19113          19113  19113          19113   \n",
       "1  60.513838748495786           None   None           None   \n",
       "2   33.48826396268022           None   None           None   \n",
       "3                   1           draw  black           0+12   \n",
       "4                 349         resign  white           90+8   \n",
       "\n",
       "                white_id       white_rating               black_id  \\\n",
       "0                  19113              19113                  19113   \n",
       "1     2.73448511712766E9  1597.300005232041    6.019286096111111E9   \n",
       "2  1.1398530926117226E10  290.0227398102658  2.0835821566559532E10   \n",
       "3                --jim--                784                -0olo0-   \n",
       "4                zzzimon               2700              zztopillo   \n",
       "\n",
       "        black_rating                                              moves  \\\n",
       "0              19113                                              19113   \n",
       "1  1590.045518756867                                               None   \n",
       "2  290.4416944907074                                               None   \n",
       "3                789  Na3 Nf6 b3 e5 e3 Nc6 c4 Be7 d4 exd4 exd4 d5 Nc...   \n",
       "4               2723  h4 e6 g3 d5 Bh3 c5 d3 Nc6 c3 Qb6 a3 Nh6 Bxh6 g...   \n",
       "\n",
       "  opening_eco                     opening_name         opening_ply  \n",
       "0       19113                            19113               19113  \n",
       "1        None                             None   4.815779835713912  \n",
       "2        None                             None  2.7982829080050116  \n",
       "3         A00                 Alekhine Defense                   1  \n",
       "4         E98  Zukertort Opening: Wade Defense                  28  "
      ]
     },
     "execution_count": 14,
     "metadata": {},
     "output_type": "execute_result"
    }
   ],
   "source": [
    "games.describe().toPandas()"
   ]
  },
  {
   "cell_type": "code",
   "execution_count": 15,
   "id": "918187cf",
   "metadata": {},
   "outputs": [],
   "source": [
    "dataset = games.select(\"*\")"
   ]
  },
  {
   "cell_type": "code",
   "execution_count": 16,
   "id": "c46eaef4",
   "metadata": {},
   "outputs": [],
   "source": [
    "dataset2 = games.select(\"*\")"
   ]
  },
  {
   "cell_type": "markdown",
   "id": "dfe4dd2c",
   "metadata": {},
   "source": [
    "## --------------------------Rate values to INT--------------------------"
   ]
  },
  {
   "cell_type": "code",
   "execution_count": 17,
   "id": "3cd0da45",
   "metadata": {},
   "outputs": [],
   "source": [
    "#converting to str\n",
    "dataset = dataset.withColumn(\"rated\", when(col(\"rated\").cast(\"string\") == \"true\", \"true\").otherwise(\"false\"))"
   ]
  },
  {
   "cell_type": "code",
   "execution_count": 18,
   "id": "f07f369f",
   "metadata": {
    "scrolled": true
   },
   "outputs": [],
   "source": [
    "rate_map,rate_table,dataset = string_to_int(\"rated\",dataset)"
   ]
  },
  {
   "cell_type": "code",
   "execution_count": 19,
   "id": "820d488c",
   "metadata": {},
   "outputs": [
    {
     "name": "stdout",
     "output_type": "stream",
     "text": [
      "{0: 'true', 1: 'false'}\n",
      "+-----+-----+\n",
      "|rated|count|\n",
      "+-----+-----+\n",
      "|false| 3646|\n",
      "| true|15467|\n",
      "+-----+-----+\n",
      "\n"
     ]
    }
   ],
   "source": [
    "printMap_and_showTable(rate_map,rate_table)"
   ]
  },
  {
   "cell_type": "markdown",
   "id": "ecb80b3f",
   "metadata": {},
   "source": [
    "## --------------------------Victory values to INT--------------------------"
   ]
  },
  {
   "cell_type": "code",
   "execution_count": 21,
   "id": "354cd7a7",
   "metadata": {
    "scrolled": true
   },
   "outputs": [],
   "source": [
    "vic_map,vic_table,dataset = string_to_int(\"victory_status\",dataset)"
   ]
  },
  {
   "cell_type": "code",
   "execution_count": 22,
   "id": "14c70401",
   "metadata": {},
   "outputs": [
    {
     "name": "stdout",
     "output_type": "stream",
     "text": [
      "{0: 'resign', 1: 'mate', 2: 'outoftime', 3: 'draw'}\n",
      "+--------------+-----+\n",
      "|victory_status|count|\n",
      "+--------------+-----+\n",
      "|        resign|10695|\n",
      "|     outoftime| 1598|\n",
      "|          mate| 5974|\n",
      "|          draw|  846|\n",
      "+--------------+-----+\n",
      "\n"
     ]
    }
   ],
   "source": [
    "printMap_and_showTable(vic_map,vic_table)"
   ]
  },
  {
   "cell_type": "markdown",
   "id": "574aadf8",
   "metadata": {},
   "source": [
    "## --------------------------Winner values to INT--------------------------"
   ]
  },
  {
   "cell_type": "code",
   "execution_count": 23,
   "id": "815e6c31",
   "metadata": {
    "scrolled": true
   },
   "outputs": [],
   "source": [
    "win_map,win_table,dataset = string_to_int(\"winner\",dataset)"
   ]
  },
  {
   "cell_type": "code",
   "execution_count": 24,
   "id": "0a99ddf8",
   "metadata": {
    "scrolled": true
   },
   "outputs": [
    {
     "name": "stdout",
     "output_type": "stream",
     "text": [
      "{0: 'white', 1: 'black', 2: 'draw'}\n",
      "+------+-----+\n",
      "|winner|count|\n",
      "+------+-----+\n",
      "| white| 9545|\n",
      "| black| 8680|\n",
      "|  draw|  888|\n",
      "+------+-----+\n",
      "\n"
     ]
    }
   ],
   "source": [
    "printMap_and_showTable(win_map,win_table)"
   ]
  },
  {
   "cell_type": "markdown",
   "id": "240f892d",
   "metadata": {},
   "source": [
    "## --------------------------Opening Name values to INT--------------------------"
   ]
  },
  {
   "cell_type": "code",
   "execution_count": 34,
   "id": "2c720675",
   "metadata": {},
   "outputs": [],
   "source": [
    "openName_map,openName_table,dataset = string_to_int(\"opening_name\",dataset)"
   ]
  },
  {
   "cell_type": "code",
   "execution_count": 35,
   "id": "eeee4b54",
   "metadata": {},
   "outputs": [
    {
     "name": "stdout",
     "output_type": "stream",
     "text": [
      "{0: 'Sicilian Defense', 1: \"Van't Kruijs Opening\", 2: 'Sicilian Defense: Bowdler Attack', 3: 'French Defense: Knight Variation', 4: 'Scotch Game', 5: 'Scandinavian Defense: Mieses-Kotroc Variation', 6: \"Queen's Pawn Game: Mason Attack\", 7: \"Queen's Pawn Game: Chigorin Variation\", 8: 'Scandinavian Defense', 9: 'Horwitz Defense', 10: 'Caro-Kann Defense', 11: 'Philidor Defense #3', 12: 'Philidor Defense #2', 13: 'Indian Game', 14: 'Modern Defense', 15: 'Italian Game: Anti-Fried Liver Defense', 16: \"King's Pawn Game: Wayward Queen Attack\", 17: 'Four Knights Game: Italian Variation', 18: 'Owen Defense', 19: 'Sicilian Defense: Old Sicilian', 20: \"King's Pawn Game: Leonardis Variation\", 21: \"Queen's Pawn Game\", 22: 'Philidor Defense', 23: 'Ruy Lopez: Steinitz Defense', 24: \"Queen's Pawn\", 25: \"Queen's Gambit Refused: Marshall Defense\", 26: \"Bishop's Opening\", 27: 'French Defense: Normal Variation', 28: 'Hungarian Opening', 29: \"Queen's Gambit Declined\", 30: \"Queen's Pawn Game: Zukertort Variation\", 31: \"Queen's Pawn Game #2\", 32: \"Queen's Gambit Accepted: Old Variation\", 33: 'Sicilian Defense: Smith-Morra Gambit #2', 34: 'French Defense #2', 35: 'French Defense: Exchange Variation', 36: 'Italian Game', 37: 'Pirc Defense #4', 38: 'Giuoco Piano', 39: \"King's Pawn Game: McConnell Defense\", 40: \"English Opening: King's English Variation\", 41: \"Bishop's Opening: Berlin Defense\", 42: \"King's Knight Opening\", 43: 'Three Knights Opening', 44: \"King's Knight Opening: Normal Variation\", 45: 'Russian Game: Three Knights Game', 46: \"King's Pawn Game: Damiano Defense\", 47: 'Mieses Opening', 48: \"Queen's Pawn Game: London System\", 49: 'Ruy Lopez: Berlin Defense #2', 50: \"Italian Game: Two Knights Defense |  Modern Bishop's Opening\", 51: 'Sicilian Defense: Alapin Variation', 52: 'Bird Opening', 53: 'Sicilian Defense: McDonnell Attack', 54: 'Sicilian Defense: Closed Variation', 55: 'Italian Game: Giuoco Pianissimo |  Italian Four Knights Variation', 56: 'Russian Game: Urusov Gambit', 57: 'Caro-Kann Defense: Exchange Variation', 58: 'Bird Opening: Dutch Variation', 59: 'Sicilian Defense: Nyezhmetdinov-Rossolimo Attack', 60: 'Scandinavian Defense: Main Line', 61: 'Sicilian Defense: Najdorf Variation', 62: 'Center Game #2', 63: \"King's Pawn Game: Napoleon Attack\", 64: 'Sicilian Defense: French Variation', 65: \"King's Pawn Game: Busch-Gass Gambit\", 66: 'Scandinavian Defense: Modern Variation #2', 67: \"King's Pawn Game\", 68: 'Polish Opening', 69: 'Italian Game: Giuoco Pianissimo |  Normal', 70: 'Sicilian Defense #2', 71: 'Caro-Kann Defense: Advance Variation', 72: 'Elephant Gambit', 73: 'Sicilian Defense: Staunton-Cochrane Variation', 74: \"Queen's Pawn Game #3\", 75: 'French Defense: Advance Variation |  Paulsen Attack', 76: 'Saragossa Opening', 77: 'Nimzowitsch Defense: Kennedy Variation |  Linksspringer Variation', 78: 'French Defense: Steinitz Attack', 79: 'Sicilian Defense: Closed Variation |  Traditional', 80: 'Rat Defense: Small Center Defense', 81: 'Dutch Defense', 82: 'English Defense #2', 83: \"English Opening: King's English Variation |  Reversed Sicilian\", 84: 'English Opening: The Whale', 85: 'Englund Gambit', 86: \"King's Indian Attack\", 87: \"Zukertort Opening: Queen's Gambit Invitation\", 88: 'Alekhine Defense', 89: 'Pirc Defense #5', 90: \"Queen's Gambit Accepted\", 91: \"Queen's Pawn Game: Symmetrical Variation\", 92: 'Ruy Lopez', 93: 'Scotch Game: Classical Variation', 94: 'St. George Defense', 95: 'English Opening: Anglo-Scandinavian Defense', 96: 'French Defense: Advance Variation #3', 97: 'Sicilian Defense: Delayed Alapin', 98: \"French Defense: Queen's Knight\", 99: 'Italian Game: Schilling-Kostic Gambit', 100: 'Center Game: Normal Variation', 101: 'Robatsch (Modern) Defense', 102: 'Ruy Lopez: Exchange Variation', 103: 'French Defense: La Bourdonnais Variation', 104: \"King's Gambit\", 105: 'Philidor Defense: Exchange Variation #2', 106: 'Slav Defense #2', 107: 'Zukertort Opening: Sicilian Invitation', 108: 'Zukertort Opening: Tennison Gambit', 109: \"Bishop's Opening: Boi Variation\", 110: \"Petrov's Defense\", 111: \"Queen's Gambit Declined: Queen's Knight Variation\", 112: 'Ruy Lopez: Classical Variation', 113: 'French Defense: Advance Variation |  Nimzowitsch System', 114: \"King's Pawn Game: Wayward Queen Attack |  Kiddie Countergambit\", 115: 'Nimzowitsch Defense', 116: \"Petrov's Defense #2\", 117: 'Ruy Lopez: Cozio Defense', 118: 'Ruy Lopez: Morphy Defense |  Caro Variation', 119: 'Caro-Kann Defense: Hillbilly Attack', 120: 'Four Knights Game', 121: 'Four Knights Game: Spanish Variation', 122: 'Nimzo-Indian Defense: Ragozin Variation', 123: 'Old Benoni Defense', 124: 'Philidor Defense: Exchange Variation', 125: 'Russian Game: Damiano Variation', 126: 'Ruy Lopez: Bird Variation', 127: 'Sicilian Defense: Najdorf |  Lipnitsky Attack', 128: 'Slav Defense', 129: 'Mikenas Defense', 130: 'Sicilian Defense: Open #3', 131: 'Slav Defense: Three Knights Variation', 132: 'English Opening: Symmetrical Variation', 133: \"King's Pawn Game: Nimzowitsch Defense\", 134: \"King's Indian Defense\", 135: 'Nimzo-Larsen Attack: Classical Variation', 136: 'Pirc Defense: Classical Variation', 137: 'Reti Opening', 138: 'Semi-Slav Defense', 139: 'Van Geet Opening', 140: 'Alekhine Defense: Scandinavian Variation', 141: 'English Opening: Agincourt Defense', 142: 'Englund Gambit Declined |  Reversed French', 143: \"King's Pawn Game: Maroczy Defense\", 144: 'Ponziani Opening', 145: 'Zukertort Opening: Black Mustang Defense', 146: 'French Defense: Advance Variation #2', 147: \"French Defense: King's Indian Attack\", 148: 'Italian Game: Classical Variation |  Giuoco Pianissimo', 149: 'Old Indian Defense', 150: \"Queen's Gambit Declined: Normal Defense\", 151: \"Queen's Pawn Game: Colle System\", 152: 'Scotch Game: Schmidt Variation', 153: 'Sicilian Defense: Canal Attack |  Main Line', 154: \"Dutch Defense: Queen's Knight Variation\", 155: 'Four Knights Game: Scotch Variation Accepted', 156: 'Italian Game: Giuoco Pianissimo', 157: 'Italian Game: Two Knights Defense |  Knight Attack |  Normal Variation', 158: 'Vienna Game', 159: 'English Opening: Anglo-Indian Defense', 160: \"English Opening: King's English Variation |  Two Knights Variation\", 161: 'Grob Opening', 162: 'Kadas Opening', 163: 'Nimzo-Larsen Attack: Modern Variation #4', 164: 'Ponziani Opening: Jaenisch Counterattack', 165: 'Sicilian Defense: Loewenthal Variation', 166: 'French Defense: Advance Variation', 167: 'French Defense: Two Knights Variation', 168: 'Sicilian Defense: Smith-Morra Gambit', 169: 'Vienna Game: Stanley Variation', 170: 'Caro-Kann Defense: Classical Variation', 171: 'Danish Gambit', 172: 'Italian Game: Classical Variation #2', 173: 'Italian Game: Two Knights Defense |  Fried Liver Attack', 174: \"King's Gambit Accepted |  MacLeod Defense\", 175: \"King's Pawn Game: Macleod Attack\", 176: 'Sicilian Defense: Modern Variations |  Main Line', 177: 'Sicilian Defense: Paulsen Variation', 178: 'Caro-Kann Defense: Advance Variation |  Short Variation', 179: 'Mieses Opening: Reversed Rat', 180: 'Nimzo-Indian Defense', 181: 'Nimzo-Larsen Attack', 182: 'Philidor Defense #4', 183: 'Ruy Lopez: Berlin Defense |  Improved Steinitz Defense', 184: 'Ruy Lopez: Exchange Variation |  Lutikov Variation', 185: 'Nimzowitsch Defense: Scandinavian Variation |  Advance Variation', 186: 'Semi-Slav Defense: Accelerated Move Order', 187: 'Ware Opening', 188: 'English Opening', 189: 'Four Knights Game: Spanish Variation |  Classical Variation', 190: 'Italian Game: Hungarian Defense', 191: 'Italian Game: Two Knights Defense', 192: \"King's Gambit Declined |  Queen's Knight Defense\", 193: 'Nimzowitsch Defense |  Declined Variation', 194: 'Pirc Defense #2', 195: \"Queen's Pawn Game: Anti-Torre\", 196: 'Sicilian Defense: Closed', 197: 'Sicilian Defense: Hyperaccelerated Dragon', 198: 'Sicilian Defense: Najdorf Variation |  English Attack', 199: 'Sicilian Defense: Open', 200: 'Anderssen Opening', 201: \"King's Gambit Accepted |  Schallopp Defense\", 202: 'Trompowsky Attack', 203: 'Zukertort Opening: Pirc Invitation', 204: 'Benoni Defense: Benoni Gambit Accepted', 205: 'East Indian Defense', 206: 'English Opening: Great Snake Variation', 207: 'French Defense: Advance Variation #4', 208: \"Gedult's Opening\", 209: 'Italian Game: Two Knights Defense |  Polerio Defense |  Bishop Check Line', 210: \"King's Pawn Game: King's Head Opening #2\", 211: 'Portuguese Opening', 212: \"Queen's Pawn Game: Krause Variation\", 213: 'Ruy Lopez: Morphy Defense |  Anderssen Variation', 214: 'Caro-Kann Defense: Two Knights Attack', 215: 'English Opening: Caro-Kann Defensive System', 216: \"English Opening: King's English Variation |  Reversed Closed Sicilian\", 217: 'Indian Game: London System', 218: 'London System', 219: 'Pirc Defense #3', 220: \"Queen's Pawn Game: Steinitz Countergambit\", 221: 'Ruy Lopez: Berlin Defense |  Rio Gambit Accepted', 222: 'Sicilian Defense: Classical Variation', 223: 'Pirc Defense', 224: 'Slav Defense: Exchange Variation', 225: 'Slav Defense: Modern Line', 226: 'Yusupov-Rubinstein System', 227: 'Alekhine Defense: Maroczy Variation', 228: 'Blackmar-Diemer Gambit', 229: 'Budapest Defense: Adler Variation', 230: 'English Opening: Symmetrical Variation |  Normal Variation', 231: 'French Defense: Advance Variation |  Euwe Variation', 232: 'French Defense: Paulsen Variation', 233: 'Indian Game: East Indian Defense', 234: 'Sicilian Defense: Accelerated Dragon', 235: 'Sicilian Defense: Accelerated Dragon |  Modern Variation', 236: 'Sicilian Defense: Chekhover Variation', 237: 'Sicilian Defense: Dragon Variation', 238: 'Sicilian Defense: Franco-Sicilian Variation', 239: 'Sicilian Defense: Kan Variation |  Knight Variation', 240: 'Zukertort Opening: Kingside Fianchetto', 241: 'Alekhine Defense: Normal Variation', 242: 'Danish Gambit Accepted', 243: 'English Defense', 244: 'Four Knights Game: Scotch Variation', 245: 'French Defense: Advance Variation |  Milner-Barry Gambit', 246: 'French Defense: Classical Variation |  Steinitz Variation', 247: 'French Defense: Marshall Variation', 248: 'French Defense: Mediterranean Defense', 249: \"King's Indian Defense: Normal Variation |  King's Knight Variation\", 250: \"King's Indian Defense: Normal Variation |  Rare Defenses\", 251: \"King's Pawn\", 252: 'Nimzo-Larsen Attack: Modern Variation #2', 253: 'Nimzowitsch Defense: Franco-Nimzowitsch Variation', 254: 'Nimzowitsch-Larsen Attack', 255: \"Queen's Gambit Accepted: Saduleto Variation\", 256: \"Queen's Gambit Declined: Modern Variation\", 257: \"Queen's Gambit Declined: Three Knights Variation\", 258: 'Reti Opening #2', 259: 'Ruy Lopez: Morphy Defense |  Tarrasch Variation', 260: 'Barnes Defense', 261: 'Goldsmith Defense', 262: 'Indian Game: West Indian Defense', 263: 'Italian Game: Two Knights Defense |  Knight Attack', 264: 'Nimzo-Larsen Attack: Indian Variation', 265: \"Queen's Gambit Declined: Traditional Variation\", 266: \"Queen's Pawn Game: Franco-Sicilian Defense\", 267: \"Queen's Pawn Game: Levitsky Attack\", 268: \"Queen's Pawn Game: Stonewall Attack\", 269: 'Semi-Slav Defense: Main Line', 270: 'Three Knights Opening #2', 271: 'Zukertort Opening: Queenside Fianchetto Variation', 272: 'Zukertort Opening: Reversed Mexican Defense', 273: 'Zukertort Opening: Ross Gambit', 274: 'Colle System', 275: 'English Opening: Anglo-Lithuanian Variation', 276: \"King's Pawn Game: Beyer Gambit\", 277: 'Nimzo-Indian Defense #2', 278: \"Queen's Gambit Refused: Albin Countergambit\", 279: \"Queen's Gambit Refused: Austrian Defense\", 280: 'Ruy Lopez: Berlin Defense |  Beverwijk Variation', 281: 'Ruy Lopez: Exchange Variation |  Normal Variation', 282: 'Ruy Lopez: Morphy Defense', 283: 'Scandinavian Defense: Icelandic-Palme Gambit', 284: 'Sicilian Defense: Delayed Alapin Variation', 285: 'Torre Attack #2', 286: 'Center Game: Paulsen Attack Variation', 287: 'Elephant Gambit: Paulsen Countergambit', 288: 'English Opening: Anglo-Dutch Defense', 289: 'English Opening: Carls-Bremen System', 290: \"English Opening: King's English Variation |  Kramnik-Shirov Counterattack\", 291: 'Italian Game: Classical Variation |  Greco Gambit |  Traditional Line', 292: \"King's Gambit Accepted |  King's Knight Gambit\", 293: 'Polish Defense', 294: \"Queen's Gambit\", 295: \"Queen's Gambit Declined: Exchange Variation\", 296: 'Ruy Lopez: Berlin Defense', 297: 'Scotch Game: Classical Variation |  Intermezzo Variation', 298: 'Sicilian Defense: Canal-Sokolsky Attack', 299: 'Sicilian Defense: Grand Prix Attack', 300: 'Sicilian Defense: Nyezhmetdinov-Rossolimo Attack |  Fianchetto Variation', 301: 'Alekhine Defense: Two Pawn Attack', 302: 'Center Game', 303: \"English Opening: Anglo-Indian Defense |  Queen's Knight Variation\", 304: 'French Defense: Tarrasch Variation', 305: 'Gruenfeld Defense: Three Knights Variation |  Burille Variation', 306: 'Hungarian Opening: Indian Defense', 307: 'Indian Game: Tartakower Attack', 308: \"King's Indian Defense: Six Pawns Attack\", 309: \"King's Pawn Game: Gunderam Gambit\", 310: 'Nimzo-Indian Defense: Classical Variation', 311: 'Nimzo-Larsen Attack: Modern Variation #3', 312: \"Queen's Gambit Accepted: Rosenthal Variation\", 313: \"Queen's Gambit Declined: 4.Bg5 Be7\", 314: \"Queen's Pawn Game: Symmetrical Variation |  Pseudo-Catalan\", 315: 'Scandinavian Defense: Panov Transfer', 316: 'Sicilian Defense: Hyperaccelerated Fianchetto', 317: 'Slav Defense: Quiet Variation |  Pin Defense', 318: 'Torre Attack', 319: 'Vienna Game: Falkbeer Variation', 320: 'Amar Opening', 321: \"Bishop's Opening: Philidor Counterattack\", 322: \"Bishop's Opening: Ponziani Gambit\", 323: 'Caro-Kann Defense: Advance Variation |  Botvinnik-Carls Defense', 324: 'Duras Gambit', 325: 'Four Knights Game: Gunsberg Variation', 326: \"King's Indian Defense: Four Pawns Attack\", 327: \"King's Knight Opening: Konstantinopolsky\", 328: \"King's Pawn Opening: 2.b3\", 329: \"Queen's Gambit Accepted: Normal Variation\", 330: \"Queen's Gambit Declined: Exchange Variation |  Positional Variation #2\", 331: \"Queen's Gambit Declined: Modern Variation |  Normal Line\", 332: \"Queen's Gambit Refused: Albin Countergambit |  Normal Line\", 333: \"Queen's Gambit Refused: Chigorin Defense #3\", 334: \"Queen's Indian Defense\", 335: \"Queen's Pawn Opening: Veresov |  Richter Attack\", 336: 'Rat Defense: Balogh Defense', 337: 'Ruy Lopez: Classical Variation |  Central Variation', 338: \"Ruy Lopez: Exchange Variation |  King's Bishop Variation\", 339: 'Scandinavian Defense: Blackburne Gambit', 340: 'Scotch Game: Lolli Variation', 341: 'Scotch Game: Scotch Gambit', 342: 'Sicilian Defense: Lasker-Pelikan Variation', 343: 'Sicilian Defense: Snyder Variation', 344: 'Ware Defense', 345: 'Alekhine Defense: Mokele Mbembe', 346: 'Center Game: Berger Variation', 347: 'Danish Gambit Accepted |  Copenhagen Defense', 348: \"English Opening: King's English Variation |  Three Knights System\", 349: 'French Defense: Advance Variation |  Main Line', 350: 'Gunderam Defense', 351: 'Italian Game: Classical Variation |  Albin Gambit', 352: 'Italian Game: Giuoco Pianissimo |  Canal Variation', 353: \"Italian Game: Giuoco Piano |  Greco's Attack\", 354: \"King's Gambit Accepted |  Bishop's Gambit\", 355: \"King's Gambit Accepted |  Fischer Defense\", 356: \"King's Indian Attack: Symmetrical Defense\", 357: \"King's Pawn Game: Mengarini's Opening\", 358: 'Nimzo-Larsen Attack: Modern Variation', 359: 'Nimzowitsch Defense: Williams Variation', 360: \"Queen's Gambit Accepted: Central Variation |  Greco Variation\", 361: \"Queen's Pawn Game: Torre Attack\", 362: 'Russian Game: Cozio (Lasker) Attack', 363: 'Ruy Lopez: Morphy Defense |  Classical Defense Deferred', 364: 'Sicilian Defense: Dragon |  6.Be3', 365: 'Sicilian Defense: Paulsen Variation |  Normal Variation', 366: 'Slav Defense #3', 367: 'Van Geet Opening: Reversed Nimzowitsch', 368: \"Bird Opening: From's Gambit\", 369: 'Blumenfeld Countergambit #2', 370: 'Dutch Defense: Normal Variation', 371: 'French Defense: Schlechter Variation', 372: 'French Defense: Steiner Variation', 373: 'Indian Game: Pawn Push Variation', 374: \"King's Pawn Game: Tayler Opening\", 375: 'Paleface Attack', 376: \"Queen's Gambit Refused: Baltic Defense\", 377: 'Rat Defense: Antal Defense', 378: 'Richter-Veresov Attack', 379: 'Scandinavian Defense: Gubinsky-Melts Defense', 380: 'Scandinavian Defense: Main Line |  Mieses Variation', 381: 'Sicilian Defense: Lasker-Pelikan Variation |  Schlechter Variation', 382: 'Sicilian Defense: Modern Variations |  Anti-Qxd4 Move Order', 383: 'Tarrasch Defense: Symmetrical Variation', 384: 'Vienna Game: Stanley Variation |  Reversed Spanish', 385: 'Vienna Game: Vienna Gambit', 386: 'Borg Defense', 387: 'Caro-Kann Defense: Advance Variation |  Van der Wiel Attack', 388: 'Caro-Kann Defense: Breyer Variation', 389: 'Clemenz Opening', 390: 'Colle System #2', 391: \"English Opening: Anglo-Indian Defense |  King's Indian Formation\", 392: \"English Opening: Anglo-Indian Defense |  King's Knight Variation\", 393: \"English Opening: King's English Variation |  Four Knights Variation |  Quiet Line #3\", 394: 'English Opening: Symmetrical Variation |  Fianchetto Variation', 395: 'Four Knights Game: Ranken Variation', 396: 'French Defense', 397: 'Gruenfeld Defense: Exchange Variation |  Modern Exchange Variation', 398: 'Hungarian Opening: Symmetrical Variation', 399: 'Indian Game: Budapest Defense', 400: 'Indian Game: Seirawan Attack', 401: 'Indian Game: Spielmann-Indian', 402: 'Italian Game: Two Knights Defense |  Fritz Variation', 403: 'Italian Game: Two Knights Defense |  Polerio Defense', 404: 'Italian Game: Two Knights Defense |  Traxler Counterattack |  Knight Sacrifice Line', 405: \"King's Indian Defense: Normal Variation\", 406: 'Latvian Gambit Accepted', 407: 'Nimzo-Larsen Attack: English Variation', 408: 'Nimzowitsch Defense: Scandinavian Variation |  Exchange Variation', 409: 'Petrov: Modern Attack', 410: 'Philidor Defense: Nimzowitsch Variation', 411: \"Queen's Gambit Declined: Harrwitz Attack\", 412: \"Queen's Gambit Declined: Tarrasch Defense |  Pseudo-Tarrasch\", 413: \"Queen's Gambit Refused: Chigorin Defense #2\", 414: \"Queen's Gambit Refused: Chigorin Defense |  Modern Gambit\", 415: \"Queen's Pawn Game: Colle System |  Anti-Colle\", 416: 'Rat Defense: Harmonist', 417: 'Scandinavian Defense: Portuguese Variation', 418: 'Scotch Game: Haxo Gambit', 419: 'Scotch Game: Scotch Gambit |  Advance Variation', 420: 'Sicilian Defense: Accelerated Dragon |  Exchange Variation', 421: 'Sicilian Defense: Alapin Variation |  Barmen Defense', 422: 'Sicilian Defense: Jalalabad Variation', 423: 'Sicilian Defense: Kalashnikov Variation', 424: 'Sicilian Defense: Kan Variation |  Wing Attack', 425: 'Sicilian Defense: Lasker-Dunne Attack', 426: 'Sicilian Defense: Najdorf Variation |  Adams Attack', 427: 'Sicilian Defense: Najdorf Variation |  Opocensky Variation', 428: 'Sicilian Defense: Scheveningen Variation |  Classical Variation', 429: 'Sicilian Defense: Wing Gambit', 430: 'Sicilian Defense: Wing Gambit |  Marshall Variation', 431: 'Vienna Game: Anderssen Defense', 432: 'Zukertort Opening: Old Indian Attack', 433: 'Zukertort Opening: Slav Invitation', 434: 'Benko Gambit', 435: \"Bishop's Opening: Vienna Hybrid\", 436: \"Bishop's Opening: Vienna Hybrid |  Spielmann Attack\", 437: 'Caro-Kann Defense: Advance Variation |  Bayonet Attack', 438: 'Caro-Kann Defense: Maroczy Variation', 439: 'Caro-Kann Defense: Panov Attack #2', 440: 'Center Game: Hall Variation', 441: 'Danish Gambit Accepted |  Classical Defense', 442: 'Dutch Defense: Raphael Variation', 443: 'Franco-Benoni Defense', 444: 'French Defense: Advance |  Steinitz Variation', 445: 'French Defense: Chigorin Variation', 446: 'French Defense: Exchange Variation |  Monte Carlo Variation', 447: 'French Defense: Reti-Spielmann Attack', 448: 'French Defense: Rubinstein Variation', 449: 'French Defense: Winawer Variation |  Advance Variation', 450: 'French Defense: Winawer Variation |  Delayed Exchange Variation', 451: \"King's Gambit Accepted |  Polerio Gambit\", 452: \"King's Indian Defense: Orthodox Variation\", 453: \"King's Pawn Game: Dresden Opening\", 454: \"King's Pawn Game: Tortoise Opening\", 455: 'Nimzo-Indian Defense: Saemisch Variation |  Accelerated', 456: 'Nimzowitsch Defense: Mikenas Variation', 457: 'Philidor Defense: Exchange Variation #3', 458: 'Philidor Defense: Hanham Variation', 459: 'Pirc Defense: Byrne Variation', 460: \"Queen's Gambit Refused: Chigorin Defense |  Exchange Variation\", 461: 'Reti Opening: Reti Accepted', 462: 'Ruy Lopez: Closed', 463: 'Ruy Lopez: Exchange Variation |  Keres Variation', 464: 'Ruy Lopez: Morphy Defense |  Graz Variation', 465: 'Ruy Lopez: Morphy Defense |  Neo-Arkhangelsk Variation', 466: 'Scotch Game: Benima Defense', 467: 'Sicilian Defense: Accelerated Dragon |  Modern Bc4 Variation', 468: 'Sicilian Defense: Alapin Variation |  Smith-Morra Declined', 469: 'Sicilian Defense: French Variation |  Open', 470: 'Sicilian Defense: Godiva Variation', 471: 'Sicilian Defense: Nimzowitsch Variation |  Closed Variation', 472: \"Sicilian Defense: O'Kelly Variation |  Yerevan System\", 473: 'Sicilian Defense: Scheveningen Variation', 474: 'Slav Defense: Quiet Variation', 475: 'Slav Defense: Quiet Variation |  Schallopp Defense', 476: 'Van Geet Opening: Napoleon Attack', 477: 'Vienna Game: Max Lange Defense', 478: 'Zukertort Opening: Nimzo-Larsen Variation', 479: 'Blackmar-Diemer Gambit: Ryder Gambit', 480: 'Dutch Defense: Rubinstein Variation', 481: 'English Opening: Agincourt Defense #2', 482: 'English Opening: Agincourt Defense #3', 483: 'English Opening: Anglo-Indian Defense |  Hedgehog System', 484: 'English Opening: Symmetrical Variation |  Four Knights Variation', 485: 'Englund Gambit Complex: Englund Gambit', 486: 'Four Knights Game: Double Spanish', 487: 'Four Knights Game: Spanish Variation |  Rubinstein Variation', 488: 'French Defense: Classical Variation', 489: 'French Defense: Exchange Variation |  Svenonius Variation', 490: 'French Defense: Steinitz Variation |  Boleslavsky Variation', 491: 'Italian Game: Deutz Gambit', 492: 'Italian Game: Evans Gambit Declined', 493: \"King's Indian Defense: Makogonov Variation\", 494: \"King's Indian Defense: Smyslov Variation\", 495: \"King's Indian Defense: Zinnowitz Variation\", 496: 'Latvian Gambit', 497: 'Modern Defense: Standard Defense', 498: \"Queen's Gambit Accepted: Central Variation |  Modern Defense\", 499: \"Queen's Indian Defense: Spassky System\", 500: 'Ruy Lopez: Morphy Defense |  Modern Steinitz Defense', 501: 'Scotch Gambit', 502: 'Scotch Game: Scotch Gambit |  Sarratt Variation', 503: 'Sicilian Defense: Dragon Variation |  Classical Variation #2', 504: 'Sicilian Defense: Kan Variation', 505: 'Sicilian Defense: Nimzowitsch Variation |  Advance Variation', 506: 'Sicilian Defense: Sozin Attack', 507: 'Zukertort Opening: Dutch Variation', 508: 'Benoni Defense', 509: \"Bishop's Opening: Calabrese Countergambit\", 510: \"Bishop's Opening: Khan Gambit\", 511: 'Blackmar-Diemer Gambit: Zeller Defense', 512: 'Caro-Kann Defense: Advance Variation |  Tal Variation', 513: 'Caro-Kann Defense: Tartakower Variation', 514: 'English Opening: Anglo-Gruenfeld Defense', 515: 'English Opening: Four Knights System |  Nimzowitsch Variation', 516: \"English Opening: King's English Variation |  Four Knights Variation |  Fianchetto Line\", 517: \"English Opening: King's English Variation |  Two Knights Variation |  Reversed Dragon\", 518: \"English Opening: King's English Variation |  Two Knights Variation |  Smyslov System\", 519: 'English Opening: Symmetrical Variation |  Two Knights Variation', 520: 'French Defense: Rubinstein Variation |  Blackburne Defense', 521: 'French Defense: Tarrasch Variation |  Closed Variation', 522: 'French Defense: Tarrasch Variation |  Open System |  Suechting Line', 523: 'French Defense: Winawer Variation', 524: 'Gruenfeld Defense: Exchange Variation', 525: 'Hippopotamus Defense #2', 526: 'Hungarian Opening: Slav Formation', 527: 'Indian Game: Anti-Nimzo-Indian', 528: 'Indian Game: Przepiorka Variation', 529: 'Italian Game: Evans Gambit |  McDonnell Defense', 530: 'Italian Game: Two Knights Defense |  Polerio Defense |  Suhle Defense', 531: 'Italian Game: Two Knights Defense |  de Riviere Gambit', 532: \"King's Gambit Accepted: Modern Defense #2\", 533: \"King's Gambit Declined: Keene's Defense #2\", 534: \"King's Indian Attack: Sicilian Variation\", 535: \"King's Indian Defense: Saemisch Variation\", 536: \"King's Indian Defense: Saemisch Variation |  Normal Defense\", 537: 'Modern Defense: Bishop Attack', 538: 'Modern Defense: Mongredien Defense #2', 539: 'Modern Defense: Two Knights Variation', 540: 'Nimzo-Indian Defense: Leningrad Variation', 541: 'Nimzo-Larsen Attack: Symmetrical Variation', 542: 'Nimzowitsch Defense: Scandinavian Variation |  Bogoljubov Variation', 543: 'Pirc Defense: Austrian Attack |  Weiss Variation', 544: 'Pirc Defense: Classical Variation |  Schlechter Variation', 545: \"Queen's Gambit Accepted: Accelerated Mannheim Variation\", 546: \"Queen's Gambit Declined: Exchange Variation |  Positional Variation\", 547: \"Queen's Gambit Refused: Baltic Defense |  Pseudo-Slav\", 548: \"Queen's Gambit Refused: Chigorin Defense\", 549: \"Queen's Gambit Refused: Chigorin Defense |  Janowski Variation\", 550: \"Queen's Indian Defense: Fianchetto Traditional\", 551: \"Queen's Pawn Game: Veresov Attack |  Classical Defense\", 552: 'Russian Game: Damiano Variation |  Kholmov Gambit', 553: 'Russian Game: Nimzowitsch Attack', 554: 'Ruy Lopez: Nuernberg Variation', 555: 'Scandinavian Defense: Blackburne-Kloosterboer Gambit', 556: 'Scandinavian Defense: Marshall Variation', 557: 'Scotch Game: Malaniuk Variation', 558: 'Scotch Game: Potter Variation', 559: 'Semi-Slav Defense: Normal Variation', 560: 'Sicilian Defense: Accelerated Dragon |  Maroczy Bind', 561: 'Sicilian Defense: Dragon Variation |  Yugoslav Attack', 562: 'Sicilian Defense: Drazic Variation', 563: 'Sicilian Defense: Four Knights Variation', 564: 'Sicilian Defense: French Variation |  Normal', 565: 'Sicilian Defense: Kan Variation |  Modern Variation', 566: 'Sicilian Defense: Kramnik Variation', 567: 'Sicilian Defense: Lasker-Pelikan Variation |  Retreat Variation', 568: 'Sicilian Defense: Marshall Counterattack', 569: 'Sicilian Defense: Mengarini Variation', 570: 'Sicilian Defense: Modern Variations', 571: 'Sicilian Defense: Najdorf Variation |  Amsterdam Variation', 572: 'Sicilian Defense: Paulsen Variation |  Bastrikov Variation', 573: 'Sicilian Defense: Smith-Morra Gambit Accepted |  Scheveningen Formation', 574: 'Slav Defense: Bonet Gambit', 575: 'Slav Indian', 576: 'Tarrasch Defense', 577: 'Three Knights Opening: Winawer Defense', 578: 'Trompowsky Attack: Classical Defense |  Big Center Variation', 579: 'Vienna Game: Zhuravlev Countergambit #2', 580: 'Zukertort Opening: Arctic Defense', 581: 'Amazon Attack', 582: 'Caro-Kann Defense: Panov Attack', 583: 'Caro-Kann Defense: Two Knights Attack |  Mindeno Variation', 584: 'Carr Defense', 585: 'Crab Opening', 586: 'Creepy Crawly Formation: Classical Defense', 587: 'English Opening: Anglo-Indian Defense |  Scandinavian Defense', 588: \"English Opening: King's English Variation |  Four Knights Variation #2\", 589: 'English Opening: Mikenas-Carls Variation #2', 590: 'Englund Gambit Complex: Hartlaub-Charlick Gambit', 591: 'Englund Gambit Complex: Soller Gambit', 592: 'Englund Gambit Declined |  Reversed Alekhine', 593: 'Four Knights Game: Italian Variation |  Noa Gambit', 594: 'French Defense: Horwitz Attack', 595: 'French Defense: Tarrasch Variation |  Closed Variation #2', 596: 'French Defense: Tarrasch Variation |  Closed Variation |  Main Line', 597: 'French Defense: Tarrasch Variation |  Open System', 598: 'French Defense: Winawer Variation |  Advance Variation #2', 599: 'French Defense: Winawer Variation |  Fingerslip Variation', 600: 'Gruenfeld Defense', 601: 'Guatemala Defense', 602: 'Hungarian Opening: Catalan Formation', 603: 'Indian Game: Wade-Tartakower Defense', 604: 'Italian Game: Rousseau Gambit', 605: 'Italian Game: Two Knights Defense |  Traxler Counterattack |  Bishop Sacrifice Line', 606: \"King's Gambit Declined |  Classical Variation\", 607: \"King's Pawn Game: King's Head Opening\", 608: 'Mexican Defense', 609: 'Modern Defense: Three Pawns Attack', 610: 'Nimzo-Indian Defense: Classical Variation |  Noa Variation', 611: 'Nimzo-Indian Defense: Three Knights Variation', 612: 'Nimzowitsch Defense: Kennedy Variation', 613: 'Nimzowitsch Defense: Pseudo-Spanish Variation', 614: 'Philidor Defense: Lopez Countergambit', 615: 'Philidor Defense: Nimzowitsch Variation #2', 616: 'Philidor Defense: Philidor Countergambit', 617: \"Queen's Gambit Accepted: Central Variation |  McDonnell Defense\", 618: \"Queen's Gambit Declined: Vienna Variation\", 619: \"Queen's Indian Defense: Kasparov Variation\", 620: \"Queen's Pawn Game: Veresov Attack |  Alburt Defense\", 621: 'Rat Defense: English Rat', 622: 'Russian Game: Classical Attack', 623: \"Ruy Lopez: Berlin Defense |  l'Hermet Variation\", 624: 'Ruy Lopez: Closed Variations', 625: 'Ruy Lopez: Schliemann Defense |  Jaenisch Gambit Accepted', 626: 'Ruy Lopez: Spanish Countergambit', 627: 'Scotch Game: Scotch Gambit |  Dubois Reti Defense', 628: 'Sicilian Defense: Closed #2', 629: 'Sicilian Defense: Closed Variation |  Fianchetto Variation', 630: 'Sicilian Defense: Dragon Variation |  Yugoslav Attack |  Main Line', 631: 'Sicilian Defense: Katalimov Variation', 632: \"Sicilian Defense: O'Kelly Variation |  Normal System |  Taimanov Line\", 633: 'Sicilian Defense: Paulsen Variation |  Szen Variation', 634: 'Sicilian Defense: Pin Variation', 635: 'Sicilian Defense: Scheveningen Variation |  English Attack #2', 636: 'Slav Defense: Modern', 637: 'Alekhine Defense: Exchange Variation', 638: 'Alekhine Defense: John Tracy Gambit', 639: 'Alekhine Defense: Modern Variation |  Main Line', 640: 'Alekhine Defense: Mokele Mbembe |  Vavra Defense', 641: 'Alekhine Defense: The Squirrel', 642: 'Benoni Defense: Benoni-Indian Defense', 643: 'Benoni Defense: Classical Variation', 644: 'Benoni Defense: Czech Benoni Defense', 645: 'Blackmar-Diemer Gambit: Gedult Gambit', 646: 'Blackmar-Diemer Gambit: Teichmann Variation', 647: 'Budapest Defense', 648: 'Canard Opening', 649: 'Caro-Kann Defense: Classical |  Spassky Variation', 650: 'Caro-Kann Defense: Karpov Variation', 651: 'Caro-Kann Defense: Two Knights Attack |  Mindeno Variation |  Exchange Line', 652: 'Caro-Kann Defense: Two Knights Attack |  Mindeno Variation |  Retreat Line', 653: 'Center Game: Kieseritzky Variation #4', 654: 'Czech Defense', 655: 'Danish Gambit Declined |  Sorensen Defense', 656: 'Dutch Defense: Hopton Attack', 657: 'English Opening: Anglo-Indian Defense |  Anglo-Gruenfeld Variation #3', 658: 'English Opening: Anglo-Indian Defense |  Scandinavian Defense |  Exchange Variation', 659: 'English Opening: Symmetrical Variation |  Duchamp Variation', 660: 'Englund Gambit Complex Declined', 661: 'French Defense: Bird Invitation', 662: 'French Defense: Classical Variation |  Delayed Exchange Variation', 663: 'French Defense: Steinitz Variation #2', 664: 'French Defense: Winawer Variation |  Advance Variation #3', 665: 'French Defense: Winawer Variation |  Winckelmann-Riemer Gambit', 666: 'French Defense: Wing Gambit', 667: 'Gruenfeld Defense: Stockholm Variation', 668: 'Gruenfeld Defense: Three Knights Variation |  Petrosian System', 669: 'Hungarian Opening: Sicilian Invitation', 670: 'Indian Game: Anti-Gruenfeld |  Advance Variation', 671: 'Indian Game: Normal Variation', 672: \"Italian Game: Bird's Attack\", 673: 'Italian Game: Classical Variation |  Center Attack', 674: 'Italian Game: Two Knights Defense #2', 675: 'Italian Game: Two Knights Defense |  Lolli Attack', 676: 'Italian Game: Two Knights Defense |  Open Variation', 677: 'Kangaroo Defense', 678: \"King's Gambit Accepted |  Cunningham Defense\", 679: \"King's Gambit Declined |  Petrov's Defense\", 680: \"King's Gambit |  Falkbeer Countergambit Accepted\", 681: \"King's Indian Attack: Wahls Defense\", 682: \"King's Indian Defense: Fianchetto Variation |  Debrecen Defense\", 683: \"King's Indian Defense: Four Pawns Attack |  Dynamic Attack\", 684: \"Modern Defense: Geller's System\", 685: 'Nimzo-Indian Defense: Classical Variation |  Berlin Variation', 686: 'Nimzo-Indian Defense: Normal Variation |  Ragozin Variation', 687: 'Nimzowitsch Defense: Kennedy Variation |  Paulsen Attack', 688: 'Nimzowitsch Defense: Kennedy Variation |  de Smet Gambit', 689: 'Nimzowitsch Defense: Lean Variation |  Colorado Counter Accepted', 690: 'Old Benoni Defense #2', 691: \"Petrov's Defense #4\", 692: 'Philidor Defense: Lion Variation', 693: 'Pirc Defense: Austrian Attack', 694: 'Polish Opening: Bugayev Attack', 695: 'Polish Opening: Czech Defense', 696: \"Queen's Gambit Declined: Semi-Tarrasch |  5.cxd5\", 697: \"Queen's Indian Accelerated\", 698: \"Queen's Pawn Game: Anglo-Slav Opening\", 699: 'Reti Opening: Advance Variation', 700: 'Russian Game: Cochrane Gambit', 701: 'Ruy Lopez: Columbus Variation', 702: 'Ruy Lopez: Exchange Variation |  Gligoric Variation', 703: 'Ruy Lopez: Marshall Attack |  Modern Main Line', 704: 'Ruy Lopez: Morphy Defense #2', 705: 'Ruy Lopez: Morphy Defense |  Modern Steinitz Defense #2', 706: 'Scandinavian Defense: Boehnke Gambit', 707: 'Scandinavian Defense: Modern Variation', 708: 'Scandinavian Defense: Modern Variation |  Gipslis Variation', 709: 'Scotch Game: Modern Defense', 710: 'Semi-Slav Defense: Chigorin Defense', 711: 'Semi-Slav Defense: Marshall Gambit', 712: 'Sicilian Defense: Alapin Variation |  Stoltz Attack', 713: 'Sicilian Defense: Brick Variation', 714: 'Sicilian Defense: Dragon Variation |  Modern Bc4 Variation', 715: 'Sicilian Defense: Dragon Variation |  Yugoslav Attack |  Modern Line', 716: 'Sicilian Defense: Dragon Variation |  Yugoslav Attack |  Old Line', 717: 'Sicilian Defense: Kronberger Variation', 718: 'Sicilian Defense: Lasker-Pelikan Variation |  Exchange Variation', 719: 'Sicilian Defense: Lasker-Pelikan Variation |  Sveshnikov Variation |  Chelyabinsk Variation', 720: 'Sicilian Defense: Open #2', 721: 'Sicilian Defense: Prins Variation', 722: 'Sicilian Defense: Sozin Attack |  Leonhardt Variation', 723: 'Sicilian Defense: Wing Gambit |  Carlsbad Variation', 724: 'Slav Defense: Chameleon Variation', 725: 'Slav Defense: Exchange Variation |  Schallopp Variation', 726: 'Slav Defense: Exchange Variation |  Symmetrical Line', 727: 'Sodium Attack', 728: 'Van Geet Opening: Dunst-Perrenet Gambit', 729: 'Vienna Game: Mengarini Variation', 730: 'Alekhine Defense #2', 731: 'Alekhine Defense: Modern Variation |  Larsen Variation', 732: 'Alekhine Defense: Scandinavian Variation |  Geschev Gambit', 733: 'Alekhine Defense: Two Pawn Attack |  Lasker Variation', 734: 'Benko Gambit Accepted |  Fully Accepted Variation', 735: 'Benoni Defense: Benoni-Indian Defense |  Kingside Move Order', 736: 'Benoni Defense: Classical Variation |  New York Variation', 737: 'Benoni Defense: Modern Variation', 738: 'Benoni Defense: Old Benoni', 739: 'Bird Opening: Williams Gambit', 740: 'Blackmar-Diemer Gambit Declined |  Lamb Defense', 741: 'Blackmar-Diemer Gambit: von Popiel Gambit', 742: 'Blumenfeld Countergambit Accepted', 743: 'Bogo-Indian Defense: Exchange Variation', 744: 'Borg Defense: Borg Gambit', 745: 'Caro-Kann Defense: Accelerated Panov Attack', 746: 'Caro-Kann Defense: Accelerated Panov Attack #2', 747: 'Caro-Kann Defense: Accelerated Panov Attack |  Modern Variation', 748: 'Caro-Kann Defense: Advance Variation |  Bronstein Variation', 749: 'Caro-Kann Defense: Alekhine Gambit', 750: 'Caro-Kann Defense: Classical Variation |  Flohr Variation', 751: 'Caro-Kann Defense: Classical Variation |  Main Line', 752: 'Caro-Kann Defense: Euwe Attack', 753: 'Caro-Kann Defense: Exchange Variation |  Rubinstein Variation', 754: 'Caro-Kann Defense: Modern Variation', 755: 'Caro-Kann Defense: Panov Attack |  Modern Defense', 756: 'Catalan Opening: Closed Variation', 757: 'Dutch Defense: Classical Variation', 758: 'Dutch Defense: Fianchetto Attack', 759: 'Dutch Defense: Staunton Gambit Accepted', 760: \"English Opening: King's English Variation |  Four Knights Variation |  Flexible Line\", 761: \"English Opening: King's English Variation |  Nimzowitsch Variation\", 762: 'English Opening: Symmetrical Variation |  Mecking Variation', 763: 'Englund Gambit Complex: Felbecker Gambit', 764: 'Four Knights Game: Halloween Gambit', 765: 'French Defense: Advance Variation |  Wade Variation', 766: 'French Defense: Classical Variation |  Swiss Variation', 767: 'French Defense: Franco-Hiva Gambit I', 768: 'French Defense: Rubinstein Variation |  Fort Knox Variation', 769: 'French Defense: Tarrasch |  Open |  4.exd5 exd5', 770: 'French Defense: Winawer Variation |  Maroczy-Wallis Variation', 771: 'Grob Opening: Spike |  Hurst Attack', 772: 'Gruenfeld Defense: Exchange Variation |  Spassky Variation', 773: 'Gruenfeld Defense: Three Knights Variation', 774: 'Gruenfeld Defense: Three Knights Variation |  Hungarian Variation', 775: 'Gruenfeld Defense: Three Knights Variation |  Paris Variation', 776: 'Hungarian Opening: Reversed Alekhine', 777: 'Italian Game: Classical Variation |  Greco Gambit |  Moeller-Therkatz Attack', 778: 'Italian Game: Giuoco Piano |  Aitken Variation', 779: 'Italian Game: Jerome Gambit', 780: 'Italian Game: Rosentreter Gambit', 781: 'Italian Game: Scotch Gambit Declined', 782: 'Italian Game: Scotch Gambit |  Janowski Defense', 783: 'Italian Game: Two Knights Defense |  Polerio Defense |  Bogoljubov Variation', 784: 'Italian Game: Two Knights Defense |  Ponziani-Steinitz Gambit', 785: 'Italian Game: Two Knights Defense |  Ulvestad Variation', 786: \"King's Gambit Accepted |  Bishop's Gambit |  Maurian Defense\", 787: \"King's Gambit Declined |  Norwalde Variation\", 788: \"King's Indian Defense: 3.Nc3\", 789: \"King's Indian Defense: Exchange Variation\", 790: \"King's Indian Defense: Larsen Variation\", 791: \"King's Indian Defense: Saemisch Variation |  Closed Variation\", 792: \"King's Indian Defense: Saemisch Variation |  Closed Variation |  7...c6\", 793: \"King's Pawn Game: Alapin Opening\", 794: 'Lemming Defense', 795: 'Mikenas Defense: Cannstatter Variation', 796: 'Modern Defense: Averbakh Variation', 797: 'Modern Defense: Norwegian Defense', 798: 'Modern Defense: Standard Line', 799: 'Modern Defense: Two Knights Variation |  Suttles Variation', 800: 'Neo-Gruenfeld Defense: Delayed Exchange Variation', 801: 'Nimzo-Indian Defense: Normal Line', 802: 'Nimzo-Indian Defense: Normal Variation |  Bernstein Defense', 803: 'Nimzo-Indian Defense: Normal Variation |  Gligoric System |  Bernstein Defense', 804: 'Nimzo-Indian Defense: Normal Variation |  Huebner Deferred', 805: 'Nimzo-Indian Defense: Panov Attack |  Main Line', 806: 'Nimzowitsch Defense: Breyer Variation', 807: 'Old Indian Defense: Ukrainian Variation', 808: 'Old Indian: Czech Variation |  with Nc3', 809: 'Philidor Defense: Steinitz Variation', 810: 'Pirc Defense: Austrian Attack |  Dragon Formation', 811: 'Pirc Defense: Classical Variation #2', 812: \"Polish Opening: King's Indian Variation\", 813: 'Polish Opening: Outflank Variation', 814: \"Queen's Gambit Accepted: Slav Gambit\", 815: \"Queen's Gambit Declined: Charousek (Petrosian) Variation\", 816: \"Queen's Gambit Declined: Harrwitz Attack |  Orthodox Defense\", 817: \"Queen's Gambit Declined: Neo-Orthodox Variation |  Main Line\", 818: \"Queen's Gambit Declined: Orthodox Defense\", 819: \"Queen's Gambit Declined: Orthodox Defense |  Botvinnik Variation\", 820: \"Queen's Gambit Declined: Semi-Tarrasch Defense |  Pillsbury Variation\", 821: \"Queen's Gambit Declined: Tartakower Variation |  Exchange Variation\", 822: \"Queen's Gambit Declined: Vienna Variation |  Quiet Variation\", 823: \"Queen's Gambit Refused: Chigorin Defense |  Main Line\", 824: \"Queen's Indian Defense: Capablanca Variation\", 825: \"Queen's Pawn Game: Torre Attack |  Gruenfeld Variation |  Main Line\", 826: 'Rat Defense: Accelerated Gurgenidze', 827: 'Russian Game: Classical Attack |  Chigorin Variation', 828: 'Russian Game: French Attack', 829: 'Russian Game: Karklins-Martinovsky Variation', 830: 'Russian Game: Modern Attack |  Center Variation', 831: 'Russian Game: Modern Attack |  Symmetrical Variation #2', 832: 'Russian Game: Paulsen Attack', 833: 'Russian Game: Stafford Gambit', 834: 'Ruy Lopez: Classical Variation |  Zukertort Gambit', 835: 'Ruy Lopez: Closed Variations |  Bogoljubov Variation', 836: 'Ruy Lopez: Closed Variations |  Flohr System', 837: 'Ruy Lopez: Cozio Defense |  Paulsen Variation', 838: 'Ruy Lopez: Exchange Variation |  Bronstein Variation', 839: 'Ruy Lopez: Fianchetto Defense', 840: 'Ruy Lopez: Morphy Defense |  Mackenzie Variation', 841: 'Ruy Lopez: Morphy Defense |  Steinitz Deferred', 842: 'Ruy Lopez: Schliemann Defense', 843: 'Ruy Lopez: Steinitz Defense |  Nimzowitsch Attack', 844: 'Ruy Lopez: Vinogradov Variation', 845: 'Scandinavian Defense: Main Line |  Leonhardt Gambit', 846: 'Scotch Game: Mieses Variation', 847: 'Scotch Game: Paulsen Attack', 848: 'Scotch Game: Scotch Gambit |  London Defense', 849: 'Semi-Bononi', 850: 'Semi-Slav Defense: Bogoljubov Variation', 851: 'Sicilian Defense: Classical Variation |  Anti-Sozin Variation', 852: 'Sicilian Defense: Dragon |  Classical Attack', 853: 'Sicilian Defense: Flohr Variation', 854: 'Sicilian Defense: Hyperaccelerated Pterodactyl', 855: 'Sicilian Defense: Kan Variation |  Maroczy Bind |  Reti Variation', 856: 'Sicilian Defense: Modern Variations |  Tartakower', 857: \"Sicilian Defense: O'Kelly Variation\", 858: 'Sicilian Defense: Paulsen-Basman Defense', 859: 'Sicilian Defense: Smith-Morra Gambit Accepted |  Pin Defense', 860: 'Sicilian Defense: Sozin Attack |  Flank Variation', 861: 'Sicilian Defense: Venice Attack', 862: 'Slav Defense: Czech Variation', 863: 'Slav Defense: Czech Variation |  Wiesbaden Variation', 864: 'Slav Defense: Schlechter Variation', 865: 'System: Double Duck Formation', 866: 'Tarrasch Defense: Two Knights Variation', 867: 'Three Knights Opening: Steinitz Defense', 868: 'Torre Attack: Classical Defense |  Nimzowitsch Variation', 869: 'Vienna Game #2', 870: 'Vienna Game: Paulsen Variation', 871: 'Zukertort Opening: Lisitsyn Gambit', 872: \"Zukertort Opening: Santasiere's Folly\", 873: 'Zukertort Opening: Vos Gambit', 874: 'Alekhine Defense: Brooklyn Variation', 875: 'Alekhine Defense: Four Pawns Attack', 876: 'Alekhine Defense: Four Pawns Attack |  Trifunovic Variation', 877: 'Alekhine Defense: Krejcik Variation', 878: 'Alekhine Defense: Saemisch Attack', 879: 'Barnes Opening: Walkerling', 880: 'Benko Gambit Accepted |  Fianchetto Variation', 881: 'Benoni Defense: Hromadka System', 882: \"Benoni Defense: King's Pawn Line\", 883: \"Bishop's Opening: Urusov Gambit\", 884: \"Bishop's Opening: Urusov Gambit |  Keidansky Gambit\", 885: 'Blackmar-Diemer Gambit: Netherlands Variation', 886: 'Blackmar-Diemer Gambit: Pietrowsky Defense', 887: 'Blackmar-Diemer Gambit: Vienna Variation', 888: 'Bogo-Indian Defense: Nimzowitsch Variation', 889: 'Bogo-Indian Defense: Wade-Smyslov Variation', 890: 'Budapest Defense: Rubinstein Variation', 891: 'Caro-Kann Defense #2', 892: 'Caro-Kann Defense: Accelerated Panov Attack |  Open Variation', 893: 'Caro-Kann Defense: Classical |  7...Nd7', 894: 'Caro-Kann Defense: Main Line', 895: 'Caro-Kann Defense: Masi Variation', 896: 'Caro-Kann Defense: Panov Attack |  Modern Defense |  Mieses Line', 897: 'Caro-Kann Defense: Ulysses Gambit', 898: 'Catalan Opening', 899: 'Center Game Accepted', 900: 'Center Game: Kieseritzky Variation #2', 901: 'Center Game: Kieseritzky Variation #3', 902: 'Colle System: Traditional Colle', 903: 'Dutch Defense: Omega-Isis Gambit', 904: 'Elephant Gambit: Maroczy Gambit', 905: 'English Opening: Achilles-Omega Gambit', 906: 'English Opening: Agincourt Defense |  Catalan Defense', 907: 'English Opening: Anglo-Scandinavian Defense |  Malvinas Variation', 908: 'English Opening: Symmetrical Variation |  Anti-Benoni Variation', 909: 'English Opening: Symmetrical Variation |  Full Symmetry Line', 910: 'English Opening: Symmetrical Variation |  Symmetrical Variation', 911: 'Englund Gambit Declined |  Reversed Krebs', 912: 'Four Knights Game: Spanish Variation |  Rubinstein Variation Accepted', 913: 'French Defense: Advance Variation |  Nimzowitsch Attack', 914: 'French Defense: Burn Variation', 915: 'French Defense: Carlson Gambit', 916: 'French Defense: Classical Variation |  Alapin Variation', 917: 'French Defense: Classical Variation |  Normal Variation', 918: 'French Defense: Classical Variation |  Svenonius Variation', 919: 'French Defense: MacCutcheon Variation |  Chigorin Variation', 920: 'French Defense: Pelikan Variation', 921: 'French Defense: Perseus Gambit', 922: 'French Defense: Tarrasch Variation |  Chistyakov Defense', 923: 'French Defense: Tarrasch Variation |  Guimard Defense |  Main Line', 924: 'French Defense: Tarrasch Variation |  Morozevich Variation', 925: 'French Defense: Tarrasch Variation |  Open System |  Euwe-Keres Line', 926: 'French Defense: Tarrasch Variation |  Pawn Center Variation', 927: 'French Defense: Winawer Variation |  Poisoned Pawn Variation', 928: 'Grob Opening: Grob Gambit', 929: 'Grob Opening: Grob Gambit |  Fritz Gambit', 930: 'Gruenfeld Defense: Three Knights Variation |  Hungarian Attack', 931: 'Hungarian Opening: Reversed Modern Defense', 932: \"Indian Game: Colle System |  King's Indian Variation\", 933: 'Indian Game: Paleface Attack |  Blackmar-Diemer Gambit Deferred', 934: 'Irish Gambit', 935: 'Italian Game: Classical Variation', 936: 'Italian Game: Classical Variation |  Greco Gambit', 937: 'Italian Game: Evans Gambit', 938: 'Italian Game: Evans Gambit |  Main Line', 939: 'Italian Game: Evans Gambit |  Pierce Defense', 940: 'Italian Game: Evans Gambit |  Slow Variation', 941: 'Italian Game: Giuoco Piano |  Bernstein Variation', 942: 'Italian Game: Scotch Gambit |  Walbrodt-Baird Gambit', 943: 'Italian Game: Two Knights Defense |  Max Lange Attack', 944: 'Italian Game: Two Knights Defense |  Polerio Defense |  Kieseritzky Variation', 945: 'Italian Game: Two Knights Defense |  Steinitz Variation', 946: 'Kangaroo Defense: Keres Defense |  Transpositional Variation', 947: \"King's Gambit Accepted |  Becker Defense\", 948: \"King's Gambit Accepted |  Bishop's Gambit |  Lopez Defense\", 949: \"King's Gambit Accepted |  Modern Defense\", 950: \"King's Gambit Accepted |  Muzio Gambit |  Sarratt Defense\", 951: \"King's Gambit Accepted: King Knight's Gambit\", 952: \"King's Gambit Declined |  Keene Defense\", 953: \"King's Gambit Declined |  Mafia Defense\", 954: \"King's Gambit Declined |  Miles Defense\", 955: \"King's Gambit |  Falkbeer Countergambit |  Hinrichsen Gambit\", 956: \"King's Gambit |  Falkbeer Countergambit |  Nimzowitsch-Marshall Countergambit\", 957: \"King's Gambit |  Falkbeer Countergambit |  Staunton Line\", 958: \"King's Indian Attack: French Variation\", 959: \"King's Indian Attack: Keres Variation #2\", 960: \"King's Indian Defense: Accelerated Averbakh Variation\", 961: \"King's Indian Defense: Averbakh Variation |  Flexible Defense\", 962: \"King's Indian Defense: Averbakh Variation |  Geller Defense\", 963: \"King's Indian Defense: Fianchetto Variation |  Yugoslav System |  without Nc3\", 964: \"King's Indian Defense: Four Pawns Attack |  Normal Attack\", 965: \"King's Indian Defense: Orthodox Variation |  Aronin-Taimanov Defense\", 966: \"King's Indian Defense: Orthodox Variation |  Classical System\", 967: \"King's Indian Defense: Steiner Attack\", 968: \"King's Indian |  Fianchetto |  Classical Variation |  8.e4\", 969: \"King's Pawn Game: Pachman Wing Gambit\", 970: 'Latvian Gambit Accepted |  Bilguer Variation', 971: 'Latvian Gambit: Mlotkowski Variation', 972: \"Lion Defense: Anti-Philidor |  Lion's Cave\", 973: \"Lion Defense: Lion's Jaw\", 974: 'Nimzo-Indian Defense: Normal Variation |  Gligoric System', 975: 'Nimzo-Indian Defense: Three Knights Variation |  Duchamp Variation', 976: 'Nimzowitsch Defense: French Connection', 977: 'Nimzowitsch Defense: Kennedy Variation |  Keres Attack', 978: 'Nimzowitsch Defense: Lean Variation', 979: 'Nimzowitsch Defense: Scandinavian Variation |  Bogoljubov Variation |  Vehre Variation', 980: 'Owen Defense: Smith Gambit', 981: \"Petrov's Defense #3\", 982: 'Philidor Defense: Larsen Variation', 983: 'Philidor Defense: Nimzowitsch Variation |  Klein Variation', 984: 'Pirc Defense: Austrian Attack |  Unzicker Attack', 985: 'Pirc Defense: Classical Variation |  Quiet System', 986: 'Pirc Defense: Classical Variation |  Quiet System |  Czech Defense', 987: 'Pirc Defense: Kholmov System', 988: 'Polish Opening: Schiffler-Sokolsky Variation', 989: 'Polish Opening: Symmetrical Variation', 990: 'Ponziani Opening: Spanish Variation', 991: \"Queen's Gambit Accepted: Central Variation |  McDonnell Defense |  Somov Gambit\", 992: \"Queen's Gambit Accepted: Classical Defense\", 993: \"Queen's Gambit Accepted: Classical Defense |  Steinitz Variation |  Exchange Variation\", 994: \"Queen's Gambit Accepted: Showalter Variation\", 995: \"Queen's Gambit Declined: 4.Bg5 Be7 |  5.e3 O-O\", 996: \"Queen's Gambit Declined: Harrwitz Attack |  Two Knights Defense\", 997: \"Queen's Gambit Declined: Lasker Defense\", 998: \"Queen's Gambit Declined: Modern |  Knight Defense\", 999: \"Queen's Gambit Declined: Modern |  Knight Defense #3\", 1000: \"Queen's Gambit Declined: Ragozin Defense |  Alekhine Variation\", 1001: \"Queen's Gambit Declined: Semi-Tarrasch Defense\", 1002: \"Queen's Gambit Declined: Semi-Tarrasch |  San Sebastian Variation\", 1003: \"Queen's Gambit Declined: Tarrasch Defense: 4.cxd5 exd5\", 1004: \"Queen's Gambit Refused: Albin Countergambit |  Lasker Trap\", 1005: \"Queen's Gambit Refused: Chigorin Defense |  Lazard Gambit\", 1006: \"Queen's Indian Defense: Classical Variation\", 1007: \"Queen's Indian Defense: Fianchetto Variation\", 1008: \"Queen's Indian Defense: Fianchetto Variation |  Saemisch Variation\", 1009: \"Queen's Indian Defense: Kasparov-Petrosian Variation |  Marco Defense\", 1010: \"Queen's Pawn Game: Zurich Gambit\", 1011: 'Reti Opening: Anglo-Slav Variation |  Bogoljubov Variation |  III', 1012: 'Richter-Veresov Attack #2', 1013: 'Russian Game: Modern Attack |  Center Attack', 1014: 'Russian Game: Moody Gambit', 1015: 'Ruy Lopez: Berlin Defense |  Closed Wolf Variation', 1016: 'Ruy Lopez: Berlin Defense |  Fishing Pole Variation', 1017: 'Ruy Lopez: Berlin Defense |  Rio de Janeiro Variation', 1018: 'Ruy Lopez: Closed Variations |  Martinez Variation', 1019: 'Ruy Lopez: Closed Variations |  Morphy Attack', 1020: 'Ruy Lopez: Closed Variations |  Rosen Attack', 1021: 'Ruy Lopez: Closed Variations |  Yates Variation', 1022: 'Ruy Lopez: Closed |  7...O-O', 1023: 'Ruy Lopez: Closed |  8.c3', 1024: 'Ruy Lopez: Closed |  Anti-Marshall 8.a4', 1025: 'Ruy Lopez: Marshall Attack', 1026: 'Ruy Lopez: Morphy Defense |  Jaffe Gambit', 1027: 'Ruy Lopez: Morphy Defense |  Schliemann Defense Deferred', 1028: 'Ruy Lopez: Morphy Defense |  Wormald Attack', 1029: \"Ruy Lopez: Noah's Ark Trap\", 1030: 'Ruy Lopez: Open Variations |  Howell Attack #2', 1031: 'Ruy Lopez: Open Variations |  Open Variation', 1032: 'Ruy Lopez: Open Variations |  Riga Variation', 1033: 'Ruy Lopez: Open |  6.d4', 1034: 'Scandinavian Defense: Anderssen Counterattack', 1035: 'Scandinavian Defense: Classical Variation', 1036: 'Scandinavian Defense: Kiel Variation', 1037: 'Scotch Game: Alekhine Gambit', 1038: 'Scotch Game: Blumenfeld Attack', 1039: 'Scotch Game: Goering Gambit |  Double Pawn Sacrifice', 1040: 'Scotch Game: Steinitz Variation', 1041: 'Semi-Slav Defense: Anti-Moscow Gambit', 1042: 'Semi-Slav Defense: Stoltz Variation', 1043: 'Sicilian Defense: Accelerated Dragon |  Maroczy Bind |  Breyer Variation', 1044: 'Sicilian Defense: Alapin Variation |  Barmen Defense |  Central Exchange', 1045: 'Sicilian Defense: Amazon Attack', 1046: 'Sicilian Defense: Canal-Sokolsky Attack |  Sokolsky Variation', 1047: 'Sicilian Defense: Dragon Variation |  Yugoslav Attack #2', 1048: 'Sicilian Defense: Dragon Variation |  Yugoslav Attack |  Early Deviations', 1049: 'Sicilian Defense: French Variation |  Westerinen Attack', 1050: 'Sicilian Defense: Keres Variation', 1051: 'Sicilian Defense: Magnus Smith Trap', 1052: 'Sicilian Defense: McDonnell Attack |  Tal Gambit', 1053: 'Sicilian Defense: Morphy Gambit', 1054: 'Sicilian Defense: Morphy Gambit |  Andreaschek Gambit', 1055: 'Sicilian Defense: Najdorf Variation |  English Attack |  Anti-English', 1056: 'Sicilian Defense: Najdorf Variation |  Opocensky Variation |  Modern Line', 1057: 'Sicilian Defense: Najdorf Variation |  Zagreb (Fianchetto) Variation', 1058: 'Sicilian Defense: Nimzowitsch Variation', 1059: \"Sicilian Defense: O'Kelly Variation |  Normal System\", 1060: \"Sicilian Defense: O'Kelly Variation |  Venice System\", 1061: 'Sicilian Defense: Quinteros Variation', 1062: 'Sicilian Defense: Scheveningen Variation |  Classical Variation #2', 1063: 'Sicilian Defense: Scheveningen Variation |  Matanovic Attack', 1064: 'Sicilian Defense: Smith-Morra Gambit Accepted |  Paulsen Formation', 1065: 'Sicilian Defense: Smith-Morra Gambit Declined |  Alapin Formation', 1066: 'Sicilian Defense: Smith-Morra Gambit Declined |  Center Formation', 1067: 'Sicilian Defense: Smith-Morra Gambit Declined |  Push Variation', 1068: 'Sicilian Defense: Sozin |  not Scheveningen', 1069: 'Sicilian Defense: Wing Gambit |  Deferred Variation', 1070: 'Slav Defense: Czech Variation |  Classical System', 1071: 'Slav Defense: Slav Gambit |  Alekhine Attack', 1072: 'Tarrasch Defense: Classical Variation', 1073: 'Tarrasch Defense: Schara Gambit', 1074: 'Three Knights Opening: Schlechter Variation', 1075: 'Trompowsky Attack: Classical Defense', 1076: 'Vienna Game: Mieses Variation', 1077: 'Vienna Game: Stanley Variation |  Three Knights Variation', 1078: 'Vienna Game: Vienna Gambit |  Main Line', 1079: 'Wade Defense', 1080: 'Zukertort Opening: Polish Defense', 1081: 'Zukertort Opening: Quiet System', 1082: 'Alekhine Defense #3', 1083: 'Alekhine Defense: Balogh Variation', 1084: 'Alekhine Defense: Four Pawns Attack |  6...Nc6', 1085: 'Alekhine Defense: Four Pawns Attack |  Fianchetto Variation', 1086: 'Alekhine Defense: Four Pawns Attack |  Main Line', 1087: 'Alekhine Defense: Modern Variation |  Larsen-Haakert Variation', 1088: 'Alekhine Defense: Steiner Variation', 1089: 'Amazon Attack: Siberian Attack', 1090: 'Australian Defense', 1091: 'Benko Gambit Accepted |  Modern Variation', 1092: 'Benko Gambit Accepted |  Pawn Return Variation', 1093: 'Benko Gambit Accepted |  Yugoslav |  without 7...Bxf1', 1094: 'Benko Gambit Declined |  Hjoerring Countergambit', 1095: 'Benko Gambit Declined |  Main Line', 1096: 'Benko Gambit Declined |  Quiet Line', 1097: 'Benko Gambit: Zaitsev System', 1098: 'Benoni Defense: Benoni Gambit |  Schlenker Defense', 1099: 'Benoni Defense: Classical Variation |  Averbakh-Grivas Attack', 1100: 'Benoni Defense: Classical Variation |  Main Line', 1101: 'Benoni Defense: Cormorant Gambit', 1102: 'Benoni Defense: Modern Variation |  Snake Variation', 1103: 'Benoni Defense: Taimanov Variation', 1104: 'Bird Opening: Dutch Variation |  Dudweiler Gambit', 1105: 'Bird Opening: Sturm Gambit', 1106: \"Bishop's Opening: Berlin Defense |  Greco Gambit\", 1107: \"Bishop's Opening: Boden-Kieseritzky Gambit\", 1108: \"Bishop's Opening: Lewis Gambit\", 1109: \"Bishop's Opening: Philidor Variation\", 1110: \"Bishop's Opening: Warsaw Gambit\", 1111: 'Blackmar-Diemer Gambit #2', 1112: 'Blackmar-Diemer Gambit Declined |  Brombacher Countergambit', 1113: 'Blackmar-Diemer Gambit Declined |  Weinsbach Declination', 1114: 'Blackmar-Diemer Gambit: Euwe Defense', 1115: 'Blackmar-Diemer Gambit: Tartakower Variation', 1116: 'Bogo-Indian Defense: Gruenfeld Variation', 1117: 'Budapest Defense: Fajarowicz Variation', 1118: 'Caro-Kann Defense: Classical Variation |  Lobron System', 1119: 'Caro-Kann Defense: De Bruycker Defense', 1120: 'Caro-Kann Defense: Gurgenidze System', 1121: 'Caro-Kann Defense: Karpov Variation |  Tiviakov-Fischer Attack', 1122: 'Caro-Kann Defense: Maroczy Variation |  Maroczy Gambit', 1123: 'Caro-Kann Defense: Massachusetts Defense', 1124: 'Caro-Kann Defense: Panov Attack |  Gunderam Attack', 1125: 'Caro-Kann Defense: Rasa-Studier Gambit', 1126: 'Caro-Kann Defense: von Hennig Gambit', 1127: 'Catalan Opening: Open Defense', 1128: 'Center Game: Lanc-Arnold Gambit |  Schippler Gambit', 1129: 'Center Game: Ross Gambit', 1130: 'Center Game: von der Lasa Gambit', 1131: 'Danish Gambit Accepted |  Schlechter Defense', 1132: 'Doery Defense', 1133: 'Dutch Defense: Alapin Variation', 1134: 'Dutch Defense: Classical Variation |  Ilyin-Zhenevsky Variation |  Modern Main Line', 1135: 'Dutch Defense: Ilyin-Zhenevsky |  Winter Variation', 1136: 'Dutch Defense: Korchnoi Attack', 1137: 'Dutch Defense: Leningrad Variation |  Matulovic Variation', 1138: 'Dutch Defense: Semi-Leningrad Variation', 1139: 'Dutch Defense: Staunton Gambit', 1140: 'Dutch Defense: Staunton Gambit |  Nimzowitsch Variation', 1141: 'English Opening: Agincourt Defense |  Catalan Defense |  Semi-Slav Defense', 1142: 'English Opening: Agincourt Defense |  Neo-Catalan Declined', 1143: 'English Opening: Anglo-Indian Defense |  Anglo-Gruenfeld Variation', 1144: 'English Opening: Anglo-Indian Defense |  Anti-Anti-Gruenfeld', 1145: 'English Opening: Anglo-Indian Defense |  Old Indian Formation', 1146: \"English Opening: Anglo-Indian Defense |  Queen's Indian Formation\", 1147: 'English Opening: Anglo-Scandinavian Defense |  Loehn Gambit', 1148: 'English Opening: Anglo-Scandinavian Defense |  Schulz Gambit', 1149: 'English Opening: Jaenisch Gambit', 1150: \"English Opening: King's English Variation |  Four Knights Variation |  Korchnoi Line\", 1151: \"English Opening: King's English Variation |  Keres Defense\", 1152: \"English Opening: King's English Variation |  Nimzowitsch-Flohr Variation\", 1153: \"English Opening: King's English Variation |  Taimanov Variation\", 1154: \"English Opening: King's English Variation |  Two Knights Variation |  Fianchetto Line\", 1155: \"English Opening: King's English Variation |  Two Knights Variation |  Keres Variation\", 1156: 'English Opening: Mikenas-Carls Variation', 1157: 'English Opening: Neo-Catalan', 1158: 'English Opening: Symmetrical Variation |  Anti-Benoni Variation |  Spielmann Defense', 1159: 'English Opening: Symmetrical Variation |  Botvinnik System Reversed', 1160: 'English Opening: Symmetrical Variation |  Hedgehog Defense', 1161: 'Englund Gambit Complex: Soller Gambit Deferred', 1162: 'Four Knights Game: Rubinstein Countergambit |  Henneberger Variation', 1163: 'Four Knights Game: Scotch Variation |  Belgrade Gambit', 1164: 'Four Knights Game: Spanish Variation |  Symmetrical Variation #3', 1165: 'French Defense: Advance Variation |  Lputian Variation', 1166: 'French Defense: Advance Variation |  Nimzowitsch Gambit', 1167: 'French Defense: Alapin Gambit', 1168: 'French Defense: Alekhine-Chatard Attack |  Breyer Variation', 1169: 'French Defense: Alekhine-Chatard Attack |  Maroczy Variation', 1170: 'French Defense: Baeuerle Gambit', 1171: 'French Defense: Banzai-Leong Gambit', 1172: 'French Defense: Classical Variation |  Pollock Variation', 1173: 'French Defense: Franco-Hiva Gambit I Accepted', 1174: 'French Defense: Franco-Hiva Gambit II', 1175: 'French Defense: Horwitz Attack |  Papa-Ticulat Gambit', 1176: 'French Defense: La Bourdonnais Variation |  Reuter Gambit', 1177: 'French Defense: MacCutcheon Variation |  Exchange Variation', 1178: 'French Defense: Rubinstein Variation |  Kasparov Attack', 1179: 'French Defense: Tarrasch Variation |  Chistyakov Defense |  Modern Line', 1180: 'French Defense: Tarrasch Variation |  Modern System', 1181: 'French Defense: Tarrasch Variation |  Open System |  Main Line', 1182: 'French Defense: Winawer Variation |  Advance Variation |  Moscow Variation', 1183: 'French Defense: Winawer Variation |  Alekhine-Maroczy Gambit', 1184: 'French Defense: Winawer Variation |  Bogoljubov Variation', 1185: 'French Defense: Winawer Variation |  Retreat Variation', 1186: 'Global Opening', 1187: 'Goldsmith Defense: Picklepuss Defense', 1188: 'Grob Opening: Spike Attack', 1189: 'Gruenfeld Defense: Botvinnik Variation', 1190: 'Gruenfeld Defense: Brinckmann Attack', 1191: 'Gruenfeld Defense: Exchange Variation |  Classical Variation', 1192: 'Gruenfeld Defense: Russian Variation |  Accelerated Variation', 1193: 'Gruenfeld Defense: Three Knights Variation #2', 1194: 'Hungarian Opening: Buecker Gambit', 1195: 'Indian Game: Omega Gambit', 1196: 'Indian Game: Reversed Chigorin Defense', 1197: 'Italian Game: Classical Variation |  Center Holding Variation', 1198: 'Italian Game: Classical Variation |  Closed Variation', 1199: 'Italian Game: Classical Variation |  Greco Gambit |  Greco Variation', 1200: 'Italian Game: Classical Variation |  Greco Gambit |  Main Line', 1201: 'Italian Game: Classical Variation |  La Bourdonnais Variation', 1202: 'Italian Game: Evans Gambit Declined |  5.a4', 1203: 'Italian Game: Evans Gambit Declined |  Cordel Variation', 1204: 'Italian Game: Evans Gambit |  Anderssen Defense', 1205: 'Italian Game: Evans Gambit |  Anderssen Variation', 1206: 'Italian Game: Evans Gambit |  Harding Variation', 1207: 'Italian Game: Evans Gambit |  Morphy Attack', 1208: 'Italian Game: Evans Gambit |  Stone-Ware Variation', 1209: 'Italian Game: Scotch Gambit', 1210: 'Italian Game: Scotch Gambit Declined #2', 1211: 'Italian Game: Scotch Gambit |  Anderssen Attack', 1212: 'Italian Game: Scotch Gambit |  Double Gambit Accepted', 1213: 'Italian Game: Scotch Gambit |  Max Lange Attack', 1214: 'Italian Game: Scotch Gambit |  Max Lange Attack |  Spielmann Defense', 1215: 'Italian Game: Scotch Gambit |  de Riviere Defense', 1216: 'Italian Game: Two Knights Defense |  Perreux Variation', 1217: 'Italian Game: Two Knights Defense |  Traxler Counterattack', 1218: \"King's Gambit Accepted\", 1219: \"King's Gambit Accepted |  Abbazia Defense\", 1220: \"King's Gambit Accepted |  Bishop's Gambit |  Bogoljubov Variation\", 1221: \"King's Gambit Accepted |  Dodo Variation\", 1222: \"King's Gambit Accepted |  Ghulam-Kassim Gambit\", 1223: \"King's Gambit Accepted |  Greco Gambit\", 1224: \"King's Gambit Accepted |  Hanstein Gambit\", 1225: \"King's Gambit Accepted |  Kieseritzky Gambit |  Berlin Defense\", 1226: \"King's Gambit Accepted |  Kieseritzky Gambit |  Kolisch Defense\", 1227: \"King's Gambit Accepted |  Rosentreter Gambit\", 1228: \"King's Gambit Accepted |  Rosentreter-Testa Gambit\", 1229: \"King's Gambit Accepted |  Salvio Gambit\", 1230: \"King's Gambit Accepted: Allgaier |  Schlechter Defense\", 1231: \"King's Gambit Declined: Classical |  Soldatenkov Variation\", 1232: \"King's Gambit Declined: Falkbeer |  Milner-Barry Variation\", 1233: \"King's Gambit |  Falkbeer Countergambit |  Miles Gambit\", 1234: \"King's Gambit |  Falkbeer Countergambit |  Modern Transfer\", 1235: \"King's Gambit: Panteldakis Countergambit\", 1236: \"King's Indian Attack: Pachman System\", 1237: \"King's Indian Attack: Yugoslav Variation\", 1238: \"King's Indian Defense: Averbakh Variation |  Modern Defense\", 1239: \"King's Indian Defense: Fianchetto Variation |  Classical Fianchetto\", 1240: \"King's Indian Defense: Fianchetto Variation |  Panno Variation\", 1241: \"King's Indian Defense: Normal Variation |  Deferred Fianchetto\", 1242: \"King's Indian Defense: Orthodox Variation |  Bayonet Attack\", 1243: \"King's Indian Defense: Orthodox Variation |  Donner Defense\", 1244: \"King's Indian Defense: Orthodox Variation |  Glek Defense\", 1245: \"King's Indian Defense: Orthodox Variation |  Positional Defense\", 1246: \"King's Indian Defense: Orthodox Variation |  Positional Defense |  Closed Line\", 1247: \"King's Indian Defense: Orthodox Variation |  Ukrainian Defense\", 1248: \"King's Indian Defense: Petrosian Variation\", 1249: \"King's Indian Defense: Petrosian Variation |  Stein Defense\", 1250: \"King's Indian Defense: Semi-Classical Variation |  Benoni Variation\", 1251: \"King's Indian |  Orthodox |  7...Nbd7 8.Re1\", 1252: \"King's Pawn Game: Bavarian Gambit\", 1253: \"King's Pawn Game: Clam Variation |  King's Gambit Reversed\", 1254: \"King's Pawn Game: Philidor Gambit\", 1255: \"King's Pawn Opening: Speers\", 1256: 'Latvian Gambit Accepted |  Main Line', 1257: 'Latvian Gambit: Mason Countergambit', 1258: 'Mexican Defense: Horsefly Gambit', 1259: 'Mikenas Defense: Lithuanian Variation', 1260: 'Modern Defense: Averbakh System |  Kotov Variation', 1261: 'Modern Defense: Averbakh System |  Randspringer Variation', 1262: 'Modern Defense: Beefeater Variation', 1263: 'Modern Defense: Lizard Defense |  Mittenberger Gambit', 1264: 'Modern Defense: Pseudo-Austrian Attack', 1265: 'Neo-Gruenfeld Defense', 1266: 'Neo-Gruenfeld Defense: Classical Variation', 1267: 'Neo-Gruenfeld Defense: Classical Variation |  Modern Defense', 1268: 'Neo-Gruenfeld Defense: Classical Variation |  Polgar Variation', 1269: 'Neo-Gruenfeld Defense: Non- or Delayed Fianchetto', 1270: 'Nimzo-Indian Defense: 4.e3 e8g8 |  5.Nf3 |  without ...d5', 1271: 'Nimzo-Indian Defense: Classical Variation |  Keres Defense', 1272: 'Nimzo-Indian Defense: Classical Variation |  Zurich Variation', 1273: 'Nimzo-Indian Defense: Classical |  Noa Variation |  5.cxd5 exd5', 1274: 'Nimzo-Indian Defense: Fischer Variation', 1275: 'Nimzo-Indian Defense: Huebner Variation |  Rubinstein Variation', 1276: 'Nimzo-Indian Defense: Kmoch Variation', 1277: 'Nimzo-Indian Defense: Normal Variation |  Bishop Attack', 1278: 'Nimzo-Indian Defense: Normal Variation |  Bishop Attack |  Classical Defense', 1279: 'Nimzo-Indian Defense: Normal Variation |  Schlechter Defense', 1280: 'Nimzo-Indian Defense: Reshevsky Variation', 1281: 'Nimzo-Indian Defense: Romanishin Variation #2', 1282: 'Nimzo-Indian Defense: Saemisch Variation', 1283: 'Nimzo-Larsen Attack: Dutch Variation', 1284: 'Nimzo-Larsen Attack: Spike Variation', 1285: 'Nimzowitsch Defense: Scandinavian Variation |  Bogoljubov Variation |  Heinola-Deppe Gambit', 1286: 'Old Indian Defense: Tartakower-Indian', 1287: 'Old Indian Defense: Two Knights Variation', 1288: 'Old Indian: Czech Variation', 1289: \"Petrov's Defense #5\", 1290: 'Philidor Defense: Alapin-Blackburne Gambit', 1291: 'Philidor Defense: Bird Gambit', 1292: 'Philidor Defense: Hanham Variation |  Krause Variation', 1293: \"Philidor Defense: Lion Variation |  Lion's Claw II\", 1294: 'Philidor Defense: Morphy Gambit', 1295: 'Philidor Defense: Paulsen Attack', 1296: 'Philidor Defense: Philidor Countergambit |  Zukertort Variation', 1297: 'Pirc Defense: Austrian Attack #2', 1298: 'Pirc Defense: Austrian Attack |  Kurajica Variation', 1299: 'Pirc Defense: Austrian Attack |  Ljubojevic Variation', 1300: 'Pirc Defense: Classical Variation |  Quiet System |  Chigorin Line', 1301: 'Polish Opening: Baltic Defense', 1302: 'Polish Opening: Birmingham Gambit', 1303: 'Polish Opening: Bugayev Advance Variation', 1304: 'Polish Opening: Dutch Defense', 1305: 'Polish Opening: Grigorian Variation', 1306: \"Polish Opening: King's Indian Variation |  Schiffler Attack\", 1307: \"Polish Opening: Queen's Indian Variation\", 1308: 'Polish Opening: Tartakower Gambit', 1309: 'Polish Opening: Zukertort System', 1310: 'Ponziani Opening: Romanishin Variation', 1311: 'Portuguese Opening: Portuguese Gambit', 1312: 'Pterodactyl Defense: Western |  Rhamphorhynchus', 1313: \"Queen's Gambit Accepted: Alekhine Defense |  Haberditz Variation\", 1314: \"Queen's Gambit Accepted: Bogoljubov Defense\", 1315: \"Queen's Gambit Accepted: Central Variation |  Rubinstein Defense\", 1316: \"Queen's Gambit Accepted: Central Variation |  Rubinstein Defense |  Yefimov Gambit\", 1317: \"Queen's Gambit Accepted: Deferred Variation\", 1318: \"Queen's Gambit Accepted: Gunsberg Defense\", 1319: \"Queen's Gambit Accepted: Gunsberg Defense |  Prianishenmo Gambit\", 1320: \"Queen's Gambit Accepted: Normal Variation |  Traditional System\", 1321: \"Queen's Gambit Accepted: Schwartz Defense\", 1322: \"Queen's Gambit Declined: Alapin Variation\", 1323: \"Queen's Gambit Declined: Anti-Tartakower Variation\", 1324: \"Queen's Gambit Declined: Barmen Variation\", 1325: \"Queen's Gambit Declined: Been-Koomen Variation\", 1326: \"Queen's Gambit Declined: Cambridge Springs Defense: Capablanca Variation\", 1327: \"Queen's Gambit Declined: Cambridge Springs Variation\", 1328: \"Queen's Gambit Declined: Capablanca\", 1329: \"Queen's Gambit Declined: Capablanca |  Anti-Cambridge Springs Variation\", 1330: \"Queen's Gambit Declined: Exchange Variation |  Reshevsky Variation\", 1331: \"Queen's Gambit Declined: Hastings Variation\", 1332: \"Queen's Gambit Declined: Janowski Variation\", 1333: \"Queen's Gambit Declined: Modern Variation |  Heral Variation\", 1334: \"Queen's Gambit Declined: Neo-Orthodox Variation\", 1335: \"Queen's Gambit Declined: Pseudo-Tarrasch Variation\", 1336: \"Queen's Gambit Declined: Semi-Tarrasch Defense |  Exchange Variation\", 1337: \"Queen's Gambit Declined: Slav |  Dutch Variation\", 1338: \"Queen's Gambit Declined: Tarrasch Defense |  Pseudo-Tarrasch Bishop Attack\", 1339: \"Queen's Gambit Declined: Tartakower Defense\", 1340: \"Queen's Gambit Declined: Tartakower Defense |  Makogonov Exchange Variation\", 1341: \"Queen's Gambit Declined: Westphalian Variation\", 1342: \"Queen's Gambit Refused: Austrian Attack |  Salvio Countergambit\", 1343: \"Queen's Gambit Refused: Baltic Defense |  Pseudo-Chigorin\", 1344: \"Queen's Gambit Refused: Baltic Defense |  Queen Attack\", 1345: \"Queen's Indian Defense: Classical Variation |  Polugaevsky Gambit\", 1346: \"Queen's Indian Defense: Classical Variation |  Tiviakov Defense\", 1347: \"Queen's Indian Defense: Classical Variation |  Traditional Variation\", 1348: \"Queen's Indian Defense: Classical Variation |  Traditional Variation |  Nimzowitsch Line\", 1349: \"Queen's Indian Defense: Fianchetto Variation |  Check Variation\", 1350: \"Queen's Indian Defense: Fianchetto Variation |  Nimzowitsch Variation\", 1351: \"Queen's Pawn Game: Barry Attack |  Gruenfeld Variation\", 1352: \"Queen's Pawn Game: Colle System |  Gruenfeld Formation\", 1353: \"Queen's Pawn Game: Englund Gambit\", 1354: \"Queen's Pawn Game: Huebsch Gambit\", 1355: \"Queen's Pawn Game: Torre Attack |  Gruenfeld Variation\", 1356: \"Queen's Pawn Game: Veresov Attack |  Anti-Veresov\", 1357: \"Queen's Pawn Game: Veresov Attack |  Boyce Defense\", 1358: \"Queen's Pawn Game: Veresov Attack |  Dutch System\", 1359: \"Queen's Pawn Game: Veresov Attack |  Shaviliuk Gambit\", 1360: \"Queen's Pawn Game: Veresov Attack |  Veresov Variation\", 1361: \"Queen's Pawn Opening: Veresov Attack |  Irish Gambit\", 1362: 'Rat Defense: English Rat |  Lisbon Gambit', 1363: 'Rubinstein Opening', 1364: 'Rubinstein Opening: Bogoljubov Defense', 1365: 'Russian Game: Classical Attack |  Closed Variation', 1366: 'Russian Game: Classical Attack |  Mason Variation', 1367: 'Russian Game: Classical Attack |  Staunton Variation', 1368: 'Russian Game: Millennium Attack', 1369: 'Russian Game: Modern Attack', 1370: 'Russian Game: Modern Attack |  Murrey Variation', 1371: 'Ruy Lopez: Alapin Defense', 1372: 'Ruy Lopez: Berlin Defense |  Closed Bernstein Variation', 1373: 'Ruy Lopez: Berlin Defense |  Hedgehog Variation', 1374: 'Ruy Lopez: Berlin Defense |  Minckwitz Variation', 1375: 'Ruy Lopez: Berlin Defense |  Rosenthal Variation', 1376: 'Ruy Lopez: Berlin Defense: Mortimer Trap', 1377: 'Ruy Lopez: Central Countergambit', 1378: 'Ruy Lopez: Classical Variation |  Modern Main Line', 1379: 'Ruy Lopez: Closed Variations |  Pilnik Variation', 1380: 'Ruy Lopez: Closed Variations |  Yates Variation |  Short Attack', 1381: 'Ruy Lopez: Exchange Variation |  Alekhine Variation', 1382: 'Ruy Lopez: Exchange |  Alekhine Variation', 1383: 'Ruy Lopez: Marshall Attack |  Modern Variation', 1384: 'Ruy Lopez: Morphy Defense |  Arkhangelsk Variation', 1385: 'Ruy Lopez: Morphy Defense |  Breyer Defense |  Quiet Variation', 1386: 'Ruy Lopez: Morphy Defense |  Cozio Defense', 1387: 'Ruy Lopez: Morphy Defense |  Norwegian Variation', 1388: 'Ruy Lopez: Morphy Defense |  Norwegian Variation |  Nightingale Gambit', 1389: 'Ruy Lopez: Open Variations', 1390: 'Ruy Lopez: Open Variations |  Classical Defense', 1391: 'Ruy Lopez: Rotary-Albany Gambit', 1392: 'Ruy Lopez: Schliemann Defense |  Exchange Variation', 1393: 'Ruy Lopez: Schliemann Defense |  Tartakower Variation', 1394: 'Scandinavian Defense: 2.b3', 1395: 'Scandinavian Defense: Anderssen Counterattack |  Collijn Variation', 1396: 'Scandinavian Defense: Anderssen Counterattack |  Goteborg System', 1397: 'Scandinavian Defense: Richter Variation', 1398: 'Scandinavian Defense: Zilbermints Gambit', 1399: 'Scotch Game: Fraser Variation', 1400: 'Scotch Game: Horwitz Attack', 1401: 'Scotch Game: Scotch Gambit |  Cochrane-Anderssen Variation', 1402: 'Scotch Game: Scotch Gambit |  Kingside Variation', 1403: 'Scotch Game: Vitzthum Attack', 1404: 'Semi-Slav Defense: Marshall Gambit |  Main Line', 1405: 'Semi-Slav Defense: Meran Variation', 1406: 'Semi-Slav Defense: Meran Variation |  Wade Variation', 1407: 'Semi-Slav Defense: Noteboom Variation', 1408: 'Semi-Slav Defense: Noteboom Variation |  Abrahams Variation', 1409: 'Semi-Slav Defense: Quiet Variation', 1410: 'Semi-Slav Defense: Romih Variation', 1411: 'Semi-Slav Defense: Stoltz Variation |  Center Variation', 1412: 'Sicilian Defense: Buecker Variation', 1413: 'Sicilian Defense: Closed Variation |  Chameleon Variation', 1414: 'Sicilian Defense: Closed Variation |  Korchnoi Defense', 1415: 'Sicilian Defense: Double-Dutch Gambit', 1416: 'Sicilian Defense: Dragon Variation |  Classical Variation', 1417: 'Sicilian Defense: Dragon Variation |  Classical Variation |  Normal Line', 1418: 'Sicilian Defense: Dragon Variation |  Fianchetto Variation', 1419: 'Sicilian Defense: Dragon Variation |  Levenfish Variation', 1420: 'Sicilian Defense: Dragon Variation |  Levenfish Variation |  Main Line', 1421: 'Sicilian Defense: Dragon Variation |  Yugoslav Attack |  Belezky Line', 1422: 'Sicilian Defense: Dragon Variation |  Yugoslav Attack |  Panov Variation', 1423: 'Sicilian Defense: Dragon Variation |  Yugoslav Attack |  Sosonko Variation', 1424: 'Sicilian Defense: Four Knights Variation |  Exchange Variation', 1425: 'Sicilian Defense: Kan Variation |  Maroczy Bind |  Hedgehog Variation', 1426: 'Sicilian Defense: Kan Variation |  Polugaevsky Variation', 1427: 'Sicilian Defense: Kupreichik Variation', 1428: 'Sicilian Defense: Kveinis Variation', 1429: 'Sicilian Defense: Lasker-Pelikan Variation |  Bird Variation', 1430: 'Sicilian Defense: Mongoose Variation', 1431: 'Sicilian Defense: Myers Attack', 1432: 'Sicilian Defense: Najdorf Variation |  Neo-Classical Defense', 1433: 'Sicilian Defense: Najdorf Variation |  Opocensky Variation |  Traditional Line', 1434: 'Sicilian Defense: Najdorf Variation |  Polugaevsky Variation', 1435: 'Sicilian Defense: Najdorf Variation |  Scheveningen Variation', 1436: 'Sicilian Defense: Nimzo-American Variation', 1437: 'Sicilian Defense: Nimzowitsch Variation |  Main Line', 1438: \"Sicilian Defense: O'Kelly Variation |  Maroczy Bind |  Paulsen Line\", 1439: \"Sicilian Defense: O'Kelly Variation |  Reti System\", 1440: \"Sicilian Defense: O'Kelly Variation |  Venice System |  Ljubojevic Line\", 1441: 'Sicilian Defense: Paulsen Variation |  Bastrikov Variation |  English Attack', 1442: 'Sicilian Defense: Pin Variation |  Koch Variation', 1443: 'Sicilian Defense: Richter-Rauzer Variation', 1444: 'Sicilian Defense: Richter-Rauzer Variation |  Vitolins Variation', 1445: 'Sicilian Defense: Scheveningen Variation |  Delayed Keres Attack', 1446: 'Sicilian Defense: Scheveningen Variation |  English Attack', 1447: 'Sicilian Defense: Scheveningen Variation |  Keres Attack', 1448: 'Sicilian Defense: Scheveningen Variation |  Modern Variation', 1449: 'Sicilian Defense: Scheveningen Variation |  Vitolins Variation', 1450: 'Sicilian Defense: Smith-Morra Gambit Accepted |  Fianchetto Defense', 1451: 'Sicilian Defense: Smith-Morra Gambit Accepted |  Kan Formation', 1452: 'Sicilian Defense: Smith-Morra Gambit Accepted |  Morphy Defense', 1453: 'Sicilian Defense: Smith-Morra Gambit Declined |  Scandinavian Formation', 1454: 'Sicilian Defense: Smith-Morra Gambit Declined |  Wing Formation', 1455: 'Sicilian Defense: Smith-Morra Gambit Deferred', 1456: 'Sicilian Defense: Spielmann Variation', 1457: 'Sicilian Defense: Wing Gambit Deferred', 1458: 'Slav Defense: Alekhine Variation', 1459: 'Slav Defense: Diemer Gambit', 1460: 'Slav Defense: Geller Gambit #2', 1461: 'Slav Defense: Soultanbeieff Variation', 1462: 'Slav Defense: Two Knights Attack', 1463: 'Slav Defense: Winawer Countergambit', 1464: 'St. George Defense: Woodchuck Variation', 1465: 'St. George Defense: Zilbermints Gambit', 1466: 'Tarrasch Defense: Classical Variation |  Advance Variation', 1467: 'Tarrasch Defense: Classical Variation |  Carlsbad Variation', 1468: 'Valencia Opening', 1469: 'Van Geet Opening: Berlin Gambit', 1470: 'Van Geet Opening: Sicilian Two Knights', 1471: 'Vienna Game: Omaha Gambit', 1472: 'Zukertort Opening', 1473: 'Zukertort Opening: Basman Defense', 1474: 'Zukertort Opening: Double Fianchetto Attack', 1475: 'Zukertort Opening: The Walrus', 1476: 'Zukertort Opening: Wade Defense'}\n"
     ]
    },
    {
     "name": "stdout",
     "output_type": "stream",
     "text": [
      "+--------------------+-----+\n",
      "|        opening_name|count|\n",
      "+--------------------+-----+\n",
      "|Alekhine Defense:...|    3|\n",
      "|King's Indian Att...|    4|\n",
      "|Sicilian Defense:...|    2|\n",
      "|Caro-Kann Defense...|    1|\n",
      "|Owen Defense: Smi...|    2|\n",
      "|Sicilian Defense:...|   48|\n",
      "|Sicilian Defense:...|    1|\n",
      "|Queen's Gambit Ac...|   11|\n",
      "|French Defense: C...|    8|\n",
      "|French Defense: S...|   10|\n",
      "|French Defense: W...|    1|\n",
      "|King's Pawn Game:...|   78|\n",
      "|  St. George Defense|   43|\n",
      "|Nimzowitsch Defen...|   24|\n",
      "|Pirc Defense: Aus...|    6|\n",
      "|Scotch Game: Mala...|    6|\n",
      "|Ruy Lopez: Berlin...|    5|\n",
      "|Nimzo-Larsen Atta...|    6|\n",
      "|French Defense: F...|    1|\n",
      "|Sicilian Defense:...|    1|\n",
      "+--------------------+-----+\n",
      "only showing top 20 rows\n",
      "\n"
     ]
    }
   ],
   "source": [
    "printMap_and_showTable(openName_map,openName_table)"
   ]
  },
  {
   "cell_type": "markdown",
   "id": "a453d5e5",
   "metadata": {},
   "source": [
    "## --------------------------Opening eco values to INT--------------------------"
   ]
  },
  {
   "cell_type": "code",
   "execution_count": 38,
   "id": "65d1f89d",
   "metadata": {},
   "outputs": [],
   "source": [
    "openEco_map,openEco_table,dataset = string_to_int(\"opening_eco\",dataset)"
   ]
  },
  {
   "cell_type": "code",
   "execution_count": 39,
   "id": "5e3f2e60",
   "metadata": {},
   "outputs": [
    {
     "name": "stdout",
     "output_type": "stream",
     "text": [
      "{0: 'A00', 1: 'C00', 2: 'D00', 3: 'B01', 4: 'C41', 5: 'C20', 6: 'A40', 7: 'B00', 8: 'B20', 9: 'C50', 10: 'C40', 11: 'D02', 12: 'C44', 13: 'C42', 14: 'B07', 15: 'C55', 16: 'C45', 17: 'C02', 18: 'A04', 19: 'C46', 20: 'A45', 21: 'B21', 22: 'B50', 23: 'B30', 24: 'D20', 25: 'B10', 26: 'B06', 27: 'C21', 28: 'D06', 29: 'A01', 30: 'B12', 31: 'C01', 32: 'B02', 33: 'C23', 34: 'D30', 35: 'C62', 36: 'A10', 37: 'B40', 38: 'B32', 39: 'C57', 40: 'A06', 41: 'C24', 42: 'D10', 43: 'C65', 44: 'B23', 45: 'C60', 46: 'B90', 47: 'A20', 48: 'B22', 49: 'C68', 50: 'C30', 51: 'D01', 52: 'C53', 53: 'B13', 54: 'A46', 55: 'C48', 56: 'E20', 57: 'A03', 58: 'A43', 59: 'D31', 60: 'A02', 61: 'B54', 62: 'C22', 63: 'A41', 64: 'C34', 65: 'D35', 66: 'C70', 67: 'B27', 68: 'C26', 69: 'A21', 70: 'E61', 71: 'A15', 72: 'C10', 73: 'A22', 74: 'A80', 75: 'C64', 76: 'C47', 77: 'A13', 78: 'B25', 79: 'B33', 80: 'E00', 81: 'D07', 82: 'D15', 83: 'B08', 84: 'C77', 85: 'D04', 86: 'D11', 87: 'C11', 88: 'C54', 89: 'C61', 90: 'A30', 91: 'B34', 92: 'B57', 93: 'C27', 94: 'B18', 95: 'B52', 96: 'C78', 97: 'D43', 98: 'A08', 99: 'A48', 100: 'B11', 101: 'B56', 102: 'A85', 103: 'B15', 104: 'C66', 105: 'C67', 106: 'D08', 107: 'A49', 108: 'C25', 109: 'D05', 110: 'A84', 111: 'B43', 112: 'E90', 113: 'C33', 114: 'C58', 115: 'D37', 116: 'A07', 117: 'D12', 118: 'A16', 119: 'A28', 120: 'A52', 121: 'B28', 122: 'C51', 123: 'D45', 124: 'D32', 125: 'A34', 126: 'B03', 127: 'C69', 128: 'D21', 129: 'A25', 130: 'B53', 131: 'E60', 132: 'A11', 133: 'A50', 134: 'B72', 135: 'B70', 136: 'C28', 137: 'C43', 138: 'D50', 139: 'E10', 140: 'A42', 141: 'B09', 142: 'B29', 143: 'B44', 144: 'B45', 145: 'B94', 146: 'E76', 147: 'A53', 148: 'C88', 149: 'D55', 150: 'C03', 151: 'C07', 152: 'C15', 153: 'D53', 154: 'D94', 155: 'A05', 156: 'A09', 157: 'A57', 158: 'B80', 159: 'D03', 160: 'D85', 161: 'E12', 162: 'E77', 163: 'B31', 164: 'B51', 165: 'E32', 166: 'A35', 167: 'B46', 168: 'C05', 169: 'B35', 170: 'B36', 171: 'B84', 172: 'B92', 173: 'C18', 174: 'C31', 175: 'E15', 176: 'A27', 177: 'B41', 178: 'C37', 179: 'E70', 180: 'A51', 181: 'A56', 182: 'C14', 183: 'B24', 184: 'B77', 185: 'C36', 186: 'D46', 187: 'D80', 188: 'A17', 189: 'A36', 190: 'B76', 191: 'C17', 192: 'C49', 193: 'C59', 194: 'D25', 195: 'D44', 196: 'E11', 197: 'E24', 198: 'A44', 199: 'A70', 200: 'B19', 201: 'B42', 202: 'B78', 203: 'B86', 204: 'C52', 205: 'C80', 206: 'C89', 207: 'D41', 208: 'D52', 209: 'E14', 210: 'E21', 211: 'E71', 212: 'E91', 213: 'A18', 214: 'A29', 215: 'A38', 216: 'A58', 217: 'B38', 218: 'B93', 219: 'C72', 220: 'C91', 221: 'D17', 222: 'D51', 223: 'D60', 224: 'E30', 225: 'E80', 226: 'E81', 227: 'E94', 228: 'A54', 229: 'B14', 230: 'B17', 231: 'B95', 232: 'B96', 233: 'C06', 234: 'C16', 235: 'C63', 236: 'D26', 237: 'D40', 238: 'E17', 239: 'E34', 240: 'E67', 241: 'E73', 242: 'E92', 243: 'A47', 244: 'A60', 245: 'A81', 246: 'B04', 247: 'B05', 248: 'B48', 249: 'B88', 250: 'B98', 251: 'C13', 252: 'C35', 253: 'C71', 254: 'C79', 255: 'C84', 256: 'C92', 257: 'D14', 258: 'D24', 259: 'D34', 260: 'D90', 261: 'D91', 262: 'E38', 263: 'E50', 264: 'E51', 265: 'A39', 266: 'A82', 267: 'B47', 268: 'B87', 269: 'C08', 270: 'C12', 271: 'C39', 272: 'C56', 273: 'C74', 274: 'D57', 275: 'D87', 276: 'D93', 277: 'E01', 278: 'E16', 279: 'E40', 280: 'E54', 281: 'E56', 282: 'E59', 283: 'E87', 284: 'E88', 285: 'E97', 286: 'A12', 287: 'A31', 288: 'A65', 289: 'A83', 290: 'A91', 291: 'B39', 292: 'B71', 293: 'B73', 294: 'B75', 295: 'B81', 296: 'B82', 297: 'B91', 298: 'C04', 299: 'C29', 300: 'C38', 301: 'C81', 302: 'D18', 303: 'D38', 304: 'D56', 305: 'D70', 306: 'D74', 307: 'D78', 308: 'D92', 309: 'E06', 310: 'E53', 311: 'E64', 312: 'E68', 313: 'E98', 314: 'A14', 315: 'A23', 316: 'A24', 317: 'A33', 318: 'A59', 319: 'A67', 320: 'A71', 321: 'A73', 322: 'A89', 323: 'A97', 324: 'A99', 325: 'B58', 326: 'B60', 327: 'B62', 328: 'B74', 329: 'B83', 330: 'C09', 331: 'C32', 332: 'C75', 333: 'C83', 334: 'C90', 335: 'C94', 336: 'D13', 337: 'D16', 338: 'D19', 339: 'D22', 340: 'D36', 341: 'D47', 342: 'D48', 343: 'D58', 344: 'D59', 345: 'D76', 346: 'D77', 347: 'D81', 348: 'D82', 349: 'D86', 350: 'D95', 351: 'E03', 352: 'E18', 353: 'E27', 354: 'E33', 355: 'E35', 356: 'E42', 357: 'E44', 358: 'E46', 359: 'E47', 360: 'E48', 361: 'E52', 362: 'E63', 363: 'E72', 364: 'E95'}\n",
      "+-----------+-----+\n",
      "|opening_eco|count|\n",
      "+-----------+-----+\n",
      "|        A23|    1|\n",
      "|        B05|    4|\n",
      "|        B34|   33|\n",
      "|        A47|    4|\n",
      "|        E44|    1|\n",
      "|        D81|    1|\n",
      "|        B01|  688|\n",
      "|        C22|   73|\n",
      "|        A65|    2|\n",
      "|        E56|    3|\n",
      "|        A46|   77|\n",
      "|        C78|   32|\n",
      "|        B92|   12|\n",
      "|        C24|  108|\n",
      "|        C77|   43|\n",
      "|        D16|    1|\n",
      "|        E35|    1|\n",
      "|        B22|   94|\n",
      "|        B39|    2|\n",
      "|        D21|   22|\n",
      "+-----------+-----+\n",
      "only showing top 20 rows\n",
      "\n"
     ]
    }
   ],
   "source": [
    "printMap_and_showTable(openEco_map,openEco_table)"
   ]
  },
  {
   "cell_type": "markdown",
   "id": "af53179c",
   "metadata": {},
   "source": [
    "## -------------------------- Time Inc values to INT--------------------------"
   ]
  },
  {
   "cell_type": "code",
   "execution_count": 42,
   "id": "295ac35c",
   "metadata": {},
   "outputs": [],
   "source": [
    "timeInc_map,timeInc_table,dataset = string_to_int(\"time_increment\",dataset)"
   ]
  },
  {
   "cell_type": "code",
   "execution_count": 43,
   "id": "a0300173",
   "metadata": {},
   "outputs": [
    {
     "name": "stdout",
     "output_type": "stream",
     "text": [
      "{0: '10+0', 1: '15+0', 2: '15+15', 3: '5+5', 4: '5+8', 5: '8+0', 6: '10+5', 7: '15+10', 8: '20+0', 9: '30+0', 10: '10+10', 11: '15+5', 12: '7+2', 13: '10+2', 14: '30+30', 15: '5+10', 16: '10+3', 17: '25+0', 18: '10+8', 19: '20+10', 20: '15+2', 21: '10+15', 22: '9+0', 23: '45+45', 24: '20+5', 25: '8+8', 26: '180+0', 27: '15+8', 28: '30+10', 29: '10+1', 30: '8+5', 31: '12+0', 32: '20+15', 33: '7+5', 34: '180+180', 35: '60+0', 36: '15+3', 37: '7+7', 38: '7+9', 39: '20+20', 40: '20+3', 41: '6+5', 42: '15+1', 43: '7+3', 44: '8+2', 45: '9+5', 46: '12+10', 47: '11+0', 48: '5+7', 49: '30+5', 50: '5+6', 51: '7+4', 52: '15+14', 53: '7+8', 54: '5+15', 55: '4+6', 56: '7+10', 57: '45+0', 58: '7+15', 59: '9+8', 60: '3+8', 61: '10+4', 62: '2+10', 63: '25+3', 64: '8+10', 65: '10+6', 66: '25+5', 67: '8+3', 68: '25+25', 69: '6+8', 70: '14+0', 71: '20+60', 72: '20+8', 73: '6+4', 74: '6+6', 75: '10+30', 76: '16+0', 77: '20+30', 78: '12+5', 79: '15+60', 80: '5+60', 81: '6+3', 82: '12+12', 83: '6+10', 84: '8+1', 85: '13+0', 86: '30+8', 87: '25+10', 88: '8+4', 89: '10+7', 90: '15+30', 91: '15+7', 92: '25+15', 93: '35+3', 94: '9+1', 95: '0+16', 96: '10+25', 97: '12+3', 98: '12+8', 99: '20+1', 100: '25+17', 101: '30+1', 102: '10+20', 103: '20+40', 104: '5+20', 105: '5+30', 106: '8+7', 107: '90+30', 108: '15+6', 109: '2+15', 110: '3+10', 111: '30+15', 112: '9+10', 113: '9+2', 114: '9+3', 115: '13+12', 116: '13+3', 117: '17+0', 118: '10+60', 119: '10+9', 120: '11+5', 121: '11+8', 122: '13+40', 123: '18+0', 124: '20+2', 125: '4+8', 126: '7+6', 127: '8+6', 128: '90+0', 129: '11+4', 130: '12+6', 131: '15+4', 132: '19+0', 133: '7+14', 134: '0+15', 135: '11+11', 136: '12+7', 137: '15+12', 138: '16+8', 139: '25+6', 140: '5+12', 141: '6+7', 142: '60+30', 143: '8+9', 144: '1+30', 145: '12+2', 146: '120+0', 147: '14+14', 148: '15+16', 149: '15+20', 150: '4+7', 151: '40+0', 152: '5+17', 153: '0+180', 154: '11+3', 155: '12+4', 156: '12+9', 157: '16+20', 158: '18+5', 159: '25+1', 160: '25+8', 161: '30+3', 162: '4+10', 163: '40+10', 164: '40+40', 165: '45+15', 166: '5+9', 167: '60+5', 168: '9+4', 169: '9+6', 170: '9+9', 171: '0+12', 172: '10+11', 173: '10+12', 174: '11+1', 175: '14+2', 176: '14+8', 177: '150+0', 178: '17+8', 179: '20+7', 180: '25+2', 181: '25+30', 182: '25+4', 183: '3+15', 184: '30+6', 185: '60+180', 186: '7+12', 187: '1+10', 188: '1+18', 189: '11+10', 190: '12+1', 191: '13+5', 192: '14+10', 193: '16+2', 194: '17+1', 195: '17+3', 196: '18+18', 197: '180+8', 198: '30+2', 199: '40+8', 200: '45+30', 201: '45+4', 202: '5+40', 203: '60+60', 204: '8+15', 205: '1+12', 206: '1+15', 207: '1+19', 208: '1+20', 209: '10+13', 210: '10+14', 211: '10+45', 212: '12+13', 213: '12+15', 214: '13+1', 215: '13+13', 216: '13+2', 217: '14+1', 218: '14+12', 219: '14+4', 220: '15+9', 221: '17+5', 222: '180+25', 223: '180+5', 224: '19+19', 225: '19+30', 226: '2+12', 227: '2+40', 228: '20+25', 229: '20+4', 230: '20+6', 231: '25+20', 232: '3+12', 233: '3+9', 234: '30+20', 235: '30+9', 236: '35+10', 237: '40+2', 238: '45+10', 239: '45+5', 240: '5+21', 241: '5+25', 242: '6+20', 243: '60+10', 244: '8+11', 245: '8+12', 246: '9+15', 247: '0+25', 248: '1+25', 249: '10+40', 250: '11+2', 251: '120+10', 252: '13+10', 253: '13+14', 254: '14+17', 255: '14+20', 256: '14+6', 257: '15+11', 258: '15+45', 259: '150+180', 260: '150+8', 261: '16+15', 262: '16+4', 263: '16+7', 264: '17+15', 265: '17+17', 266: '18+8', 267: '19+17', 268: '19+2', 269: '19+5', 270: '2+20', 271: '2+9', 272: '25+9', 273: '29+30', 274: '30+12', 275: '30+16', 276: '30+35', 277: '30+4', 278: '35+1', 279: '4+180', 280: '4+20', 281: '40+15', 282: '40+20', 283: '40+30', 284: '40+60', 285: '45+1', 286: '5+11', 287: '5+180', 288: '6+12', 289: '6+9', 290: '60+1', 291: '60+13', 292: '60+3', 293: '60+7', 294: '7+11', 295: '7+25', 296: '7+30', 297: '7+35', 298: '9+11', 299: '9+12', 300: '9+17', 301: '9+20', 302: '9+7', 303: '0+13', 304: '0+20', 305: '0+30', 306: '0+40', 307: '1+13', 308: '1+45', 309: '10+180', 310: '10+35', 311: '11+7', 312: '11+9', 313: '12+11', 314: '12+20', 315: '120+1', 316: '120+180', 317: '120+5', 318: '13+15', 319: '13+20', 320: '13+7', 321: '14+15', 322: '14+5', 323: '14+9', 324: '15+25', 325: '150+3', 326: '150+60', 327: '16+1', 328: '16+10', 329: '16+3', 330: '17+11', 331: '17+13', 332: '17+16', 333: '17+2', 334: '17+90', 335: '18+10', 336: '18+15', 337: '18+19', 338: '18+20', 339: '180+120', 340: '180+150', 341: '180+3', 342: '180+45', 343: '180+60', 344: '19+18', 345: '19+20', 346: '19+3', 347: '19+4', 348: '19+45', 349: '19+8', 350: '2+16', 351: '20+11', 352: '20+12', 353: '20+120', 354: '20+13', 355: '20+180', 356: '20+9', 357: '20+90', 358: '21+0', 359: '25+12', 360: '3+20', 361: '3+30', 362: '3+35', 363: '30+11', 364: '30+150', 365: '30+25', 366: '30+40', 367: '30+45', 368: '30+60', 369: '30+7', 370: '35+0', 371: '35+15', 372: '35+2', 373: '35+35', 374: '35+8', 375: '4+12', 376: '4+15', 377: '4+18', 378: '4+9', 379: '40+1', 380: '40+9', 381: '45+2', 382: '45+8', 383: '5+13', 384: '5+14', 385: '6+15', 386: '6+30', 387: '60+120', 388: '60+15', 389: '60+20', 390: '60+4', 391: '60+40', 392: '7+18', 393: '8+180', 394: '8+25', 395: '8+30', 396: '8+45', 397: '90+120', 398: '90+5', 399: '90+8'}\n",
      "+--------------+-----+\n",
      "|time_increment|count|\n",
      "+--------------+-----+\n",
      "|          14+0|   24|\n",
      "|          8+10|   28|\n",
      "|          20+9|    1|\n",
      "|         120+5|    1|\n",
      "|          3+20|    1|\n",
      "|          1+13|    1|\n",
      "|          5+30|   13|\n",
      "|          10+6|   26|\n",
      "|          14+8|    5|\n",
      "|        20+120|    1|\n",
      "|          10+1|   67|\n",
      "|          25+9|    2|\n",
      "|          20+4|    3|\n",
      "|          18+0|   10|\n",
      "|         16+20|    6|\n",
      "|         18+19|    1|\n",
      "|          15+3|   55|\n",
      "|         25+20|    3|\n",
      "|         8+180|    1|\n",
      "|           7+4|   37|\n",
      "+--------------+-----+\n",
      "only showing top 20 rows\n",
      "\n"
     ]
    }
   ],
   "source": [
    "printMap_and_showTable(timeInc_map,timeInc_table)"
   ]
  },
  {
   "cell_type": "markdown",
   "id": "83c18a67",
   "metadata": {},
   "source": [
    "## --------------------------Other--------------------------"
   ]
  },
  {
   "cell_type": "code",
   "execution_count": 26,
   "id": "cad99648",
   "metadata": {},
   "outputs": [],
   "source": [
    "dataset = dataset.withColumn(\"game_duration\", (col(\"end_time\") - col(\"start_time\")).cast(\"double\"))"
   ]
  },
  {
   "cell_type": "code",
   "execution_count": 44,
   "id": "e2e079d5",
   "metadata": {},
   "outputs": [],
   "source": [
    "columns_to_drop = [\"id\", \"rated\", \"victory_status\", \"winner\", \"start_time\", \"end_time\", \"white_id\", \"black_id\", \"moves\",\"opening_name\",\"opening_eco\",\"time_increment\"]\n",
    "dataset = dataset.drop(*columns_to_drop)"
   ]
  },
  {
   "cell_type": "markdown",
   "id": "862db680",
   "metadata": {},
   "source": [
    "\"id\" column is dropped since it is does not provide information for analysis.\n",
    "Our goal is to analyze the moves and its results, not the specific player's chess skills. So \"white_id\" and \"black_id\" columns are dropped, but their ratings remain.  \n",
    "\"created_at\" and \"last_move_at\" columns are dropped and the difference was added to new column \"game_duration\".  \n",
    "Other columns are dropped because they are stored in one hot form in different columns (_ind).  \n",
    "Original dataset is stored in \"games\" dataframe. Preprocessed data will be used to perform analysis and prediction.  \n"
   ]
  },
  {
   "cell_type": "code",
   "execution_count": 45,
   "id": "d06aae31",
   "metadata": {
    "scrolled": true
   },
   "outputs": [
    {
     "data": {
      "text/html": [
       "<div>\n",
       "<style scoped>\n",
       "    .dataframe tbody tr th:only-of-type {\n",
       "        vertical-align: middle;\n",
       "    }\n",
       "\n",
       "    .dataframe tbody tr th {\n",
       "        vertical-align: top;\n",
       "    }\n",
       "\n",
       "    .dataframe thead th {\n",
       "        text-align: right;\n",
       "    }\n",
       "</style>\n",
       "<table border=\"1\" class=\"dataframe\">\n",
       "  <thead>\n",
       "    <tr style=\"text-align: right;\">\n",
       "      <th></th>\n",
       "      <th>turns</th>\n",
       "      <th>white_rating</th>\n",
       "      <th>black_rating</th>\n",
       "      <th>opening_ply</th>\n",
       "      <th>rated_ind</th>\n",
       "      <th>victory_status_ind</th>\n",
       "      <th>winner_ind</th>\n",
       "      <th>game_duration</th>\n",
       "      <th>opening_name_ind</th>\n",
       "      <th>opening_eco_ind</th>\n",
       "      <th>time_increment_ind</th>\n",
       "    </tr>\n",
       "  </thead>\n",
       "  <tbody>\n",
       "    <tr>\n",
       "      <th>0</th>\n",
       "      <td>37</td>\n",
       "      <td>1500</td>\n",
       "      <td>1479</td>\n",
       "      <td>10</td>\n",
       "      <td>1</td>\n",
       "      <td>0</td>\n",
       "      <td>0</td>\n",
       "      <td>371839.0</td>\n",
       "      <td>237</td>\n",
       "      <td>135</td>\n",
       "      <td>6</td>\n",
       "    </tr>\n",
       "    <tr>\n",
       "      <th>1</th>\n",
       "      <td>36</td>\n",
       "      <td>1890</td>\n",
       "      <td>1838</td>\n",
       "      <td>4</td>\n",
       "      <td>0</td>\n",
       "      <td>0</td>\n",
       "      <td>1</td>\n",
       "      <td>287937.0</td>\n",
       "      <td>29</td>\n",
       "      <td>34</td>\n",
       "      <td>5</td>\n",
       "    </tr>\n",
       "    <tr>\n",
       "      <th>2</th>\n",
       "      <td>54</td>\n",
       "      <td>1207</td>\n",
       "      <td>1588</td>\n",
       "      <td>7</td>\n",
       "      <td>0</td>\n",
       "      <td>1</td>\n",
       "      <td>1</td>\n",
       "      <td>0.0</td>\n",
       "      <td>444</td>\n",
       "      <td>17</td>\n",
       "      <td>24</td>\n",
       "    </tr>\n",
       "    <tr>\n",
       "      <th>3</th>\n",
       "      <td>114</td>\n",
       "      <td>1689</td>\n",
       "      <td>2201</td>\n",
       "      <td>3</td>\n",
       "      <td>0</td>\n",
       "      <td>0</td>\n",
       "      <td>1</td>\n",
       "      <td>0.0</td>\n",
       "      <td>2</td>\n",
       "      <td>8</td>\n",
       "      <td>5</td>\n",
       "    </tr>\n",
       "    <tr>\n",
       "      <th>4</th>\n",
       "      <td>47</td>\n",
       "      <td>1568</td>\n",
       "      <td>1561</td>\n",
       "      <td>4</td>\n",
       "      <td>0</td>\n",
       "      <td>1</td>\n",
       "      <td>0</td>\n",
       "      <td>770082.0</td>\n",
       "      <td>72</td>\n",
       "      <td>10</td>\n",
       "      <td>19</td>\n",
       "    </tr>\n",
       "  </tbody>\n",
       "</table>\n",
       "</div>"
      ],
      "text/plain": [
       "   turns  white_rating  black_rating  opening_ply  rated_ind  \\\n",
       "0     37          1500          1479           10          1   \n",
       "1     36          1890          1838            4          0   \n",
       "2     54          1207          1588            7          0   \n",
       "3    114          1689          2201            3          0   \n",
       "4     47          1568          1561            4          0   \n",
       "\n",
       "   victory_status_ind  winner_ind  game_duration  opening_name_ind  \\\n",
       "0                   0           0       371839.0               237   \n",
       "1                   0           1       287937.0                29   \n",
       "2                   1           1            0.0               444   \n",
       "3                   0           1            0.0                 2   \n",
       "4                   1           0       770082.0                72   \n",
       "\n",
       "   opening_eco_ind  time_increment_ind  \n",
       "0              135                   6  \n",
       "1               34                   5  \n",
       "2               17                  24  \n",
       "3                8                   5  \n",
       "4               10                  19  "
      ]
     },
     "execution_count": 45,
     "metadata": {},
     "output_type": "execute_result"
    }
   ],
   "source": [
    "dataset.limit(5).toPandas()"
   ]
  },
  {
   "cell_type": "code",
   "execution_count": 29,
   "id": "7c410bf9",
   "metadata": {},
   "outputs": [
    {
     "name": "stdout",
     "output_type": "stream",
     "text": [
      "+-----+-----------------+-----------------+-----+--------------+------------+------------+-----------+--------------------+-----------+---------+------------------+----------+-------------+\n",
      "|rated|       start_time|         end_time|turns|time_increment|white_rating|black_rating|opening_eco|        opening_name|opening_ply|rated_ind|victory_status_ind|winner_ind|game_duration|\n",
      "+-----+-----------------+-----------------+-----+--------------+------------+------------+-----------+--------------------+-----------+---------+------------------+----------+-------------+\n",
      "|false|1.504026099225E12|1.504026471064E12|   37|          10+5|        1500|        1479|        B70|Sicilian Defense:...|         10|        1|                 0|         0|     371839.0|\n",
      "| true|1.503502070824E12|1.503502358761E12|   36|           8+0|        1890|        1838|        D30|Queen's Gambit De...|          4|        0|                 0|         1|     287937.0|\n",
      "| true|        1.5037E12|        1.5037E12|   54|          20+5|        1207|        1588|        C02|French Defense: A...|          7|        0|                 1|         1|          0.0|\n",
      "+-----+-----------------+-----------------+-----+--------------+------------+------------+-----------+--------------------+-----------+---------+------------------+----------+-------------+\n",
      "only showing top 3 rows\n",
      "\n"
     ]
    }
   ],
   "source": [
    "dataset.show(3)"
   ]
  },
  {
   "cell_type": "markdown",
   "id": "b4ec6cb0",
   "metadata": {},
   "source": [
    "## Data Analysis"
   ]
  },
  {
   "cell_type": "code",
   "execution_count": 14,
   "id": "04392d35",
   "metadata": {
    "scrolled": true
   },
   "outputs": [
    {
     "ename": "TypeError",
     "evalue": "Invalid param value given for param \"inputCol\". Could not convert <class 'pyspark.sql.column.Column'> to string type",
     "output_type": "error",
     "traceback": [
      "\u001b[1;31m---------------------------------------------------------------------------\u001b[0m",
      "\u001b[1;31mTypeError\u001b[0m                                 Traceback (most recent call last)",
      "File \u001b[1;32mc:\\users\\asus\\appdata\\local\\programs\\python\\python39\\lib\\site-packages\\pyspark\\ml\\param\\__init__.py:503\u001b[0m, in \u001b[0;36mParams._set\u001b[1;34m(self, **kwargs)\u001b[0m\n\u001b[0;32m    502\u001b[0m \u001b[38;5;28;01mtry\u001b[39;00m:\n\u001b[1;32m--> 503\u001b[0m     value \u001b[38;5;241m=\u001b[39m \u001b[43mp\u001b[49m\u001b[38;5;241;43m.\u001b[39;49m\u001b[43mtypeConverter\u001b[49m\u001b[43m(\u001b[49m\u001b[43mvalue\u001b[49m\u001b[43m)\u001b[49m\n\u001b[0;32m    504\u001b[0m \u001b[38;5;28;01mexcept\u001b[39;00m \u001b[38;5;167;01mTypeError\u001b[39;00m \u001b[38;5;28;01mas\u001b[39;00m e:\n",
      "File \u001b[1;32mc:\\users\\asus\\appdata\\local\\programs\\python\\python39\\lib\\site-packages\\pyspark\\ml\\param\\__init__.py:236\u001b[0m, in \u001b[0;36mTypeConverters.toString\u001b[1;34m(value)\u001b[0m\n\u001b[0;32m    235\u001b[0m \u001b[38;5;28;01melse\u001b[39;00m:\n\u001b[1;32m--> 236\u001b[0m     \u001b[38;5;28;01mraise\u001b[39;00m \u001b[38;5;167;01mTypeError\u001b[39;00m(\u001b[38;5;124m\"\u001b[39m\u001b[38;5;124mCould not convert \u001b[39m\u001b[38;5;132;01m%s\u001b[39;00m\u001b[38;5;124m to string type\u001b[39m\u001b[38;5;124m\"\u001b[39m \u001b[38;5;241m%\u001b[39m \u001b[38;5;28mtype\u001b[39m(value))\n",
      "\u001b[1;31mTypeError\u001b[0m: Could not convert <class 'pyspark.sql.column.Column'> to string type",
      "\nDuring handling of the above exception, another exception occurred:\n",
      "\u001b[1;31mTypeError\u001b[0m                                 Traceback (most recent call last)",
      "Input \u001b[1;32mIn [14]\u001b[0m, in \u001b[0;36m<cell line: 3>\u001b[1;34m()\u001b[0m\n\u001b[0;32m      1\u001b[0m \u001b[38;5;28;01mfrom\u001b[39;00m \u001b[38;5;21;01mpyspark\u001b[39;00m\u001b[38;5;21;01m.\u001b[39;00m\u001b[38;5;21;01mml\u001b[39;00m\u001b[38;5;21;01m.\u001b[39;00m\u001b[38;5;21;01mfeature\u001b[39;00m \u001b[38;5;28;01mimport\u001b[39;00m StandardScaler\n\u001b[1;32m----> 3\u001b[0m scaler \u001b[38;5;241m=\u001b[39m \u001b[43mStandardScaler\u001b[49m\u001b[43m(\u001b[49m\u001b[43minputCol\u001b[49m\u001b[38;5;241;43m=\u001b[39;49m\u001b[43mgames\u001b[49m\u001b[43m[\u001b[49m\u001b[38;5;124;43m\"\u001b[39;49m\u001b[38;5;124;43mturns\u001b[39;49m\u001b[38;5;124;43m\"\u001b[39;49m\u001b[43m]\u001b[49m\u001b[43m,\u001b[49m\u001b[43m \u001b[49m\u001b[43moutputCol\u001b[49m\u001b[38;5;241;43m=\u001b[39;49m\u001b[38;5;124;43m\"\u001b[39;49m\u001b[38;5;124;43mscaledFeatures\u001b[39;49m\u001b[38;5;124;43m\"\u001b[39;49m\u001b[43m,\u001b[49m\u001b[43m \u001b[49m\u001b[43mwithMean\u001b[49m\u001b[38;5;241;43m=\u001b[39;49m\u001b[38;5;28;43;01mTrue\u001b[39;49;00m\u001b[43m,\u001b[49m\u001b[43m \u001b[49m\u001b[43mwithStd\u001b[49m\u001b[38;5;241;43m=\u001b[39;49m\u001b[38;5;28;43;01mTrue\u001b[39;49;00m\u001b[43m)\u001b[49m\n\u001b[0;32m      4\u001b[0m scalerModel \u001b[38;5;241m=\u001b[39m scaler\u001b[38;5;241m.\u001b[39mfit(games)\n\u001b[0;32m      5\u001b[0m data \u001b[38;5;241m=\u001b[39m scalerModel\u001b[38;5;241m.\u001b[39mtransform(games)\n",
      "File \u001b[1;32mc:\\users\\asus\\appdata\\local\\programs\\python\\python39\\lib\\site-packages\\pyspark\\__init__.py:139\u001b[0m, in \u001b[0;36mkeyword_only.<locals>.wrapper\u001b[1;34m(self, *args, **kwargs)\u001b[0m\n\u001b[0;32m    137\u001b[0m     \u001b[38;5;28;01mraise\u001b[39;00m \u001b[38;5;167;01mTypeError\u001b[39;00m(\u001b[38;5;124m\"\u001b[39m\u001b[38;5;124mMethod \u001b[39m\u001b[38;5;132;01m%s\u001b[39;00m\u001b[38;5;124m forces keyword arguments.\u001b[39m\u001b[38;5;124m\"\u001b[39m \u001b[38;5;241m%\u001b[39m func\u001b[38;5;241m.\u001b[39m\u001b[38;5;18m__name__\u001b[39m)\n\u001b[0;32m    138\u001b[0m \u001b[38;5;28mself\u001b[39m\u001b[38;5;241m.\u001b[39m_input_kwargs \u001b[38;5;241m=\u001b[39m kwargs\n\u001b[1;32m--> 139\u001b[0m \u001b[38;5;28;01mreturn\u001b[39;00m func(\u001b[38;5;28mself\u001b[39m, \u001b[38;5;241m*\u001b[39m\u001b[38;5;241m*\u001b[39mkwargs)\n",
      "File \u001b[1;32mc:\\users\\asus\\appdata\\local\\programs\\python\\python39\\lib\\site-packages\\pyspark\\ml\\feature.py:4389\u001b[0m, in \u001b[0;36mStandardScaler.__init__\u001b[1;34m(self, withMean, withStd, inputCol, outputCol)\u001b[0m\n\u001b[0;32m   4387\u001b[0m \u001b[38;5;28mself\u001b[39m\u001b[38;5;241m.\u001b[39m_java_obj \u001b[38;5;241m=\u001b[39m \u001b[38;5;28mself\u001b[39m\u001b[38;5;241m.\u001b[39m_new_java_obj(\u001b[38;5;124m\"\u001b[39m\u001b[38;5;124morg.apache.spark.ml.feature.StandardScaler\u001b[39m\u001b[38;5;124m\"\u001b[39m, \u001b[38;5;28mself\u001b[39m\u001b[38;5;241m.\u001b[39muid)\n\u001b[0;32m   4388\u001b[0m kwargs \u001b[38;5;241m=\u001b[39m \u001b[38;5;28mself\u001b[39m\u001b[38;5;241m.\u001b[39m_input_kwargs\n\u001b[1;32m-> 4389\u001b[0m \u001b[38;5;28mself\u001b[39m\u001b[38;5;241m.\u001b[39msetParams(\u001b[38;5;241m*\u001b[39m\u001b[38;5;241m*\u001b[39mkwargs)\n",
      "File \u001b[1;32mc:\\users\\asus\\appdata\\local\\programs\\python\\python39\\lib\\site-packages\\pyspark\\__init__.py:139\u001b[0m, in \u001b[0;36mkeyword_only.<locals>.wrapper\u001b[1;34m(self, *args, **kwargs)\u001b[0m\n\u001b[0;32m    137\u001b[0m     \u001b[38;5;28;01mraise\u001b[39;00m \u001b[38;5;167;01mTypeError\u001b[39;00m(\u001b[38;5;124m\"\u001b[39m\u001b[38;5;124mMethod \u001b[39m\u001b[38;5;132;01m%s\u001b[39;00m\u001b[38;5;124m forces keyword arguments.\u001b[39m\u001b[38;5;124m\"\u001b[39m \u001b[38;5;241m%\u001b[39m func\u001b[38;5;241m.\u001b[39m\u001b[38;5;18m__name__\u001b[39m)\n\u001b[0;32m    138\u001b[0m \u001b[38;5;28mself\u001b[39m\u001b[38;5;241m.\u001b[39m_input_kwargs \u001b[38;5;241m=\u001b[39m kwargs\n\u001b[1;32m--> 139\u001b[0m \u001b[38;5;28;01mreturn\u001b[39;00m func(\u001b[38;5;28mself\u001b[39m, \u001b[38;5;241m*\u001b[39m\u001b[38;5;241m*\u001b[39mkwargs)\n",
      "File \u001b[1;32mc:\\users\\asus\\appdata\\local\\programs\\python\\python39\\lib\\site-packages\\pyspark\\ml\\feature.py:4406\u001b[0m, in \u001b[0;36mStandardScaler.setParams\u001b[1;34m(self, withMean, withStd, inputCol, outputCol)\u001b[0m\n\u001b[0;32m   4401\u001b[0m \u001b[38;5;124;03m\"\"\"\u001b[39;00m\n\u001b[0;32m   4402\u001b[0m \u001b[38;5;124;03msetParams(self, \\\\*, withMean=False, withStd=True, inputCol=None, outputCol=None)\u001b[39;00m\n\u001b[0;32m   4403\u001b[0m \u001b[38;5;124;03mSets params for this StandardScaler.\u001b[39;00m\n\u001b[0;32m   4404\u001b[0m \u001b[38;5;124;03m\"\"\"\u001b[39;00m\n\u001b[0;32m   4405\u001b[0m kwargs \u001b[38;5;241m=\u001b[39m \u001b[38;5;28mself\u001b[39m\u001b[38;5;241m.\u001b[39m_input_kwargs\n\u001b[1;32m-> 4406\u001b[0m \u001b[38;5;28;01mreturn\u001b[39;00m \u001b[38;5;28mself\u001b[39m\u001b[38;5;241m.\u001b[39m_set(\u001b[38;5;241m*\u001b[39m\u001b[38;5;241m*\u001b[39mkwargs)\n",
      "File \u001b[1;32mc:\\users\\asus\\appdata\\local\\programs\\python\\python39\\lib\\site-packages\\pyspark\\ml\\param\\__init__.py:505\u001b[0m, in \u001b[0;36mParams._set\u001b[1;34m(self, **kwargs)\u001b[0m\n\u001b[0;32m    503\u001b[0m             value \u001b[38;5;241m=\u001b[39m p\u001b[38;5;241m.\u001b[39mtypeConverter(value)\n\u001b[0;32m    504\u001b[0m         \u001b[38;5;28;01mexcept\u001b[39;00m \u001b[38;5;167;01mTypeError\u001b[39;00m \u001b[38;5;28;01mas\u001b[39;00m e:\n\u001b[1;32m--> 505\u001b[0m             \u001b[38;5;28;01mraise\u001b[39;00m \u001b[38;5;167;01mTypeError\u001b[39;00m(\u001b[38;5;124m'\u001b[39m\u001b[38;5;124mInvalid param value given for param \u001b[39m\u001b[38;5;124m\"\u001b[39m\u001b[38;5;132;01m%s\u001b[39;00m\u001b[38;5;124m\"\u001b[39m\u001b[38;5;124m. \u001b[39m\u001b[38;5;132;01m%s\u001b[39;00m\u001b[38;5;124m'\u001b[39m \u001b[38;5;241m%\u001b[39m (p\u001b[38;5;241m.\u001b[39mname, e))\n\u001b[0;32m    506\u001b[0m     \u001b[38;5;28mself\u001b[39m\u001b[38;5;241m.\u001b[39m_paramMap[p] \u001b[38;5;241m=\u001b[39m value\n\u001b[0;32m    507\u001b[0m \u001b[38;5;28;01mreturn\u001b[39;00m \u001b[38;5;28mself\u001b[39m\n",
      "\u001b[1;31mTypeError\u001b[0m: Invalid param value given for param \"inputCol\". Could not convert <class 'pyspark.sql.column.Column'> to string type"
     ]
    }
   ],
   "source": [
    "#PCA ##########change code\n",
    "from pyspark.ml.feature import StandardScaler\n",
    "\n",
    "scaler = StandardScaler(inputCol=\"turns\", outputCol=\"scaledFeatures\", withMean=True, withStd=True)\n",
    "scalerModel = scaler.fit(games)\n",
    "data = scalerModel.transform(games)\n",
    "data"
   ]
  },
  {
   "cell_type": "code",
   "execution_count": null,
   "id": "57245eec",
   "metadata": {},
   "outputs": [],
   "source": [
    "from pyspark.ml.feature import PCA\n",
    "\n",
    "pca = PCA(k=2, inputCol=\"scaledFeatures\", outputCol=\"pcaFeatures\")\n",
    "pcaModel = pca.fit(data)\n",
    "pcaData = pcaModel.transform(data)"
   ]
  },
  {
   "cell_type": "code",
   "execution_count": null,
   "id": "190ff8e9",
   "metadata": {},
   "outputs": [],
   "source": [
    "explainedVariance = pcaModel.explainedVariance\n",
    "print(explainedVariance)"
   ]
  },
  {
   "cell_type": "markdown",
   "id": "04bf6167",
   "metadata": {},
   "source": [
    "## ML"
   ]
  },
  {
   "cell_type": "code",
   "execution_count": null,
   "id": "334bb2e1",
   "metadata": {},
   "outputs": [],
   "source": []
  }
 ],
 "metadata": {
  "kernelspec": {
   "display_name": "Python 3 (ipykernel)",
   "language": "python",
   "name": "python3"
  },
  "language_info": {
   "codemirror_mode": {
    "name": "ipython",
    "version": 3
   },
   "file_extension": ".py",
   "mimetype": "text/x-python",
   "name": "python",
   "nbconvert_exporter": "python",
   "pygments_lexer": "ipython3",
   "version": "3.10.4"
  }
 },
 "nbformat": 4,
 "nbformat_minor": 5
}
