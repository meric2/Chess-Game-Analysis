{
 "cells": [
  {
   "cell_type": "markdown",
   "id": "cbd4f79e",
   "metadata": {},
   "source": [
    "Chess Game Result Analysis - 401 Project\n",
    "\n",
    "Berkay Yıldız - 201104087 \n",
    "\n",
    "Zeynep Meriç Aşık - 201410026"
   ]
  },
  {
   "cell_type": "markdown",
   "id": "7b2d9bd7",
   "metadata": {},
   "source": [
    "# Importing the Dependencies"
   ]
  },
  {
   "cell_type": "code",
   "execution_count": 1,
   "id": "6256a0ea",
   "metadata": {},
   "outputs": [],
   "source": [
    "#!pip install -r requirements.txt"
   ]
  },
  {
   "cell_type": "code",
   "execution_count": 1,
   "id": "9788e856",
   "metadata": {},
   "outputs": [],
   "source": [
    "import numpy as np\n",
    "import pandas as pd\n",
    "import matplotlib.pyplot as plt\n",
    "import sklearn\n",
    "%matplotlib inline\n",
    "import seaborn as sns\n",
    "\n",
    "from random import random\n",
    "import math\n",
    "from pyspark import SparkContext\n",
    "import re\n",
    "from pyspark.sql import functions"
   ]
  },
  {
   "cell_type": "code",
   "execution_count": 2,
   "id": "766ed1f8",
   "metadata": {},
   "outputs": [],
   "source": [
    "from pyspark.sql import SQLContext, SparkSession\n",
    "from pyspark.conf import SparkConf\n",
    "\n",
    "from pyspark.sql.window import Window\n",
    "from pyspark.sql.types import IntegerType\n",
    "from pyspark.sql.functions import sum"
   ]
  },
  {
   "cell_type": "code",
   "execution_count": 3,
   "id": "2221b472",
   "metadata": {},
   "outputs": [],
   "source": [
    "from pyspark.ml.linalg import DenseMatrix, Vectors\n",
    "from pyspark.ml.stat import Correlation\n",
    "from pyspark.ml.feature import MinMaxScaler, VectorAssembler, StringIndexer\n",
    "from pyspark.ml.classification import RandomForestClassifier as RFC\n",
    "from pyspark.mllib.linalg import SparseVector\n",
    "from pyspark.mllib.regression import LabeledPoint\n",
    "from pyspark.ml.evaluation import MulticlassClassificationEvaluator\n",
    "from pyspark.ml.tuning import CrossValidator, ParamGridBuilder\n",
    "import pyspark.sql.functions as F\n",
    "from pyspark.sql.types import FloatType\n",
    "from pyspark.mllib.evaluation import MulticlassMetrics\n",
    "\n",
    "from pyspark.sql.functions import isnan, when, count, col, isnull, concat_ws, split"
   ]
  },
  {
   "cell_type": "code",
   "execution_count": 4,
   "id": "fd86339a",
   "metadata": {},
   "outputs": [],
   "source": [
    "spark = SparkSession.builder.master(\"local[*]\").getOrCreate()"
   ]
  },
  {
   "cell_type": "code",
   "execution_count": 5,
   "id": "ad46f3c6",
   "metadata": {},
   "outputs": [
    {
     "data": {
      "text/html": [
       "\n",
       "        <div>\n",
       "            <p><b>SparkContext</b></p>\n",
       "\n",
       "            <p><a href=\"http://DESKTOP-USBBGVN:4040\">Spark UI</a></p>\n",
       "\n",
       "            <dl>\n",
       "              <dt>Version</dt>\n",
       "                <dd><code>v3.5.0</code></dd>\n",
       "              <dt>Master</dt>\n",
       "                <dd><code>local[*]</code></dd>\n",
       "              <dt>AppName</dt>\n",
       "                <dd><code>pyspark-shell</code></dd>\n",
       "            </dl>\n",
       "        </div>\n",
       "        "
      ],
      "text/plain": [
       "<SparkContext master=local[*] appName=pyspark-shell>"
      ]
     },
     "execution_count": 5,
     "metadata": {},
     "output_type": "execute_result"
    }
   ],
   "source": [
    "sc = spark.sparkContext\n",
    "sc"
   ]
  },
  {
   "cell_type": "code",
   "execution_count": 6,
   "id": "a233d135",
   "metadata": {},
   "outputs": [
    {
     "name": "stderr",
     "output_type": "stream",
     "text": [
      "C:\\Users\\Berkay\\anaconda3\\envs\\newest\\lib\\site-packages\\pyspark\\sql\\context.py:113: FutureWarning: Deprecated in 3.0.0. Use SparkSession.builder.getOrCreate() instead.\n",
      "  warnings.warn(\n"
     ]
    },
    {
     "data": {
      "text/plain": [
       "<pyspark.sql.context.SQLContext at 0x18deea1d0c0>"
      ]
     },
     "execution_count": 6,
     "metadata": {},
     "output_type": "execute_result"
    }
   ],
   "source": [
    "sqlContext = SQLContext(spark.sparkContext)\n",
    "sqlContext"
   ]
  },
  {
   "cell_type": "code",
   "execution_count": 7,
   "id": "6f6772fb",
   "metadata": {},
   "outputs": [],
   "source": [
    "games = spark.read.format(\"csv\").load(\"games.csv\", header='true', inferSchema='true',  multiline = True)"
   ]
  },
  {
   "cell_type": "code",
   "execution_count": 9,
   "id": "01dffc95",
   "metadata": {},
   "outputs": [
    {
     "name": "stdout",
     "output_type": "stream",
     "text": [
      "root\n",
      " |-- id: string (nullable = true)\n",
      " |-- rated: boolean (nullable = true)\n",
      " |-- created_at: double (nullable = true)\n",
      " |-- last_move_at: double (nullable = true)\n",
      " |-- turns: integer (nullable = true)\n",
      " |-- victory_status: string (nullable = true)\n",
      " |-- winner: string (nullable = true)\n",
      " |-- increment_code: string (nullable = true)\n",
      " |-- white_id: string (nullable = true)\n",
      " |-- white_rating: integer (nullable = true)\n",
      " |-- black_id: string (nullable = true)\n",
      " |-- black_rating: integer (nullable = true)\n",
      " |-- moves: string (nullable = true)\n",
      " |-- opening_eco: string (nullable = true)\n",
      " |-- opening_name: string (nullable = true)\n",
      " |-- opening_ply: integer (nullable = true)\n",
      "\n"
     ]
    }
   ],
   "source": [
    "games.printSchema()"
   ]
  },
  {
   "cell_type": "code",
   "execution_count": 8,
   "id": "b010795d",
   "metadata": {},
   "outputs": [],
   "source": [
    "games = games.withColumnRenamed(\"created_at\", \"start_time\") \\\n",
    "             .withColumnRenamed(\"last_move_at\", \"end_time\") \\\n",
    "             .withColumnRenamed(\"increment_code\", \"time_increment\") "
   ]
  },
  {
   "cell_type": "code",
   "execution_count": 9,
   "id": "50013da1",
   "metadata": {},
   "outputs": [],
   "source": [
    "games = games.drop(\"moves\")"
   ]
  },
  {
   "cell_type": "code",
   "execution_count": 12,
   "id": "bd7efc89",
   "metadata": {
    "scrolled": true
   },
   "outputs": [
    {
     "name": "stdout",
     "output_type": "stream",
     "text": [
      "\n"
     ]
    }
   ],
   "source": [
    "\"\"\"games.show(1)\"\"\"\n",
    "print()"
   ]
  },
  {
   "cell_type": "code",
   "execution_count": 13,
   "id": "158f70ed",
   "metadata": {
    "scrolled": false
   },
   "outputs": [
    {
     "data": {
      "text/html": [
       "<div>\n",
       "<style scoped>\n",
       "    .dataframe tbody tr th:only-of-type {\n",
       "        vertical-align: middle;\n",
       "    }\n",
       "\n",
       "    .dataframe tbody tr th {\n",
       "        vertical-align: top;\n",
       "    }\n",
       "\n",
       "    .dataframe thead th {\n",
       "        text-align: right;\n",
       "    }\n",
       "</style>\n",
       "<table border=\"1\" class=\"dataframe\">\n",
       "  <thead>\n",
       "    <tr style=\"text-align: right;\">\n",
       "      <th></th>\n",
       "      <th>id</th>\n",
       "      <th>rated</th>\n",
       "      <th>start_time</th>\n",
       "      <th>end_time</th>\n",
       "      <th>turns</th>\n",
       "      <th>victory_status</th>\n",
       "      <th>winner</th>\n",
       "      <th>time_increment</th>\n",
       "      <th>white_id</th>\n",
       "      <th>white_rating</th>\n",
       "      <th>black_id</th>\n",
       "      <th>black_rating</th>\n",
       "      <th>opening_eco</th>\n",
       "      <th>opening_name</th>\n",
       "      <th>opening_ply</th>\n",
       "    </tr>\n",
       "  </thead>\n",
       "  <tbody>\n",
       "    <tr>\n",
       "      <th>0</th>\n",
       "      <td>TZJHLljE</td>\n",
       "      <td>False</td>\n",
       "      <td>1.504210e+12</td>\n",
       "      <td>1.504210e+12</td>\n",
       "      <td>13</td>\n",
       "      <td>outoftime</td>\n",
       "      <td>white</td>\n",
       "      <td>15+2</td>\n",
       "      <td>bourgris</td>\n",
       "      <td>1500</td>\n",
       "      <td>a-00</td>\n",
       "      <td>1191</td>\n",
       "      <td>D10</td>\n",
       "      <td>Slav Defense: Exchange Variation</td>\n",
       "      <td>5</td>\n",
       "    </tr>\n",
       "    <tr>\n",
       "      <th>1</th>\n",
       "      <td>l1NXvwaE</td>\n",
       "      <td>True</td>\n",
       "      <td>1.504130e+12</td>\n",
       "      <td>1.504130e+12</td>\n",
       "      <td>16</td>\n",
       "      <td>resign</td>\n",
       "      <td>black</td>\n",
       "      <td>5+10</td>\n",
       "      <td>a-00</td>\n",
       "      <td>1322</td>\n",
       "      <td>skinnerua</td>\n",
       "      <td>1261</td>\n",
       "      <td>B00</td>\n",
       "      <td>Nimzowitsch Defense: Kennedy Variation</td>\n",
       "      <td>4</td>\n",
       "    </tr>\n",
       "    <tr>\n",
       "      <th>2</th>\n",
       "      <td>mIICvQHh</td>\n",
       "      <td>True</td>\n",
       "      <td>1.504130e+12</td>\n",
       "      <td>1.504130e+12</td>\n",
       "      <td>61</td>\n",
       "      <td>mate</td>\n",
       "      <td>white</td>\n",
       "      <td>5+10</td>\n",
       "      <td>ischia</td>\n",
       "      <td>1496</td>\n",
       "      <td>a-00</td>\n",
       "      <td>1500</td>\n",
       "      <td>C20</td>\n",
       "      <td>King's Pawn Game: Leonardis Variation</td>\n",
       "      <td>3</td>\n",
       "    </tr>\n",
       "    <tr>\n",
       "      <th>3</th>\n",
       "      <td>kWKvrqYL</td>\n",
       "      <td>True</td>\n",
       "      <td>1.504110e+12</td>\n",
       "      <td>1.504110e+12</td>\n",
       "      <td>61</td>\n",
       "      <td>mate</td>\n",
       "      <td>white</td>\n",
       "      <td>20+0</td>\n",
       "      <td>daniamurashov</td>\n",
       "      <td>1439</td>\n",
       "      <td>adivanov2009</td>\n",
       "      <td>1454</td>\n",
       "      <td>D02</td>\n",
       "      <td>Queen's Pawn Game: Zukertort Variation</td>\n",
       "      <td>3</td>\n",
       "    </tr>\n",
       "    <tr>\n",
       "      <th>4</th>\n",
       "      <td>9tXo1AUZ</td>\n",
       "      <td>True</td>\n",
       "      <td>1.504030e+12</td>\n",
       "      <td>1.504030e+12</td>\n",
       "      <td>95</td>\n",
       "      <td>mate</td>\n",
       "      <td>white</td>\n",
       "      <td>30+3</td>\n",
       "      <td>nik221107</td>\n",
       "      <td>1523</td>\n",
       "      <td>adivanov2009</td>\n",
       "      <td>1469</td>\n",
       "      <td>C41</td>\n",
       "      <td>Philidor Defense</td>\n",
       "      <td>5</td>\n",
       "    </tr>\n",
       "  </tbody>\n",
       "</table>\n",
       "</div>"
      ],
      "text/plain": [
       "         id  rated    start_time      end_time  turns victory_status winner  \\\n",
       "0  TZJHLljE  False  1.504210e+12  1.504210e+12     13      outoftime  white   \n",
       "1  l1NXvwaE   True  1.504130e+12  1.504130e+12     16         resign  black   \n",
       "2  mIICvQHh   True  1.504130e+12  1.504130e+12     61           mate  white   \n",
       "3  kWKvrqYL   True  1.504110e+12  1.504110e+12     61           mate  white   \n",
       "4  9tXo1AUZ   True  1.504030e+12  1.504030e+12     95           mate  white   \n",
       "\n",
       "  time_increment       white_id  white_rating      black_id  black_rating  \\\n",
       "0           15+2       bourgris          1500          a-00          1191   \n",
       "1           5+10           a-00          1322     skinnerua          1261   \n",
       "2           5+10         ischia          1496          a-00          1500   \n",
       "3           20+0  daniamurashov          1439  adivanov2009          1454   \n",
       "4           30+3      nik221107          1523  adivanov2009          1469   \n",
       "\n",
       "  opening_eco                            opening_name  opening_ply  \n",
       "0         D10        Slav Defense: Exchange Variation            5  \n",
       "1         B00  Nimzowitsch Defense: Kennedy Variation            4  \n",
       "2         C20   King's Pawn Game: Leonardis Variation            3  \n",
       "3         D02  Queen's Pawn Game: Zukertort Variation            3  \n",
       "4         C41                        Philidor Defense            5  "
      ]
     },
     "execution_count": 13,
     "metadata": {},
     "output_type": "execute_result"
    }
   ],
   "source": [
    "games.limit(5).toPandas()"
   ]
  },
  {
   "cell_type": "code",
   "execution_count": 14,
   "id": "1827b90e",
   "metadata": {},
   "outputs": [
    {
     "name": "stdout",
     "output_type": "stream",
     "text": [
      "+-----+------+--------------------------------------+--------------+------------+------------+\n",
      "|rated|winner|opening_name                          |time_increment|white_rating|black_rating|\n",
      "+-----+------+--------------------------------------+--------------+------------+------------+\n",
      "|false|white |Slav Defense: Exchange Variation      |15+2          |1500        |1191        |\n",
      "|true |black |Nimzowitsch Defense: Kennedy Variation|5+10          |1322        |1261        |\n",
      "|true |white |King's Pawn Game: Leonardis Variation |5+10          |1496        |1500        |\n",
      "|true |white |Queen's Pawn Game: Zukertort Variation|20+0          |1439        |1454        |\n",
      "|true |white |Philidor Defense                      |30+3          |1523        |1469        |\n",
      "+-----+------+--------------------------------------+--------------+------------+------------+\n",
      "only showing top 5 rows\n",
      "\n"
     ]
    }
   ],
   "source": [
    "games.select(\"rated\", \"winner\", \"opening_name\",\"time_increment\",\"white_rating\",\"black_rating\").show(5, truncate=False)"
   ]
  },
  {
   "cell_type": "code",
   "execution_count": 15,
   "id": "45ff0ee2",
   "metadata": {},
   "outputs": [
    {
     "name": "stdout",
     "output_type": "stream",
     "text": [
      "root\n",
      " |-- id: string (nullable = true)\n",
      " |-- rated: boolean (nullable = true)\n",
      " |-- start_time: double (nullable = true)\n",
      " |-- end_time: double (nullable = true)\n",
      " |-- turns: integer (nullable = true)\n",
      " |-- victory_status: string (nullable = true)\n",
      " |-- winner: string (nullable = true)\n",
      " |-- time_increment: string (nullable = true)\n",
      " |-- white_id: string (nullable = true)\n",
      " |-- white_rating: integer (nullable = true)\n",
      " |-- black_id: string (nullable = true)\n",
      " |-- black_rating: integer (nullable = true)\n",
      " |-- opening_eco: string (nullable = true)\n",
      " |-- opening_name: string (nullable = true)\n",
      " |-- opening_ply: integer (nullable = true)\n",
      "\n"
     ]
    }
   ],
   "source": [
    "games.printSchema()"
   ]
  },
  {
   "cell_type": "code",
   "execution_count": 16,
   "id": "1e41d973",
   "metadata": {},
   "outputs": [
    {
     "name": "stdout",
     "output_type": "stream",
     "text": [
      "\n"
     ]
    }
   ],
   "source": [
    "\"\"\"(games.describe().select(\n",
    "                    \"summary\",\n",
    "                    F.round(\"id\", 4).alias(\"id\"),\n",
    "                    F.round(\"created_at\", 4).alias(\"created_at\"),\n",
    "                    F.round(\"last_move_at\", 4).alias(\"last_move_at\"),\n",
    "                    F.round(\"turns\", 4).alias(\"turns\"),\n",
    "                    F.round(\"victory_status\", 4).alias(\"victory_status\"),\n",
    "                    F.round(\"winner\", 4).alias(\"winner\"),\n",
    "                    F.round(\"increment_code\", 4).alias(\"increment_code\"),\n",
    "                    F.round(\"white_id\", 4).alias(\"white_id\"),\n",
    "                    F.round(\"white_rating\", 4).alias(\"white_rating\"),\n",
    "                    F.round(\"black_id\", 4).alias(\"black_id\"),\n",
    "                    F.round(\"black_rating\", 4).alias(\"black_rating\"),\n",
    "                    F.round(\"moves\", 4).alias(\"moves\"),\n",
    "                    F.round(\"opening_eco\", 4).alias(\"opening_eco\"),\n",
    "                    F.round(\"opening_name\", 4).alias(\"opening_name\"),\n",
    "                    F.round(\"opening_ply\", 4).alias(\"opening_ply\"))\n",
    "                    .show())\"\"\"\n",
    "print()"
   ]
  },
  {
   "cell_type": "code",
   "execution_count": 17,
   "id": "22791df2",
   "metadata": {},
   "outputs": [
    {
     "data": {
      "text/html": [
       "<div>\n",
       "<style scoped>\n",
       "    .dataframe tbody tr th:only-of-type {\n",
       "        vertical-align: middle;\n",
       "    }\n",
       "\n",
       "    .dataframe tbody tr th {\n",
       "        vertical-align: top;\n",
       "    }\n",
       "\n",
       "    .dataframe thead th {\n",
       "        text-align: right;\n",
       "    }\n",
       "</style>\n",
       "<table border=\"1\" class=\"dataframe\">\n",
       "  <thead>\n",
       "    <tr style=\"text-align: right;\">\n",
       "      <th></th>\n",
       "      <th>summary</th>\n",
       "      <th>id</th>\n",
       "      <th>start_time</th>\n",
       "      <th>end_time</th>\n",
       "      <th>turns</th>\n",
       "      <th>victory_status</th>\n",
       "      <th>winner</th>\n",
       "      <th>time_increment</th>\n",
       "      <th>white_id</th>\n",
       "      <th>white_rating</th>\n",
       "      <th>black_id</th>\n",
       "      <th>black_rating</th>\n",
       "      <th>opening_eco</th>\n",
       "      <th>opening_name</th>\n",
       "      <th>opening_ply</th>\n",
       "    </tr>\n",
       "  </thead>\n",
       "  <tbody>\n",
       "    <tr>\n",
       "      <th>0</th>\n",
       "      <td>count</td>\n",
       "      <td>20058</td>\n",
       "      <td>20058</td>\n",
       "      <td>20058</td>\n",
       "      <td>20058</td>\n",
       "      <td>20058</td>\n",
       "      <td>20058</td>\n",
       "      <td>20058</td>\n",
       "      <td>20058</td>\n",
       "      <td>20058</td>\n",
       "      <td>20058</td>\n",
       "      <td>20058</td>\n",
       "      <td>20058</td>\n",
       "      <td>20058</td>\n",
       "      <td>20058</td>\n",
       "    </tr>\n",
       "    <tr>\n",
       "      <th>1</th>\n",
       "      <td>mean</td>\n",
       "      <td>None</td>\n",
       "      <td>1.483616852629092E12</td>\n",
       "      <td>1.4836177223361443E12</td>\n",
       "      <td>60.46599860404826</td>\n",
       "      <td>None</td>\n",
       "      <td>None</td>\n",
       "      <td>None</td>\n",
       "      <td>2.6775729307708335E9</td>\n",
       "      <td>1596.6318675840064</td>\n",
       "      <td>5.294535237863636E9</td>\n",
       "      <td>1588.8319872370128</td>\n",
       "      <td>None</td>\n",
       "      <td>None</td>\n",
       "      <td>4.8169807558081565</td>\n",
       "    </tr>\n",
       "    <tr>\n",
       "      <th>2</th>\n",
       "      <td>stddev</td>\n",
       "      <td>None</td>\n",
       "      <td>2.850150942100429E10</td>\n",
       "      <td>2.850140058889147E10</td>\n",
       "      <td>33.57058475353722</td>\n",
       "      <td>None</td>\n",
       "      <td>None</td>\n",
       "      <td>None</td>\n",
       "      <td>1.1283509443243038E10</td>\n",
       "      <td>291.253375737019</td>\n",
       "      <td>1.8875165053331074E10</td>\n",
       "      <td>291.03612596033423</td>\n",
       "      <td>None</td>\n",
       "      <td>None</td>\n",
       "      <td>2.7971518106301025</td>\n",
       "    </tr>\n",
       "    <tr>\n",
       "      <th>3</th>\n",
       "      <td>min</td>\n",
       "      <td>005lW0Xz</td>\n",
       "      <td>1.376771633173E12</td>\n",
       "      <td>1.376771863841E12</td>\n",
       "      <td>1</td>\n",
       "      <td>draw</td>\n",
       "      <td>black</td>\n",
       "      <td>0+12</td>\n",
       "      <td>--jim--</td>\n",
       "      <td>784</td>\n",
       "      <td>-0olo0-</td>\n",
       "      <td>789</td>\n",
       "      <td>A00</td>\n",
       "      <td>Alekhine Defense</td>\n",
       "      <td>1</td>\n",
       "    </tr>\n",
       "    <tr>\n",
       "      <th>4</th>\n",
       "      <td>max</td>\n",
       "      <td>zzcDhaYF</td>\n",
       "      <td>1.50449314379E12</td>\n",
       "      <td>1.504493827262E12</td>\n",
       "      <td>349</td>\n",
       "      <td>resign</td>\n",
       "      <td>white</td>\n",
       "      <td>90+8</td>\n",
       "      <td>zzzimon</td>\n",
       "      <td>2700</td>\n",
       "      <td>zztopillo</td>\n",
       "      <td>2723</td>\n",
       "      <td>E98</td>\n",
       "      <td>Zukertort Opening: Wade Defense</td>\n",
       "      <td>28</td>\n",
       "    </tr>\n",
       "  </tbody>\n",
       "</table>\n",
       "</div>"
      ],
      "text/plain": [
       "  summary        id            start_time               end_time  \\\n",
       "0   count     20058                 20058                  20058   \n",
       "1    mean      None  1.483616852629092E12  1.4836177223361443E12   \n",
       "2  stddev      None  2.850150942100429E10   2.850140058889147E10   \n",
       "3     min  005lW0Xz     1.376771633173E12      1.376771863841E12   \n",
       "4     max  zzcDhaYF      1.50449314379E12      1.504493827262E12   \n",
       "\n",
       "               turns victory_status winner time_increment  \\\n",
       "0              20058          20058  20058          20058   \n",
       "1  60.46599860404826           None   None           None   \n",
       "2  33.57058475353722           None   None           None   \n",
       "3                  1           draw  black           0+12   \n",
       "4                349         resign  white           90+8   \n",
       "\n",
       "                white_id        white_rating               black_id  \\\n",
       "0                  20058               20058                  20058   \n",
       "1   2.6775729307708335E9  1596.6318675840064    5.294535237863636E9   \n",
       "2  1.1283509443243038E10    291.253375737019  1.8875165053331074E10   \n",
       "3                --jim--                 784                -0olo0-   \n",
       "4                zzzimon                2700              zztopillo   \n",
       "\n",
       "         black_rating opening_eco                     opening_name  \\\n",
       "0               20058       20058                            20058   \n",
       "1  1588.8319872370128        None                             None   \n",
       "2  291.03612596033423        None                             None   \n",
       "3                 789         A00                 Alekhine Defense   \n",
       "4                2723         E98  Zukertort Opening: Wade Defense   \n",
       "\n",
       "          opening_ply  \n",
       "0               20058  \n",
       "1  4.8169807558081565  \n",
       "2  2.7971518106301025  \n",
       "3                   1  \n",
       "4                  28  "
      ]
     },
     "execution_count": 17,
     "metadata": {},
     "output_type": "execute_result"
    }
   ],
   "source": [
    "games.describe().toPandas()"
   ]
  },
  {
   "cell_type": "code",
   "execution_count": 24,
   "id": "22698a4c",
   "metadata": {
    "scrolled": true
   },
   "outputs": [
    {
     "name": "stdout",
     "output_type": "stream",
     "text": [
      "+---+-----+----------+--------+-----+--------------+------+--------------+--------+------------+--------+------------+-----------+------------+-----------+\n",
      "| id|rated|start_time|end_time|turns|victory_status|winner|time_increment|white_id|white_rating|black_id|black_rating|opening_eco|opening_name|opening_ply|\n",
      "+---+-----+----------+--------+-----+--------------+------+--------------+--------+------------+--------+------------+-----------+------------+-----------+\n",
      "|  0|    0|         0|       0|    0|             0|     0|             0|       0|           0|       0|           0|          0|           0|          0|\n",
      "+---+-----+----------+--------+-----+--------------+------+--------------+--------+------------+--------+------------+-----------+------------+-----------+\n",
      "\n"
     ]
    }
   ],
   "source": [
    "missing = games.select([count(when(isnull(c), c)).alias(c) for c in games.columns]).show()"
   ]
  },
  {
   "cell_type": "markdown",
   "id": "739b3a97",
   "metadata": {},
   "source": [
    "No missing (null) values."
   ]
  },
  {
   "cell_type": "markdown",
   "id": "5e217c16",
   "metadata": {},
   "source": [
    "# EDA"
   ]
  },
  {
   "cell_type": "code",
   "execution_count": 54,
   "id": "d02101d0",
   "metadata": {},
   "outputs": [
    {
     "data": {
      "text/plain": [
       "<AxesSubplot: xlabel='victory_status'>"
      ]
     },
     "execution_count": 54,
     "metadata": {},
     "output_type": "execute_result"
    },
    {
     "data": {
      "image/png": "[encoded data removed]",
      "text/plain": [
       "<Figure size 800x800 with 1 Axes>"
      ]
     },
     "metadata": {},
     "output_type": "display_data"
    }
   ],
   "source": [
    "# group by victory status and see the distribution\n",
    "result = games.groupBy(\"victory_status\").count().sort(\"victory_status\", ascending=False)\n",
    "result.toPandas().plot.bar(x='victory_status',figsize=(8, 8))"
   ]
  },
  {
   "cell_type": "code",
   "execution_count": 55,
   "id": "377b9bb3",
   "metadata": {},
   "outputs": [
    {
     "data": {
      "text/plain": [
       "<AxesSubplot: xlabel='winner'>"
      ]
     },
     "execution_count": 55,
     "metadata": {},
     "output_type": "execute_result"
    },
    {
     "data": {
      "image/png": "[encoded data removed]",
      "text/plain": [
       "<Figure size 800x800 with 1 Axes>"
      ]
     },
     "metadata": {},
     "output_type": "display_data"
    }
   ],
   "source": [
    "# group by winner and see the distribution\n",
    "result = games.groupBy(\"winner\").count().sort(\"winner\", ascending=False)\n",
    "result.toPandas().plot.bar(x='winner',figsize=(8, 8))"
   ]
  },
  {
   "cell_type": "code",
   "execution_count": 56,
   "id": "ded34389",
   "metadata": {},
   "outputs": [
    {
     "ename": "TypeError",
     "evalue": "DataFrame.corr() missing 2 required positional arguments: 'col1' and 'col2'",
     "output_type": "error",
     "traceback": [
      "\u001b[1;31m---------------------------------------------------------------------------\u001b[0m",
      "\u001b[1;31mTypeError\u001b[0m                                 Traceback (most recent call last)",
      "Input \u001b[1;32mIn [56]\u001b[0m, in \u001b[0;36m<cell line: 2>\u001b[1;34m()\u001b[0m\n\u001b[0;32m      1\u001b[0m plt\u001b[38;5;241m.\u001b[39mfigure(figsize \u001b[38;5;241m=\u001b[39m (\u001b[38;5;241m11\u001b[39m,\u001b[38;5;241m11\u001b[39m))\n\u001b[1;32m----> 2\u001b[0m corr \u001b[38;5;241m=\u001b[39m \u001b[43mgames\u001b[49m\u001b[38;5;241;43m.\u001b[39;49m\u001b[43mcorr\u001b[49m\u001b[43m(\u001b[49m\u001b[43m)\u001b[49m\n\u001b[0;32m      3\u001b[0m mask \u001b[38;5;241m=\u001b[39m np\u001b[38;5;241m.\u001b[39mtriu(np\u001b[38;5;241m.\u001b[39mones_like(corr, dtype\u001b[38;5;241m=\u001b[39m\u001b[38;5;28mbool\u001b[39m))\n\u001b[0;32m      4\u001b[0m sns\u001b[38;5;241m.\u001b[39mheatmap(corr, mask \u001b[38;5;241m=\u001b[39m mask, robust \u001b[38;5;241m=\u001b[39m \u001b[38;5;28;01mTrue\u001b[39;00m, center \u001b[38;5;241m=\u001b[39m \u001b[38;5;241m0\u001b[39m,square \u001b[38;5;241m=\u001b[39m \u001b[38;5;28;01mTrue\u001b[39;00m, cmap\u001b[38;5;241m=\u001b[39m\u001b[38;5;124m\"\u001b[39m\u001b[38;5;124mviridis\u001b[39m\u001b[38;5;124m\"\u001b[39m,linewidths \u001b[38;5;241m=\u001b[39m \u001b[38;5;241m.6\u001b[39m)\n",
      "\u001b[1;31mTypeError\u001b[0m: DataFrame.corr() missing 2 required positional arguments: 'col1' and 'col2'"
     ]
    },
    {
     "data": {
      "text/plain": [
       "<Figure size 1100x1100 with 0 Axes>"
      ]
     },
     "metadata": {},
     "output_type": "display_data"
    }
   ],
   "source": [
    "plt.figure(figsize = (11,11))\n",
    "corr = games.corr()\n",
    "mask = np.triu(np.ones_like(corr, dtype=bool))\n",
    "sns.heatmap(corr, mask = mask, robust = True, center = 0,square = True, cmap=\"viridis\",linewidths = .6)\n",
    "plt.title('Correlation Table')\n",
    "plt.show()"
   ]
  },
  {
   "cell_type": "markdown",
   "id": "d91c9c40",
   "metadata": {},
   "source": [
    "## Preprocessing the Data"
   ]
  },
  {
   "cell_type": "code",
   "execution_count": 10,
   "id": "75ab2a41",
   "metadata": {},
   "outputs": [
    {
     "name": "stdout",
     "output_type": "stream",
     "text": [
      "Sum of all duplicated values: 3968\n"
     ]
    }
   ],
   "source": [
    "#controlling duplicated values\n",
    "window_spec = Window.partitionBy(\"id\")\n",
    "games_with_count = games.withColumn(\"count\", F.count(\"id\").over(window_spec))\n",
    "duplicate_rows = games_with_count.filter(\"count > 1\")\n",
    "duplicate_rows = duplicate_rows.orderBy(\"id\")\n",
    "#to see duplicated values\n",
    "# duplicate_rows.toPandas()\n",
    "sum_of_duplicated_values = duplicate_rows.select(F.sum(\"count\")).collect()[0][0]\n",
    "print(\"Sum of all duplicated values:\", sum_of_duplicated_values)"
   ]
  },
  {
   "cell_type": "code",
   "execution_count": 11,
   "id": "bf81de9a",
   "metadata": {},
   "outputs": [],
   "source": [
    "games = games.dropDuplicates(subset=[\"id\"])"
   ]
  },
  {
   "cell_type": "code",
   "execution_count": 11,
   "id": "0af164fa",
   "metadata": {},
   "outputs": [
    {
     "data": {
      "text/html": [
       "<div>\n",
       "<style scoped>\n",
       "    .dataframe tbody tr th:only-of-type {\n",
       "        vertical-align: middle;\n",
       "    }\n",
       "\n",
       "    .dataframe tbody tr th {\n",
       "        vertical-align: top;\n",
       "    }\n",
       "\n",
       "    .dataframe thead th {\n",
       "        text-align: right;\n",
       "    }\n",
       "</style>\n",
       "<table border=\"1\" class=\"dataframe\">\n",
       "  <thead>\n",
       "    <tr style=\"text-align: right;\">\n",
       "      <th></th>\n",
       "      <th>summary</th>\n",
       "      <th>id</th>\n",
       "      <th>start_time</th>\n",
       "      <th>end_time</th>\n",
       "      <th>turns</th>\n",
       "      <th>victory_status</th>\n",
       "      <th>winner</th>\n",
       "      <th>time_increment</th>\n",
       "      <th>white_id</th>\n",
       "      <th>white_rating</th>\n",
       "      <th>black_id</th>\n",
       "      <th>black_rating</th>\n",
       "      <th>opening_eco</th>\n",
       "      <th>opening_name</th>\n",
       "      <th>opening_ply</th>\n",
       "    </tr>\n",
       "  </thead>\n",
       "  <tbody>\n",
       "    <tr>\n",
       "      <th>0</th>\n",
       "      <td>count</td>\n",
       "      <td>19113</td>\n",
       "      <td>19113</td>\n",
       "      <td>19113</td>\n",
       "      <td>19113</td>\n",
       "      <td>19113</td>\n",
       "      <td>19113</td>\n",
       "      <td>19113</td>\n",
       "      <td>19113</td>\n",
       "      <td>19113</td>\n",
       "      <td>19113</td>\n",
       "      <td>19113</td>\n",
       "      <td>19113</td>\n",
       "      <td>19113</td>\n",
       "      <td>19113</td>\n",
       "    </tr>\n",
       "    <tr>\n",
       "      <th>1</th>\n",
       "      <td>mean</td>\n",
       "      <td>None</td>\n",
       "      <td>1.483413101319306E12</td>\n",
       "      <td>1.483413974773335E12</td>\n",
       "      <td>60.513838748495786</td>\n",
       "      <td>None</td>\n",
       "      <td>None</td>\n",
       "      <td>None</td>\n",
       "      <td>2.73448511712766E9</td>\n",
       "      <td>1597.300005232041</td>\n",
       "      <td>6.019286096111111E9</td>\n",
       "      <td>1590.045518756867</td>\n",
       "      <td>None</td>\n",
       "      <td>None</td>\n",
       "      <td>4.815779835713912</td>\n",
       "    </tr>\n",
       "    <tr>\n",
       "      <th>2</th>\n",
       "      <td>stddev</td>\n",
       "      <td>None</td>\n",
       "      <td>2.833975096426031E10</td>\n",
       "      <td>2.833963941969449E10</td>\n",
       "      <td>33.48826396268028</td>\n",
       "      <td>None</td>\n",
       "      <td>None</td>\n",
       "      <td>None</td>\n",
       "      <td>1.1398530926117224E10</td>\n",
       "      <td>290.0227398102661</td>\n",
       "      <td>2.0835821566559532E10</td>\n",
       "      <td>290.44169449070716</td>\n",
       "      <td>None</td>\n",
       "      <td>None</td>\n",
       "      <td>2.7982829080050116</td>\n",
       "    </tr>\n",
       "    <tr>\n",
       "      <th>3</th>\n",
       "      <td>min</td>\n",
       "      <td>005lW0Xz</td>\n",
       "      <td>1.376771633173E12</td>\n",
       "      <td>1.376771863841E12</td>\n",
       "      <td>1</td>\n",
       "      <td>draw</td>\n",
       "      <td>black</td>\n",
       "      <td>0+12</td>\n",
       "      <td>--jim--</td>\n",
       "      <td>784</td>\n",
       "      <td>-0olo0-</td>\n",
       "      <td>789</td>\n",
       "      <td>A00</td>\n",
       "      <td>Alekhine Defense</td>\n",
       "      <td>1</td>\n",
       "    </tr>\n",
       "    <tr>\n",
       "      <th>4</th>\n",
       "      <td>max</td>\n",
       "      <td>zzcDhaYF</td>\n",
       "      <td>1.50449314379E12</td>\n",
       "      <td>1.504493827262E12</td>\n",
       "      <td>349</td>\n",
       "      <td>resign</td>\n",
       "      <td>white</td>\n",
       "      <td>90+8</td>\n",
       "      <td>zzzimon</td>\n",
       "      <td>2700</td>\n",
       "      <td>zztopillo</td>\n",
       "      <td>2723</td>\n",
       "      <td>E98</td>\n",
       "      <td>Zukertort Opening: Wade Defense</td>\n",
       "      <td>28</td>\n",
       "    </tr>\n",
       "  </tbody>\n",
       "</table>\n",
       "</div>"
      ],
      "text/plain": [
       "  summary        id            start_time              end_time  \\\n",
       "0   count     19113                 19113                 19113   \n",
       "1    mean      None  1.483413101319306E12  1.483413974773335E12   \n",
       "2  stddev      None  2.833975096426031E10  2.833963941969449E10   \n",
       "3     min  005lW0Xz     1.376771633173E12     1.376771863841E12   \n",
       "4     max  zzcDhaYF      1.50449314379E12     1.504493827262E12   \n",
       "\n",
       "                turns victory_status winner time_increment  \\\n",
       "0               19113          19113  19113          19113   \n",
       "1  60.513838748495786           None   None           None   \n",
       "2   33.48826396268028           None   None           None   \n",
       "3                   1           draw  black           0+12   \n",
       "4                 349         resign  white           90+8   \n",
       "\n",
       "                white_id       white_rating               black_id  \\\n",
       "0                  19113              19113                  19113   \n",
       "1     2.73448511712766E9  1597.300005232041    6.019286096111111E9   \n",
       "2  1.1398530926117224E10  290.0227398102661  2.0835821566559532E10   \n",
       "3                --jim--                784                -0olo0-   \n",
       "4                zzzimon               2700              zztopillo   \n",
       "\n",
       "         black_rating opening_eco                     opening_name  \\\n",
       "0               19113       19113                            19113   \n",
       "1   1590.045518756867        None                             None   \n",
       "2  290.44169449070716        None                             None   \n",
       "3                 789         A00                 Alekhine Defense   \n",
       "4                2723         E98  Zukertort Opening: Wade Defense   \n",
       "\n",
       "          opening_ply  \n",
       "0               19113  \n",
       "1   4.815779835713912  \n",
       "2  2.7982829080050116  \n",
       "3                   1  \n",
       "4                  28  "
      ]
     },
     "execution_count": 11,
     "metadata": {},
     "output_type": "execute_result"
    }
   ],
   "source": [
    "games.describe().toPandas()"
   ]
  },
  {
   "cell_type": "code",
   "execution_count": 12,
   "id": "918187cf",
   "metadata": {},
   "outputs": [],
   "source": [
    "dataset = games.select(\"*\")"
   ]
  },
  {
   "cell_type": "code",
   "execution_count": 13,
   "id": "840f81ed",
   "metadata": {},
   "outputs": [],
   "source": [
    "dataset2 = games.select(\"*\")"
   ]
  },
  {
   "cell_type": "markdown",
   "id": "f97005cb",
   "metadata": {},
   "source": [
    "## --------------------------Rate values to INT--------------------------"
   ]
  },
  {
   "cell_type": "code",
   "execution_count": 18,
   "id": "e6014d70",
   "metadata": {
    "scrolled": true
   },
   "outputs": [],
   "source": [
    "rate_map,rate_table = string_to_int(\"rated\",dataset)"
   ]
  },
  {
   "cell_type": "code",
   "execution_count": 19,
   "id": "1b122437",
   "metadata": {},
   "outputs": [
    {
     "name": "stdout",
     "output_type": "stream",
     "text": [
      "{0: 'true', 1: 'false'}\n",
      "+-----+-----+\n",
      "|rated|count|\n",
      "+-----+-----+\n",
      "|false| 3646|\n",
      "| true|15467|\n",
      "+-----+-----+\n",
      "\n"
     ]
    }
   ],
   "source": [
    "printMap_and_showTable(rate_map,rate_table)"
   ]
  },
  {
   "cell_type": "markdown",
   "id": "e31abc50",
   "metadata": {},
   "source": [
    "## --------------------------Victory values to INT--------------------------"
   ]
  },
  {
   "cell_type": "code",
   "execution_count": 20,
   "id": "7aa3d377",
   "metadata": {},
   "outputs": [],
   "source": [
    "vic_map,vic_table = string_to_int(\"victory_status\",dataset)"
   ]
  },
  {
   "cell_type": "code",
   "execution_count": 21,
   "id": "916ec3bf",
   "metadata": {},
   "outputs": [
    {
     "name": "stdout",
     "output_type": "stream",
     "text": [
      "{0: 'resign', 1: 'mate', 2: 'outoftime', 3: 'draw'}\n",
      "+--------------+-----+\n",
      "|victory_status|count|\n",
      "+--------------+-----+\n",
      "|        resign|10695|\n",
      "|     outoftime| 1598|\n",
      "|          mate| 5974|\n",
      "|          draw|  846|\n",
      "+--------------+-----+\n",
      "\n"
     ]
    }
   ],
   "source": [
    "printMap_and_showTable(vic_map,vic_table)"
   ]
  },
  {
   "cell_type": "markdown",
   "id": "d6368ca3",
   "metadata": {},
   "source": [
    "## --------------------------Winner values to INT--------------------------"
   ]
  },
  {
   "cell_type": "code",
   "execution_count": 15,
   "id": "43baf03b",
   "metadata": {
    "scrolled": true
   },
   "outputs": [
    {
     "name": "stdout",
     "output_type": "stream",
     "text": [
      "+------+-----------+\n",
      "|winner|sum(winner)|\n",
      "+------+-----------+\n",
      "| white|       NULL|\n",
      "| black|       NULL|\n",
      "|  draw|       NULL|\n",
      "+------+-----------+\n",
      "\n"
     ]
    }
   ],
   "source": [
    "dataset.groupBy(\"winner\").agg(count(\"*\").alias(\"count\"))"
   ]
  },
  {
   "cell_type": "code",
   "execution_count": 16,
   "id": "4645aa05",
   "metadata": {},
   "outputs": [],
   "source": [
    "indexer = StringIndexer(inputCol=\"winner\", outputCol=\"winner_ind\")\n",
    "dataset = indexer.fit(dataset).transform(dataset)"
   ]
  },
  {
   "cell_type": "markdown",
   "id": "1c1a17fd",
   "metadata": {},
   "source": [
    "0 - white  \n",
    "1 - black  \n",
    "2 - draw"
   ]
  },
  {
   "cell_type": "code",
   "execution_count": 17,
   "id": "cad99648",
   "metadata": {},
   "outputs": [],
   "source": [
    "dataset = dataset.withColumn(\"game_duration\", (col(\"last_move_at\") - col(\"created_at\")).cast(\"double\"))"
   ]
  },
  {
   "cell_type": "code",
   "execution_count": 18,
   "id": "e2e079d5",
   "metadata": {},
   "outputs": [],
   "source": [
    "columns_to_drop = [\"id\", \"rated\", \"victory_status\", \"winner\", \"created_at\", \"last_move_at\", \"white_id\", \"black_id\", \"moves\"]\n",
    "dataset = dataset.drop(*columns_to_drop)"
   ]
  },
  {
   "cell_type": "markdown",
   "id": "862db680",
   "metadata": {},
   "source": [
    "\"id\" column is dropped since it is does not provide information for analysis.\n",
    "Our goal is to analyze the moves and its results, not the specific player's chess skills. So \"white_id\" and \"black_id\" columns are dropped, but their ratings remain.  \n",
    "\"created_at\" and \"last_move_at\" columns are dropped and the difference was added to new column \"game_duration\".  \n",
    "Other columns are dropped because they are stored in one hot form in different columns (_ind).  \n",
    "Original dataset is stored in \"games\" dataframe. Preprocessed data will be used to perform analysis and prediction.  \n",
    "TODO  \n",
    "increment_code ??  \n",
    "game_duration ???"
   ]
  },
  {
   "cell_type": "code",
   "execution_count": 19,
   "id": "7c410bf9",
   "metadata": {},
   "outputs": [
    {
     "name": "stdout",
     "output_type": "stream",
     "text": [
      "+-----+--------------+------------+------------+--------------------+-----------+--------------------+-----------+---------+------------------+----------+-------------+\n",
      "|turns|increment_code|white_rating|black_rating|               moves|opening_eco|        opening_name|opening_ply|rated_ind|victory_status_ind|winner_ind|game_duration|\n",
      "+-----+--------------+------------+------------+--------------------+-----------+--------------------+-----------+---------+------------------+----------+-------------+\n",
      "|   13|          15+2|        1500|        1191|d4 d5 c4 c6 cxd5 ...|        D10|Slav Defense: Exc...|          5|        0|               2.0|       0.0|          0.0|\n",
      "|   16|          5+10|        1322|        1261|d4 Nc6 e4 e5 f4 f...|        B00|Nimzowitsch Defen...|          4|        1|               0.0|       1.0|          0.0|\n",
      "|   61|          5+10|        1496|        1500|e4 e5 d3 d6 Be3 c...|        C20|King's Pawn Game:...|          3|        1|               1.0|       0.0|          0.0|\n",
      "|   61|          20+0|        1439|        1454|d4 d5 Nf3 Bf5 Nc3...|        D02|Queen's Pawn Game...|          3|        1|               1.0|       0.0|          0.0|\n",
      "|   95|          30+3|        1523|        1469|e4 e5 Nf3 d6 d4 N...|        C41|    Philidor Defense|          5|        1|               1.0|       0.0|          0.0|\n",
      "|    5|          10+0|        1250|        1002|    e4 c5 Nf3 Qa5 a3|        B27|Sicilian Defense:...|          4|        0|               3.0|       2.0|          0.0|\n",
      "|   33|          10+0|        1520|        1423|d4 d5 e4 dxe4 Nc3...|        D00|Blackmar-Diemer G...|         10|        1|               0.0|       0.0|          0.0|\n",
      "|    9|         15+30|        1413|        2108|e4 Nc6 d4 e5 d5 N...|        B00|Nimzowitsch Defen...|          5|        0|               0.0|       1.0|          0.0|\n",
      "|   66|          15+0|        1439|        1392|e4 e5 Bc4 Nc6 Nf3...|        C50|Italian Game: Sch...|          6|        1|               0.0|       1.0|          0.0|\n",
      "|  119|          10+0|        1381|        1209|e4 d5 exd5 Qxd5 N...|        B01|Scandinavian Defe...|          4|        1|               1.0|       0.0|          0.0|\n",
      "|   39|         20+60|        1381|        1272|e3 e6 d4 d6 Bd3 c...|        A00|Van't Kruijs Opening|          1|        0|               1.0|       0.0|          0.0|\n",
      "|   38|         20+60|        1381|        1867|e4 e6 d4 d5 e5 c5...|        C02|French Defense: A...|          9|        0|               0.0|       1.0|          0.0|\n",
      "|   60|          5+40|        1381|        1936|e4 e6 Nf3 d5 exd5...|        C00|French Defense: K...|          3|        0|               0.0|       1.0|          0.0|\n",
      "|   31|           8+0|        1381|        1607|e4 e6 Qh5 g6 Qe5 ...|        C00|   French Defense #2|          2|        0|               0.0|       1.0|          0.0|\n",
      "|   31|         15+15|        1094|        1141|e4 e5 Nf3 Nc6 Bc4...|        C50|Four Knights Game...|          8|        0|               1.0|       0.0|        1.0E7|\n",
      "|   43|         15+15|        1141|        1094|e4 e5 Nf3 Nc6 Bc4...|        C57|Italian Game: Two...|          7|        0|               0.0|       1.0|          0.0|\n",
      "|   52|         15+15|        1094|        1141|e4 e5 Nf3 Nc6 Bc4...|        C50|Four Knights Game...|          8|        0|               0.0|       1.0|          0.0|\n",
      "|   66|         15+16|        1141|        1094|e4 e5 Nf3 Nc6 Bc4...|        C50|Four Knights Game...|          8|        0|               1.0|       1.0|          0.0|\n",
      "|  101|         15+15|        1094|        1300|e4 e5 Nf3 d6 Bc4 ...|        C41| Philidor Defense #3|          5|        0|               0.0|       1.0|          0.0|\n",
      "|   25|          11+0|        1500|        1094|d4 d5 h3 Nc6 Nf3 ...|        D00|   Queen's Pawn Game|          2|        0|               0.0|       0.0|          0.0|\n",
      "+-----+--------------+------------+------------+--------------------+-----------+--------------------+-----------+---------+------------------+----------+-------------+\n",
      "only showing top 20 rows\n",
      "\n"
     ]
    }
   ],
   "source": [
    "dataset.show()"
   ]
  },
  {
   "cell_type": "markdown",
   "id": "b4ec6cb0",
   "metadata": {},
   "source": [
    "## Data Analysis"
   ]
  },
  {
   "cell_type": "code",
   "execution_count": 14,
   "id": "04392d35",
   "metadata": {
    "scrolled": true
   },
   "outputs": [
    {
     "ename": "TypeError",
     "evalue": "Invalid param value given for param \"inputCol\". Could not convert <class 'pyspark.sql.column.Column'> to string type",
     "output_type": "error",
     "traceback": [
      "\u001b[1;31m---------------------------------------------------------------------------\u001b[0m",
      "\u001b[1;31mTypeError\u001b[0m                                 Traceback (most recent call last)",
      "File \u001b[1;32mc:\\users\\asus\\appdata\\local\\programs\\python\\python39\\lib\\site-packages\\pyspark\\ml\\param\\__init__.py:503\u001b[0m, in \u001b[0;36mParams._set\u001b[1;34m(self, **kwargs)\u001b[0m\n\u001b[0;32m    502\u001b[0m \u001b[38;5;28;01mtry\u001b[39;00m:\n\u001b[1;32m--> 503\u001b[0m     value \u001b[38;5;241m=\u001b[39m \u001b[43mp\u001b[49m\u001b[38;5;241;43m.\u001b[39;49m\u001b[43mtypeConverter\u001b[49m\u001b[43m(\u001b[49m\u001b[43mvalue\u001b[49m\u001b[43m)\u001b[49m\n\u001b[0;32m    504\u001b[0m \u001b[38;5;28;01mexcept\u001b[39;00m \u001b[38;5;167;01mTypeError\u001b[39;00m \u001b[38;5;28;01mas\u001b[39;00m e:\n",
      "File \u001b[1;32mc:\\users\\asus\\appdata\\local\\programs\\python\\python39\\lib\\site-packages\\pyspark\\ml\\param\\__init__.py:236\u001b[0m, in \u001b[0;36mTypeConverters.toString\u001b[1;34m(value)\u001b[0m\n\u001b[0;32m    235\u001b[0m \u001b[38;5;28;01melse\u001b[39;00m:\n\u001b[1;32m--> 236\u001b[0m     \u001b[38;5;28;01mraise\u001b[39;00m \u001b[38;5;167;01mTypeError\u001b[39;00m(\u001b[38;5;124m\"\u001b[39m\u001b[38;5;124mCould not convert \u001b[39m\u001b[38;5;132;01m%s\u001b[39;00m\u001b[38;5;124m to string type\u001b[39m\u001b[38;5;124m\"\u001b[39m \u001b[38;5;241m%\u001b[39m \u001b[38;5;28mtype\u001b[39m(value))\n",
      "\u001b[1;31mTypeError\u001b[0m: Could not convert <class 'pyspark.sql.column.Column'> to string type",
      "\nDuring handling of the above exception, another exception occurred:\n",
      "\u001b[1;31mTypeError\u001b[0m                                 Traceback (most recent call last)",
      "Input \u001b[1;32mIn [14]\u001b[0m, in \u001b[0;36m<cell line: 3>\u001b[1;34m()\u001b[0m\n\u001b[0;32m      1\u001b[0m \u001b[38;5;28;01mfrom\u001b[39;00m \u001b[38;5;21;01mpyspark\u001b[39;00m\u001b[38;5;21;01m.\u001b[39;00m\u001b[38;5;21;01mml\u001b[39;00m\u001b[38;5;21;01m.\u001b[39;00m\u001b[38;5;21;01mfeature\u001b[39;00m \u001b[38;5;28;01mimport\u001b[39;00m StandardScaler\n\u001b[1;32m----> 3\u001b[0m scaler \u001b[38;5;241m=\u001b[39m \u001b[43mStandardScaler\u001b[49m\u001b[43m(\u001b[49m\u001b[43minputCol\u001b[49m\u001b[38;5;241;43m=\u001b[39;49m\u001b[43mgames\u001b[49m\u001b[43m[\u001b[49m\u001b[38;5;124;43m\"\u001b[39;49m\u001b[38;5;124;43mturns\u001b[39;49m\u001b[38;5;124;43m\"\u001b[39;49m\u001b[43m]\u001b[49m\u001b[43m,\u001b[49m\u001b[43m \u001b[49m\u001b[43moutputCol\u001b[49m\u001b[38;5;241;43m=\u001b[39;49m\u001b[38;5;124;43m\"\u001b[39;49m\u001b[38;5;124;43mscaledFeatures\u001b[39;49m\u001b[38;5;124;43m\"\u001b[39;49m\u001b[43m,\u001b[49m\u001b[43m \u001b[49m\u001b[43mwithMean\u001b[49m\u001b[38;5;241;43m=\u001b[39;49m\u001b[38;5;28;43;01mTrue\u001b[39;49;00m\u001b[43m,\u001b[49m\u001b[43m \u001b[49m\u001b[43mwithStd\u001b[49m\u001b[38;5;241;43m=\u001b[39;49m\u001b[38;5;28;43;01mTrue\u001b[39;49;00m\u001b[43m)\u001b[49m\n\u001b[0;32m      4\u001b[0m scalerModel \u001b[38;5;241m=\u001b[39m scaler\u001b[38;5;241m.\u001b[39mfit(games)\n\u001b[0;32m      5\u001b[0m data \u001b[38;5;241m=\u001b[39m scalerModel\u001b[38;5;241m.\u001b[39mtransform(games)\n",
      "File \u001b[1;32mc:\\users\\asus\\appdata\\local\\programs\\python\\python39\\lib\\site-packages\\pyspark\\__init__.py:139\u001b[0m, in \u001b[0;36mkeyword_only.<locals>.wrapper\u001b[1;34m(self, *args, **kwargs)\u001b[0m\n\u001b[0;32m    137\u001b[0m     \u001b[38;5;28;01mraise\u001b[39;00m \u001b[38;5;167;01mTypeError\u001b[39;00m(\u001b[38;5;124m\"\u001b[39m\u001b[38;5;124mMethod \u001b[39m\u001b[38;5;132;01m%s\u001b[39;00m\u001b[38;5;124m forces keyword arguments.\u001b[39m\u001b[38;5;124m\"\u001b[39m \u001b[38;5;241m%\u001b[39m func\u001b[38;5;241m.\u001b[39m\u001b[38;5;18m__name__\u001b[39m)\n\u001b[0;32m    138\u001b[0m \u001b[38;5;28mself\u001b[39m\u001b[38;5;241m.\u001b[39m_input_kwargs \u001b[38;5;241m=\u001b[39m kwargs\n\u001b[1;32m--> 139\u001b[0m \u001b[38;5;28;01mreturn\u001b[39;00m func(\u001b[38;5;28mself\u001b[39m, \u001b[38;5;241m*\u001b[39m\u001b[38;5;241m*\u001b[39mkwargs)\n",
      "File \u001b[1;32mc:\\users\\asus\\appdata\\local\\programs\\python\\python39\\lib\\site-packages\\pyspark\\ml\\feature.py:4389\u001b[0m, in \u001b[0;36mStandardScaler.__init__\u001b[1;34m(self, withMean, withStd, inputCol, outputCol)\u001b[0m\n\u001b[0;32m   4387\u001b[0m \u001b[38;5;28mself\u001b[39m\u001b[38;5;241m.\u001b[39m_java_obj \u001b[38;5;241m=\u001b[39m \u001b[38;5;28mself\u001b[39m\u001b[38;5;241m.\u001b[39m_new_java_obj(\u001b[38;5;124m\"\u001b[39m\u001b[38;5;124morg.apache.spark.ml.feature.StandardScaler\u001b[39m\u001b[38;5;124m\"\u001b[39m, \u001b[38;5;28mself\u001b[39m\u001b[38;5;241m.\u001b[39muid)\n\u001b[0;32m   4388\u001b[0m kwargs \u001b[38;5;241m=\u001b[39m \u001b[38;5;28mself\u001b[39m\u001b[38;5;241m.\u001b[39m_input_kwargs\n\u001b[1;32m-> 4389\u001b[0m \u001b[38;5;28mself\u001b[39m\u001b[38;5;241m.\u001b[39msetParams(\u001b[38;5;241m*\u001b[39m\u001b[38;5;241m*\u001b[39mkwargs)\n",
      "File \u001b[1;32mc:\\users\\asus\\appdata\\local\\programs\\python\\python39\\lib\\site-packages\\pyspark\\__init__.py:139\u001b[0m, in \u001b[0;36mkeyword_only.<locals>.wrapper\u001b[1;34m(self, *args, **kwargs)\u001b[0m\n\u001b[0;32m    137\u001b[0m     \u001b[38;5;28;01mraise\u001b[39;00m \u001b[38;5;167;01mTypeError\u001b[39;00m(\u001b[38;5;124m\"\u001b[39m\u001b[38;5;124mMethod \u001b[39m\u001b[38;5;132;01m%s\u001b[39;00m\u001b[38;5;124m forces keyword arguments.\u001b[39m\u001b[38;5;124m\"\u001b[39m \u001b[38;5;241m%\u001b[39m func\u001b[38;5;241m.\u001b[39m\u001b[38;5;18m__name__\u001b[39m)\n\u001b[0;32m    138\u001b[0m \u001b[38;5;28mself\u001b[39m\u001b[38;5;241m.\u001b[39m_input_kwargs \u001b[38;5;241m=\u001b[39m kwargs\n\u001b[1;32m--> 139\u001b[0m \u001b[38;5;28;01mreturn\u001b[39;00m func(\u001b[38;5;28mself\u001b[39m, \u001b[38;5;241m*\u001b[39m\u001b[38;5;241m*\u001b[39mkwargs)\n",
      "File \u001b[1;32mc:\\users\\asus\\appdata\\local\\programs\\python\\python39\\lib\\site-packages\\pyspark\\ml\\feature.py:4406\u001b[0m, in \u001b[0;36mStandardScaler.setParams\u001b[1;34m(self, withMean, withStd, inputCol, outputCol)\u001b[0m\n\u001b[0;32m   4401\u001b[0m \u001b[38;5;124;03m\"\"\"\u001b[39;00m\n\u001b[0;32m   4402\u001b[0m \u001b[38;5;124;03msetParams(self, \\\\*, withMean=False, withStd=True, inputCol=None, outputCol=None)\u001b[39;00m\n\u001b[0;32m   4403\u001b[0m \u001b[38;5;124;03mSets params for this StandardScaler.\u001b[39;00m\n\u001b[0;32m   4404\u001b[0m \u001b[38;5;124;03m\"\"\"\u001b[39;00m\n\u001b[0;32m   4405\u001b[0m kwargs \u001b[38;5;241m=\u001b[39m \u001b[38;5;28mself\u001b[39m\u001b[38;5;241m.\u001b[39m_input_kwargs\n\u001b[1;32m-> 4406\u001b[0m \u001b[38;5;28;01mreturn\u001b[39;00m \u001b[38;5;28mself\u001b[39m\u001b[38;5;241m.\u001b[39m_set(\u001b[38;5;241m*\u001b[39m\u001b[38;5;241m*\u001b[39mkwargs)\n",
      "File \u001b[1;32mc:\\users\\asus\\appdata\\local\\programs\\python\\python39\\lib\\site-packages\\pyspark\\ml\\param\\__init__.py:505\u001b[0m, in \u001b[0;36mParams._set\u001b[1;34m(self, **kwargs)\u001b[0m\n\u001b[0;32m    503\u001b[0m             value \u001b[38;5;241m=\u001b[39m p\u001b[38;5;241m.\u001b[39mtypeConverter(value)\n\u001b[0;32m    504\u001b[0m         \u001b[38;5;28;01mexcept\u001b[39;00m \u001b[38;5;167;01mTypeError\u001b[39;00m \u001b[38;5;28;01mas\u001b[39;00m e:\n\u001b[1;32m--> 505\u001b[0m             \u001b[38;5;28;01mraise\u001b[39;00m \u001b[38;5;167;01mTypeError\u001b[39;00m(\u001b[38;5;124m'\u001b[39m\u001b[38;5;124mInvalid param value given for param \u001b[39m\u001b[38;5;124m\"\u001b[39m\u001b[38;5;132;01m%s\u001b[39;00m\u001b[38;5;124m\"\u001b[39m\u001b[38;5;124m. \u001b[39m\u001b[38;5;132;01m%s\u001b[39;00m\u001b[38;5;124m'\u001b[39m \u001b[38;5;241m%\u001b[39m (p\u001b[38;5;241m.\u001b[39mname, e))\n\u001b[0;32m    506\u001b[0m     \u001b[38;5;28mself\u001b[39m\u001b[38;5;241m.\u001b[39m_paramMap[p] \u001b[38;5;241m=\u001b[39m value\n\u001b[0;32m    507\u001b[0m \u001b[38;5;28;01mreturn\u001b[39;00m \u001b[38;5;28mself\u001b[39m\n",
      "\u001b[1;31mTypeError\u001b[0m: Invalid param value given for param \"inputCol\". Could not convert <class 'pyspark.sql.column.Column'> to string type"
     ]
    }
   ],
   "source": [
    "#PCA ##########change code\n",
    "from pyspark.ml.feature import StandardScaler\n",
    "\n",
    "scaler = StandardScaler(inputCol=\"turns\", outputCol=\"scaledFeatures\", withMean=True, withStd=True)\n",
    "scalerModel = scaler.fit(games)\n",
    "data = scalerModel.transform(games)\n",
    "data"
   ]
  },
  {
   "cell_type": "code",
   "execution_count": null,
   "id": "57245eec",
   "metadata": {},
   "outputs": [],
   "source": [
    "from pyspark.ml.feature import PCA\n",
    "\n",
    "pca = PCA(k=2, inputCol=\"scaledFeatures\", outputCol=\"pcaFeatures\")\n",
    "pcaModel = pca.fit(data)\n",
    "pcaData = pcaModel.transform(data)"
   ]
  },
  {
   "cell_type": "code",
   "execution_count": null,
   "id": "190ff8e9",
   "metadata": {},
   "outputs": [],
   "source": [
    "explainedVariance = pcaModel.explainedVariance\n",
    "print(explainedVariance)"
   ]
  },
  {
   "cell_type": "markdown",
   "id": "04bf6167",
   "metadata": {},
   "source": [
    "## ML"
   ]
  },
  {
   "cell_type": "code",
   "execution_count": null,
   "id": "334bb2e1",
   "metadata": {},
   "outputs": [],
   "source": []
  },
  {
   "cell_type": "markdown",
   "id": "6b2efd43",
   "metadata": {},
   "source": [
    "### func's"
   ]
  },
  {
   "cell_type": "code",
   "execution_count": 14,
   "id": "e432a701",
   "metadata": {},
   "outputs": [],
   "source": [
    "def string_to_int(col_name, dataset):\n",
    "    indexer = StringIndexer(inputCol= col_name , outputCol= col_name+\"_ind\", stringOrderType=\"frequencyDesc\")\n",
    "    model = indexer.fit(dataset)\n",
    "    indexed_dataset = model.transform(dataset)\n",
    "    #cast double to int and change the dataset\n",
    "    dataset = indexed_dataset.withColumn(col_name+\"_ind\", col(col_name+\"_ind\").cast(IntegerType()))\n",
    "    grouped_data = dataset.groupBy(col_name).agg(count(\"*\").alias(\"count\"))\n",
    "    return dict(enumerate(model.labels)),grouped_data"
   ]
  },
  {
   "cell_type": "code",
   "execution_count": 15,
   "id": "978cea71",
   "metadata": {},
   "outputs": [],
   "source": [
    "def printMap_and_showTable(_map,_table):\n",
    "    print(_map)\n",
    "    _table.show()"
   ]
  }
 ],
 "metadata": {
  "kernelspec": {
   "display_name": "Python 3 (ipykernel)",
   "language": "python",
   "name": "python3"
  },
  "language_info": {
   "codemirror_mode": {
    "name": "ipython",
    "version": 3
   },
   "file_extension": ".py",
   "mimetype": "text/x-python",
   "name": "python",
   "nbconvert_exporter": "python",
   "pygments_lexer": "ipython3",
   "version": "3.10.4"
  }
 },
 "nbformat": 4,
 "nbformat_minor": 5
}
