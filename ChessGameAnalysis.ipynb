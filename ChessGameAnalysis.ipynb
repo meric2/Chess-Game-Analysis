{
 "cells": [
  {
   "cell_type": "markdown",
   "id": "cbd4f79e",
   "metadata": {},
   "source": [
    "# Chess Game Result Analysis - 401 Project\n",
    "### Berkay Yıldız - 201104087\n",
    "### Zeynep Meriç Aşık - 201410026"
   ]
  },
  {
   "cell_type": "code",
   "execution_count": 1,
   "id": "6256a0ea",
   "metadata": {},
   "outputs": [],
   "source": [
    "#!pip install -r requirements.txt"
   ]
  },
  {
   "cell_type": "code",
   "execution_count": null,
   "id": "9788e856",
   "metadata": {},
   "outputs": [],
   "source": [
    "import numpy as np\n",
    "import pandas as pd\n",
    "import matplotlib.pyplot as plt\n",
    "import sklearn\n",
    "%matplotlib inline\n",
    "import seaborn as sns\n",
    "import pyspark"
   ]
  },
  {
   "cell_type": "code",
   "execution_count": null,
   "id": "766ed1f8",
   "metadata": {},
   "outputs": [],
   "source": []
  }
 ],
 "metadata": {
  "kernelspec": {
   "display_name": "Python 3 (ipykernel)",
   "language": "python",
   "name": "python3"
  },
  "language_info": {
   "codemirror_mode": {
    "name": "ipython",
    "version": 3
   },
   "file_extension": ".py",
   "mimetype": "text/x-python",
   "name": "python",
   "nbconvert_exporter": "python",
   "pygments_lexer": "ipython3",
   "version": "3.9.1"
  }
 },
 "nbformat": 4,
 "nbformat_minor": 5
}
